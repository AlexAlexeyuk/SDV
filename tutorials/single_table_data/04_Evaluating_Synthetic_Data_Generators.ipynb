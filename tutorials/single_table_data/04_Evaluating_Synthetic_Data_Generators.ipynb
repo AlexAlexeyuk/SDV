{
 "cells": [
  {
   "cell_type": "markdown",
   "metadata": {},
   "source": [
    "# Evaluating Synthetic Data Generators\n",
    "\n",
    "A very common question when someone starts using **SDV** to generate\n",
    "synthetic data is: _\"How good is the data that I just generated?\"_\n",
    "\n",
    "In order to answer this question, **SDV** has a collection of metrics and tools\n",
    "that allow you to compare the _real_ that you provided and the _synthetic_ data\n",
    "that you generated using **SDV** or any other tool and compute a series of\n",
    "scores that indicate how similar they are.\n",
    "\n",
    "In this guide we will show you how to perform this evaluation and how to explore\n",
    "the different metrics that exist.\n",
    "\n",
    "## Using the SDV Evaluation Framework\n",
    "\n",
    "In order to be able to evaluate the quality of synthetic data we essentially need\n",
    "two things: _real_ data and _synthetic_ data that pretends to resemble it.\n",
    "\n",
    "Let us start by loading a demo table and generate a synthetic replica of it\n",
    "using the `GaussianCopula` model."
   ]
  },
  {
   "cell_type": "code",
   "execution_count": 1,
   "metadata": {
    "nbsphinx": "hidden"
   },
   "outputs": [],
   "source": [
    "# Setup logging and warnings - change ERROR to INFO for increased verbosity\n",
    "import logging\n",
    "logging.basicConfig(level=logging.ERROR)\n",
    "\n",
    "logging.getLogger().setLevel(level=logging.ERROR)\n",
    "logging.getLogger('sdv').setLevel(level=logging.ERROR)\n",
    "\n",
    "import warnings\n",
    "warnings.simplefilter(\"ignore\")"
   ]
  },
  {
   "cell_type": "code",
   "execution_count": 8,
   "metadata": {},
   "outputs": [],
   "source": [
    "from sdv.demo import load_tabular_demo\n",
    "from sdv.tabular import GaussianCopula\n",
    "\n",
    "real_data = load_tabular_demo('student_placements')\n",
    "\n",
    "model = GaussianCopula()\n",
    "model.fit(real_data)\n",
    "synthetic_data = model.sample()"
   ]
  },
  {
   "cell_type": "markdown",
   "metadata": {},
   "source": [
    "After the previous steps we will have two tables:\n",
    "\n",
    "- `real_data`: A table containing data about student placements"
   ]
  },
  {
   "cell_type": "code",
   "execution_count": 7,
   "metadata": {},
   "outputs": [
    {
     "data": {
      "text/html": [
       "<div>\n",
       "<style scoped>\n",
       "    .dataframe tbody tr th:only-of-type {\n",
       "        vertical-align: middle;\n",
       "    }\n",
       "\n",
       "    .dataframe tbody tr th {\n",
       "        vertical-align: top;\n",
       "    }\n",
       "\n",
       "    .dataframe thead th {\n",
       "        text-align: right;\n",
       "    }\n",
       "</style>\n",
       "<table border=\"1\" class=\"dataframe\">\n",
       "  <thead>\n",
       "    <tr style=\"text-align: right;\">\n",
       "      <th></th>\n",
       "      <th>student_id</th>\n",
       "      <th>gender</th>\n",
       "      <th>second_perc</th>\n",
       "      <th>high_perc</th>\n",
       "      <th>high_spec</th>\n",
       "      <th>degree_perc</th>\n",
       "      <th>degree_type</th>\n",
       "      <th>work_experience</th>\n",
       "      <th>experience_years</th>\n",
       "      <th>employability_perc</th>\n",
       "      <th>mba_spec</th>\n",
       "      <th>mba_perc</th>\n",
       "      <th>salary</th>\n",
       "      <th>placed</th>\n",
       "      <th>start_date</th>\n",
       "      <th>end_date</th>\n",
       "      <th>duration</th>\n",
       "    </tr>\n",
       "  </thead>\n",
       "  <tbody>\n",
       "    <tr>\n",
       "      <th>0</th>\n",
       "      <td>17264</td>\n",
       "      <td>M</td>\n",
       "      <td>67.00</td>\n",
       "      <td>91.00</td>\n",
       "      <td>Commerce</td>\n",
       "      <td>58.00</td>\n",
       "      <td>Sci&amp;Tech</td>\n",
       "      <td>False</td>\n",
       "      <td>0</td>\n",
       "      <td>55.0</td>\n",
       "      <td>Mkt&amp;HR</td>\n",
       "      <td>58.80</td>\n",
       "      <td>27000.0</td>\n",
       "      <td>True</td>\n",
       "      <td>2020-07-23</td>\n",
       "      <td>2020-10-12</td>\n",
       "      <td>3.0</td>\n",
       "    </tr>\n",
       "    <tr>\n",
       "      <th>1</th>\n",
       "      <td>17265</td>\n",
       "      <td>M</td>\n",
       "      <td>79.33</td>\n",
       "      <td>78.33</td>\n",
       "      <td>Science</td>\n",
       "      <td>77.48</td>\n",
       "      <td>Sci&amp;Tech</td>\n",
       "      <td>True</td>\n",
       "      <td>1</td>\n",
       "      <td>86.5</td>\n",
       "      <td>Mkt&amp;Fin</td>\n",
       "      <td>66.28</td>\n",
       "      <td>20000.0</td>\n",
       "      <td>True</td>\n",
       "      <td>2020-01-11</td>\n",
       "      <td>2020-04-09</td>\n",
       "      <td>3.0</td>\n",
       "    </tr>\n",
       "    <tr>\n",
       "      <th>2</th>\n",
       "      <td>17266</td>\n",
       "      <td>M</td>\n",
       "      <td>65.00</td>\n",
       "      <td>68.00</td>\n",
       "      <td>Arts</td>\n",
       "      <td>64.00</td>\n",
       "      <td>Comm&amp;Mgmt</td>\n",
       "      <td>False</td>\n",
       "      <td>0</td>\n",
       "      <td>75.0</td>\n",
       "      <td>Mkt&amp;Fin</td>\n",
       "      <td>57.80</td>\n",
       "      <td>25000.0</td>\n",
       "      <td>True</td>\n",
       "      <td>2020-01-26</td>\n",
       "      <td>2020-07-13</td>\n",
       "      <td>6.0</td>\n",
       "    </tr>\n",
       "    <tr>\n",
       "      <th>3</th>\n",
       "      <td>17267</td>\n",
       "      <td>M</td>\n",
       "      <td>56.00</td>\n",
       "      <td>52.00</td>\n",
       "      <td>Science</td>\n",
       "      <td>52.00</td>\n",
       "      <td>Sci&amp;Tech</td>\n",
       "      <td>False</td>\n",
       "      <td>0</td>\n",
       "      <td>66.0</td>\n",
       "      <td>Mkt&amp;HR</td>\n",
       "      <td>59.43</td>\n",
       "      <td>NaN</td>\n",
       "      <td>False</td>\n",
       "      <td>NaT</td>\n",
       "      <td>NaT</td>\n",
       "      <td>NaN</td>\n",
       "    </tr>\n",
       "    <tr>\n",
       "      <th>4</th>\n",
       "      <td>17268</td>\n",
       "      <td>M</td>\n",
       "      <td>85.80</td>\n",
       "      <td>73.60</td>\n",
       "      <td>Commerce</td>\n",
       "      <td>73.30</td>\n",
       "      <td>Comm&amp;Mgmt</td>\n",
       "      <td>False</td>\n",
       "      <td>0</td>\n",
       "      <td>96.8</td>\n",
       "      <td>Mkt&amp;Fin</td>\n",
       "      <td>55.50</td>\n",
       "      <td>42500.0</td>\n",
       "      <td>True</td>\n",
       "      <td>2020-07-04</td>\n",
       "      <td>2020-09-27</td>\n",
       "      <td>3.0</td>\n",
       "    </tr>\n",
       "  </tbody>\n",
       "</table>\n",
       "</div>"
      ],
      "text/plain": [
       "   student_id gender  second_perc  high_perc high_spec  degree_perc  \\\n",
       "0       17264      M        67.00      91.00  Commerce        58.00   \n",
       "1       17265      M        79.33      78.33   Science        77.48   \n",
       "2       17266      M        65.00      68.00      Arts        64.00   \n",
       "3       17267      M        56.00      52.00   Science        52.00   \n",
       "4       17268      M        85.80      73.60  Commerce        73.30   \n",
       "\n",
       "  degree_type  work_experience  experience_years  employability_perc mba_spec  \\\n",
       "0    Sci&Tech            False                 0                55.0   Mkt&HR   \n",
       "1    Sci&Tech             True                 1                86.5  Mkt&Fin   \n",
       "2   Comm&Mgmt            False                 0                75.0  Mkt&Fin   \n",
       "3    Sci&Tech            False                 0                66.0   Mkt&HR   \n",
       "4   Comm&Mgmt            False                 0                96.8  Mkt&Fin   \n",
       "\n",
       "   mba_perc   salary  placed start_date   end_date duration  \n",
       "0     58.80  27000.0    True 2020-07-23 2020-10-12      3.0  \n",
       "1     66.28  20000.0    True 2020-01-11 2020-04-09      3.0  \n",
       "2     57.80  25000.0    True 2020-01-26 2020-07-13      6.0  \n",
       "3     59.43      NaN   False        NaT        NaT      NaN  \n",
       "4     55.50  42500.0    True 2020-07-04 2020-09-27      3.0  "
      ]
     },
     "execution_count": 7,
     "metadata": {},
     "output_type": "execute_result"
    }
   ],
   "source": [
    "real_data.head()"
   ]
  },
  {
   "cell_type": "markdown",
   "metadata": {},
   "source": [
    "- `synthetic_data`: A synthetically generated table that contains data in the\n",
    "  same format and with similar statistical properties as the `real_data`.  "
   ]
  },
  {
   "cell_type": "code",
   "execution_count": 9,
   "metadata": {},
   "outputs": [
    {
     "data": {
      "text/html": [
       "<div>\n",
       "<style scoped>\n",
       "    .dataframe tbody tr th:only-of-type {\n",
       "        vertical-align: middle;\n",
       "    }\n",
       "\n",
       "    .dataframe tbody tr th {\n",
       "        vertical-align: top;\n",
       "    }\n",
       "\n",
       "    .dataframe thead th {\n",
       "        text-align: right;\n",
       "    }\n",
       "</style>\n",
       "<table border=\"1\" class=\"dataframe\">\n",
       "  <thead>\n",
       "    <tr style=\"text-align: right;\">\n",
       "      <th></th>\n",
       "      <th>student_id</th>\n",
       "      <th>gender</th>\n",
       "      <th>second_perc</th>\n",
       "      <th>high_perc</th>\n",
       "      <th>high_spec</th>\n",
       "      <th>degree_perc</th>\n",
       "      <th>degree_type</th>\n",
       "      <th>work_experience</th>\n",
       "      <th>experience_years</th>\n",
       "      <th>employability_perc</th>\n",
       "      <th>mba_spec</th>\n",
       "      <th>mba_perc</th>\n",
       "      <th>salary</th>\n",
       "      <th>placed</th>\n",
       "      <th>start_date</th>\n",
       "      <th>end_date</th>\n",
       "      <th>duration</th>\n",
       "    </tr>\n",
       "  </thead>\n",
       "  <tbody>\n",
       "    <tr>\n",
       "      <th>0</th>\n",
       "      <td>17403</td>\n",
       "      <td>M</td>\n",
       "      <td>64.745363</td>\n",
       "      <td>67.054098</td>\n",
       "      <td>Commerce</td>\n",
       "      <td>67.129322</td>\n",
       "      <td>Comm&amp;Mgmt</td>\n",
       "      <td>False</td>\n",
       "      <td>0</td>\n",
       "      <td>50.000528</td>\n",
       "      <td>Mkt&amp;HR</td>\n",
       "      <td>54.475960</td>\n",
       "      <td>30284.627480</td>\n",
       "      <td>True</td>\n",
       "      <td>2020-01-18 12:02:36.256540672</td>\n",
       "      <td>2020-08-21 21:03:29.414898944</td>\n",
       "      <td>12.0</td>\n",
       "    </tr>\n",
       "    <tr>\n",
       "      <th>1</th>\n",
       "      <td>17459</td>\n",
       "      <td>F</td>\n",
       "      <td>50.331534</td>\n",
       "      <td>75.459284</td>\n",
       "      <td>Commerce</td>\n",
       "      <td>69.408288</td>\n",
       "      <td>Comm&amp;Mgmt</td>\n",
       "      <td>False</td>\n",
       "      <td>0</td>\n",
       "      <td>82.477234</td>\n",
       "      <td>Mkt&amp;Fin</td>\n",
       "      <td>58.853212</td>\n",
       "      <td>32091.931044</td>\n",
       "      <td>True</td>\n",
       "      <td>2020-01-21 06:39:21.449370624</td>\n",
       "      <td>2020-12-23 02:07:20.159499520</td>\n",
       "      <td>12.0</td>\n",
       "    </tr>\n",
       "    <tr>\n",
       "      <th>2</th>\n",
       "      <td>17459</td>\n",
       "      <td>F</td>\n",
       "      <td>54.643007</td>\n",
       "      <td>66.061751</td>\n",
       "      <td>Commerce</td>\n",
       "      <td>59.863628</td>\n",
       "      <td>Comm&amp;Mgmt</td>\n",
       "      <td>False</td>\n",
       "      <td>0</td>\n",
       "      <td>62.777879</td>\n",
       "      <td>Mkt&amp;HR</td>\n",
       "      <td>59.011167</td>\n",
       "      <td>31925.549018</td>\n",
       "      <td>True</td>\n",
       "      <td>2020-03-27 11:08:43.174364160</td>\n",
       "      <td>2020-08-25 22:34:33.743831040</td>\n",
       "      <td>6.0</td>\n",
       "    </tr>\n",
       "    <tr>\n",
       "      <th>3</th>\n",
       "      <td>17273</td>\n",
       "      <td>M</td>\n",
       "      <td>64.324620</td>\n",
       "      <td>68.857534</td>\n",
       "      <td>Commerce</td>\n",
       "      <td>62.917123</td>\n",
       "      <td>Comm&amp;Mgmt</td>\n",
       "      <td>False</td>\n",
       "      <td>1</td>\n",
       "      <td>50.037711</td>\n",
       "      <td>Mkt&amp;HR</td>\n",
       "      <td>53.865449</td>\n",
       "      <td>21786.013378</td>\n",
       "      <td>True</td>\n",
       "      <td>2020-03-15 01:55:28.996904448</td>\n",
       "      <td>2020-08-05 02:36:27.998250240</td>\n",
       "      <td>3.0</td>\n",
       "    </tr>\n",
       "    <tr>\n",
       "      <th>4</th>\n",
       "      <td>17331</td>\n",
       "      <td>M</td>\n",
       "      <td>61.397248</td>\n",
       "      <td>52.729968</td>\n",
       "      <td>Science</td>\n",
       "      <td>55.619599</td>\n",
       "      <td>Sci&amp;Tech</td>\n",
       "      <td>False</td>\n",
       "      <td>0</td>\n",
       "      <td>54.396182</td>\n",
       "      <td>Mkt&amp;HR</td>\n",
       "      <td>54.953005</td>\n",
       "      <td>NaN</td>\n",
       "      <td>False</td>\n",
       "      <td>NaT</td>\n",
       "      <td>NaT</td>\n",
       "      <td>3.0</td>\n",
       "    </tr>\n",
       "  </tbody>\n",
       "</table>\n",
       "</div>"
      ],
      "text/plain": [
       "   student_id gender  second_perc  high_perc high_spec  degree_perc  \\\n",
       "0       17403      M    64.745363  67.054098  Commerce    67.129322   \n",
       "1       17459      F    50.331534  75.459284  Commerce    69.408288   \n",
       "2       17459      F    54.643007  66.061751  Commerce    59.863628   \n",
       "3       17273      M    64.324620  68.857534  Commerce    62.917123   \n",
       "4       17331      M    61.397248  52.729968   Science    55.619599   \n",
       "\n",
       "  degree_type  work_experience  experience_years  employability_perc mba_spec  \\\n",
       "0   Comm&Mgmt            False                 0           50.000528   Mkt&HR   \n",
       "1   Comm&Mgmt            False                 0           82.477234  Mkt&Fin   \n",
       "2   Comm&Mgmt            False                 0           62.777879   Mkt&HR   \n",
       "3   Comm&Mgmt            False                 1           50.037711   Mkt&HR   \n",
       "4    Sci&Tech            False                 0           54.396182   Mkt&HR   \n",
       "\n",
       "    mba_perc        salary  placed                    start_date  \\\n",
       "0  54.475960  30284.627480    True 2020-01-18 12:02:36.256540672   \n",
       "1  58.853212  32091.931044    True 2020-01-21 06:39:21.449370624   \n",
       "2  59.011167  31925.549018    True 2020-03-27 11:08:43.174364160   \n",
       "3  53.865449  21786.013378    True 2020-03-15 01:55:28.996904448   \n",
       "4  54.953005           NaN   False                           NaT   \n",
       "\n",
       "                       end_date duration  \n",
       "0 2020-08-21 21:03:29.414898944     12.0  \n",
       "1 2020-12-23 02:07:20.159499520     12.0  \n",
       "2 2020-08-25 22:34:33.743831040      6.0  \n",
       "3 2020-08-05 02:36:27.998250240      3.0  \n",
       "4                           NaT      3.0  "
      ]
     },
     "execution_count": 9,
     "metadata": {},
     "output_type": "execute_result"
    }
   ],
   "source": [
    "synthetic_data.head()"
   ]
  },
  {
   "cell_type": "markdown",
   "metadata": {},
   "source": [
    ".. note:: For more details about this process, please visit the :ref:`gaussian_copula` guide."
   ]
  },
  {
   "cell_type": "markdown",
   "metadata": {},
   "source": [
    "### Computing an overall score\n",
    "\n",
    "The simplest way to see how similar the two tables are is to import the `sdv.evaluation.evaluate`\n",
    "function and run it passing both the `synthetic_data` and the `real_data` tables."
   ]
  },
  {
   "cell_type": "code",
   "execution_count": 10,
   "metadata": {},
   "outputs": [
    {
     "data": {
      "text/plain": [
       "0.6898332363299029"
      ]
     },
     "execution_count": 10,
     "metadata": {},
     "output_type": "execute_result"
    }
   ],
   "source": [
    "from sdv.evaluation import evaluate\n",
    "\n",
    "evaluate(synthetic_data, real_data)"
   ]
  },
  {
   "cell_type": "markdown",
   "metadata": {},
   "source": [
    "The output of this function call will be a number between 0 and 1 that will\n",
    "indicate us how similar the two tables are, being 0 the worst and 1 the best\n",
    "possible score."
   ]
  },
  {
   "cell_type": "markdown",
   "metadata": {},
   "source": [
    "### How was the obtained score computed?\n",
    "\n",
    "The `evaluate` function applies a collection of pre-configured metric functions and returns\n",
    "the average of the scores that the data obtained on each one of them. In most scenarios this\n",
    "can be enough to get an idea about the similarity of the two tables, but you might want to\n",
    "explore the metrics in more detail.\n",
    "\n",
    "In order to see the different metrics that were applied you can pass and additional argument\n",
    "`aggregate=False`, which will make the `evaluate` function return a dictionary with the scores\n",
    "that each one of the metrics functions returned:"
   ]
  },
  {
   "cell_type": "code",
   "execution_count": 4,
   "metadata": {},
   "outputs": [
    {
     "data": {
      "text/plain": [
       "{'cstest': 0.8808544706979581,\n",
       " 'kstest': 0.5412183833523473,\n",
       " 'logistic_detection': 0.783997710543094,\n",
       " 'svc_detection': 0.8226395409494002}"
      ]
     },
     "execution_count": 4,
     "metadata": {},
     "output_type": "execute_result"
    }
   ],
   "source": [
    "evaluate(synthetic_data, real_data, aggregate=False)"
   ]
  },
  {
   "cell_type": "markdown",
   "metadata": {},
   "source": [
    "### Can I control which metrics are applied?\n",
    "\n",
    "By default, the `evaluate` function will apply all the metrics that are included within\n",
    "the SDV Evaluation framework. However, the list of metrics that are applied can be controlled\n",
    "by passing a list with the names of the metrics that you want to apply.\n",
    "\n",
    "For example, if you were interested on obtaining only the `cstest` and `kstest` metrics\n",
    "you can call the `evaluate` function as follows:"
   ]
  },
  {
   "cell_type": "code",
   "execution_count": 5,
   "metadata": {},
   "outputs": [
    {
     "data": {
      "text/plain": [
       "0.7110364270251527"
      ]
     },
     "execution_count": 5,
     "metadata": {},
     "output_type": "execute_result"
    }
   ],
   "source": [
    "evaluate(synthetic_data, real_data, metrics=['cstest', 'kstest'])"
   ]
  },
  {
   "cell_type": "markdown",
   "metadata": {},
   "source": [
    "Or, if we want to see the scores separately:"
   ]
  },
  {
   "cell_type": "code",
   "execution_count": 6,
   "metadata": {},
   "outputs": [
    {
     "data": {
      "text/plain": [
       "{'cstest': 0.8808544706979581, 'kstest': 0.5412183833523473}"
      ]
     },
     "execution_count": 6,
     "metadata": {},
     "output_type": "execute_result"
    }
   ],
   "source": [
    "evaluate(synthetic_data, real_data, metrics=['cstest', 'kstest'], aggregate=False)"
   ]
  },
  {
   "cell_type": "markdown",
   "metadata": {},
   "source": [
    "The complete list of possible metrics is:\n",
    "\n",
    "* `cstest`: This metric compares the distributions of all the categorical\n",
    "  columns of the table by using a Chi-squared test and returns the average of\n",
    "  the `p-values` obtained across all the columns. If the tables that you are\n",
    "  evaluating do not contain any categorical columns the result will be `nan`.\n",
    "* `kstest`: This metric compares the distributions of all the numerical columns\n",
    "  of the table with a two-sample Kolmogorov–Smirnov test using the empirical CDF\n",
    "  and returns the average of the `p-values` obtained across all the columns.\n",
    "  If the tables that you are evaluating do not contain any numerical columns the\n",
    "  result will be `nan`.\n",
    "* `logistic_detection`: This metric tries to use a Logistic Regression classifier\n",
    "  to detect whether each row is real or synthetic and then evaluates its performance\n",
    "  using an Area under the ROC curve metric.\n",
    "* `svc_detection`: This metric tries to use an Support Vector Classifier\n",
    "  to detect whether each row is real or synthetic and then evaluates its performance\n",
    "  using an Area under the ROC curve metric."
   ]
  }
 ],
 "metadata": {
  "kernelspec": {
   "display_name": "Python 3",
   "language": "python",
   "name": "python3"
  },
  "language_info": {
   "codemirror_mode": {
    "name": "ipython",
    "version": 3
   },
   "file_extension": ".py",
   "mimetype": "text/x-python",
   "name": "python",
   "nbconvert_exporter": "python",
   "pygments_lexer": "ipython3",
   "version": "3.6.9"
  }
 },
 "nbformat": 4,
 "nbformat_minor": 4
}
