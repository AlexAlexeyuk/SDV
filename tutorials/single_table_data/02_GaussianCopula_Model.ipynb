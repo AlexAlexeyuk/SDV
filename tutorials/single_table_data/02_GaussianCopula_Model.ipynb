{
 "cells": [
  {
   "cell_type": "code",
   "execution_count": 1,
   "metadata": {
    "nbsphinx": "hidden"
   },
   "outputs": [],
   "source": [
    "%matplotlib inline\n",
    "\n",
    "# Setup logging and warnings - change ERROR to INFO for increased verbosity\n",
    "import logging;\n",
    "logging.basicConfig(level=logging.ERROR)\n",
    "\n",
    "logging.getLogger().setLevel(level=logging.WARNING)\n",
    "logging.getLogger('sdv').setLevel(level=logging.ERROR)\n",
    "\n",
    "import warnings\n",
    "warnings.simplefilter(\"ignore\")"
   ]
  },
  {
   "cell_type": "markdown",
   "metadata": {},
   "source": [
    "# GaussianCopula Model\n",
    "\n",
    "In this guide we present the `GaussianCopula` model: A tool to model multivariate distributions using\n",
    "[copula functions]( https://en.wikipedia.org/wiki/Copula_%28probability_theory%29), which is based\n",
    "on our [Copulas Library](https://github.com/sdv-dev/Copulas).\n",
    "\n",
    "\n",
    "<div class=\"alert alert-info\">\n",
    "\n",
    "**NOTE**\n",
    "\n",
    "During this guide we will walk you through the specific functionalities of the `GaussianCopula`.\n",
    "For a more generic view of the SDV Tabular Models and their common functionalities, please visit\n",
    "the [Tabular Models](01_Tabular_Models.ipynb) guide.\n",
    "\n",
    "</div>"
   ]
  },
  {
   "cell_type": "markdown",
   "metadata": {},
   "source": [
    "## What is a Gaussian Copula?\n",
    "\n",
    "In mathematical terms, a Gaussian Copula is a distribution over the unit cube\n",
    "${\\displaystyle [0,1]^{d}}$ which is constructed from a multivariate normal distribution over\n",
    "${\\displaystyle \\mathbb {R} ^{d}}$ by using the probability integral transform.\n",
    "\n",
    "Intuitively, a Copula is a mathematical function that allows us to describe the joint distribution of\n",
    "multiple random variables by analyzing the dependencies between their marginal distributions.\n",
    "\n",
    "For more details about Copulas, please visit the [Copulas library documentation](https://sdv.dev/Copulas/tutorials/01_Introduction_to_Copulas.html)\n",
    "\n",
    "Let's now discover how to learn a dataset and later on generate synthetic data with the same\n",
    "format and statistical properties by using the `GaussianCopula` model."
   ]
  },
  {
   "cell_type": "markdown",
   "metadata": {},
   "source": [
    "## Introducing the GaussianCopula\n",
    "\n",
    "We will start by loading one of our demo datasets, the `student_placements`, which we used during\n",
    "[Tabular Models](01_Tabular_Models.ipynb) guide."
   ]
  },
  {
   "cell_type": "code",
   "execution_count": 27,
   "metadata": {},
   "outputs": [
    {
     "data": {
      "text/html": [
       "<div>\n",
       "<style scoped>\n",
       "    .dataframe tbody tr th:only-of-type {\n",
       "        vertical-align: middle;\n",
       "    }\n",
       "\n",
       "    .dataframe tbody tr th {\n",
       "        vertical-align: top;\n",
       "    }\n",
       "\n",
       "    .dataframe thead th {\n",
       "        text-align: right;\n",
       "    }\n",
       "</style>\n",
       "<table border=\"1\" class=\"dataframe\">\n",
       "  <thead>\n",
       "    <tr style=\"text-align: right;\">\n",
       "      <th></th>\n",
       "      <th>0</th>\n",
       "      <th>1</th>\n",
       "      <th>2</th>\n",
       "      <th>3</th>\n",
       "      <th>4</th>\n",
       "    </tr>\n",
       "  </thead>\n",
       "  <tbody>\n",
       "    <tr>\n",
       "      <th>student_id</th>\n",
       "      <td>155368</td>\n",
       "      <td>155369</td>\n",
       "      <td>155370</td>\n",
       "      <td>155371</td>\n",
       "      <td>155372</td>\n",
       "    </tr>\n",
       "    <tr>\n",
       "      <th>gender</th>\n",
       "      <td>M</td>\n",
       "      <td>M</td>\n",
       "      <td>M</td>\n",
       "      <td>M</td>\n",
       "      <td>M</td>\n",
       "    </tr>\n",
       "    <tr>\n",
       "      <th>second_perc</th>\n",
       "      <td>67</td>\n",
       "      <td>79.33</td>\n",
       "      <td>65</td>\n",
       "      <td>56</td>\n",
       "      <td>85.8</td>\n",
       "    </tr>\n",
       "    <tr>\n",
       "      <th>high_perc</th>\n",
       "      <td>91</td>\n",
       "      <td>78.33</td>\n",
       "      <td>68</td>\n",
       "      <td>52</td>\n",
       "      <td>73.6</td>\n",
       "    </tr>\n",
       "    <tr>\n",
       "      <th>high_spec</th>\n",
       "      <td>Commerce</td>\n",
       "      <td>Science</td>\n",
       "      <td>Arts</td>\n",
       "      <td>Science</td>\n",
       "      <td>Commerce</td>\n",
       "    </tr>\n",
       "    <tr>\n",
       "      <th>degree_perc</th>\n",
       "      <td>58</td>\n",
       "      <td>77.48</td>\n",
       "      <td>64</td>\n",
       "      <td>52</td>\n",
       "      <td>73.3</td>\n",
       "    </tr>\n",
       "    <tr>\n",
       "      <th>degree_type</th>\n",
       "      <td>Sci&amp;Tech</td>\n",
       "      <td>Sci&amp;Tech</td>\n",
       "      <td>Comm&amp;Mgmt</td>\n",
       "      <td>Sci&amp;Tech</td>\n",
       "      <td>Comm&amp;Mgmt</td>\n",
       "    </tr>\n",
       "    <tr>\n",
       "      <th>work_experience</th>\n",
       "      <td>False</td>\n",
       "      <td>True</td>\n",
       "      <td>False</td>\n",
       "      <td>False</td>\n",
       "      <td>False</td>\n",
       "    </tr>\n",
       "    <tr>\n",
       "      <th>experience_years</th>\n",
       "      <td>0</td>\n",
       "      <td>1</td>\n",
       "      <td>0</td>\n",
       "      <td>0</td>\n",
       "      <td>0</td>\n",
       "    </tr>\n",
       "    <tr>\n",
       "      <th>employability_perc</th>\n",
       "      <td>55</td>\n",
       "      <td>86.5</td>\n",
       "      <td>75</td>\n",
       "      <td>66</td>\n",
       "      <td>96.8</td>\n",
       "    </tr>\n",
       "    <tr>\n",
       "      <th>mba_spec</th>\n",
       "      <td>Mkt&amp;HR</td>\n",
       "      <td>Mkt&amp;Fin</td>\n",
       "      <td>Mkt&amp;Fin</td>\n",
       "      <td>Mkt&amp;HR</td>\n",
       "      <td>Mkt&amp;Fin</td>\n",
       "    </tr>\n",
       "    <tr>\n",
       "      <th>mba_perc</th>\n",
       "      <td>58.8</td>\n",
       "      <td>66.28</td>\n",
       "      <td>57.8</td>\n",
       "      <td>59.43</td>\n",
       "      <td>55.5</td>\n",
       "    </tr>\n",
       "    <tr>\n",
       "      <th>salary</th>\n",
       "      <td>27000</td>\n",
       "      <td>20000</td>\n",
       "      <td>25000</td>\n",
       "      <td>NaN</td>\n",
       "      <td>42500</td>\n",
       "    </tr>\n",
       "    <tr>\n",
       "      <th>placed</th>\n",
       "      <td>True</td>\n",
       "      <td>True</td>\n",
       "      <td>True</td>\n",
       "      <td>False</td>\n",
       "      <td>True</td>\n",
       "    </tr>\n",
       "    <tr>\n",
       "      <th>start_date</th>\n",
       "      <td>2020-01-08 00:00:00</td>\n",
       "      <td>2020-01-15 00:00:00</td>\n",
       "      <td>2020-01-30 00:00:00</td>\n",
       "      <td>NaT</td>\n",
       "      <td>2020-01-16 00:00:00</td>\n",
       "    </tr>\n",
       "    <tr>\n",
       "      <th>end_date</th>\n",
       "      <td>2020-04-17 00:00:00</td>\n",
       "      <td>2020-04-02 00:00:00</td>\n",
       "      <td>2020-04-27 00:00:00</td>\n",
       "      <td>NaT</td>\n",
       "      <td>2020-04-28 00:00:00</td>\n",
       "    </tr>\n",
       "    <tr>\n",
       "      <th>duration</th>\n",
       "      <td>3.0</td>\n",
       "      <td>3.0</td>\n",
       "      <td>3.0</td>\n",
       "      <td>NaN</td>\n",
       "      <td>3.0</td>\n",
       "    </tr>\n",
       "  </tbody>\n",
       "</table>\n",
       "</div>"
      ],
      "text/plain": [
       "                                      0                    1  \\\n",
       "student_id                       155368               155369   \n",
       "gender                                M                    M   \n",
       "second_perc                          67                79.33   \n",
       "high_perc                            91                78.33   \n",
       "high_spec                      Commerce              Science   \n",
       "degree_perc                          58                77.48   \n",
       "degree_type                    Sci&Tech             Sci&Tech   \n",
       "work_experience                   False                 True   \n",
       "experience_years                      0                    1   \n",
       "employability_perc                   55                 86.5   \n",
       "mba_spec                         Mkt&HR              Mkt&Fin   \n",
       "mba_perc                           58.8                66.28   \n",
       "salary                            27000                20000   \n",
       "placed                             True                 True   \n",
       "start_date          2020-01-08 00:00:00  2020-01-15 00:00:00   \n",
       "end_date            2020-04-17 00:00:00  2020-04-02 00:00:00   \n",
       "duration                            3.0                  3.0   \n",
       "\n",
       "                                      2         3                    4  \n",
       "student_id                       155370    155371               155372  \n",
       "gender                                M         M                    M  \n",
       "second_perc                          65        56                 85.8  \n",
       "high_perc                            68        52                 73.6  \n",
       "high_spec                          Arts   Science             Commerce  \n",
       "degree_perc                          64        52                 73.3  \n",
       "degree_type                   Comm&Mgmt  Sci&Tech            Comm&Mgmt  \n",
       "work_experience                   False     False                False  \n",
       "experience_years                      0         0                    0  \n",
       "employability_perc                   75        66                 96.8  \n",
       "mba_spec                        Mkt&Fin    Mkt&HR              Mkt&Fin  \n",
       "mba_perc                           57.8     59.43                 55.5  \n",
       "salary                            25000       NaN                42500  \n",
       "placed                             True     False                 True  \n",
       "start_date          2020-01-30 00:00:00       NaT  2020-01-16 00:00:00  \n",
       "end_date            2020-04-27 00:00:00       NaT  2020-04-28 00:00:00  \n",
       "duration                            3.0       NaN                  3.0  "
      ]
     },
     "execution_count": 27,
     "metadata": {},
     "output_type": "execute_result"
    }
   ],
   "source": [
    "from sdv.demo import load_tabular_demo\n",
    "\n",
    "data = load_tabular_demo('student_placements')\n",
    "data.head().T"
   ]
  },
  {
   "cell_type": "markdown",
   "metadata": {},
   "source": [
    "As we learned in the [Tabular Models](01_Tabular_Models.ipynb) guide, we can make the\n",
    "`GaussianCopula` model learn the data by calling its `fit` methods:"
   ]
  },
  {
   "cell_type": "code",
   "execution_count": 28,
   "metadata": {},
   "outputs": [],
   "source": [
    "from sdv.tabular import GaussianCopula\n",
    "\n",
    "model = GaussianCopula(\n",
    "    primary_key='student_id'\n",
    ")\n",
    "model.fit(data)"
   ]
  },
  {
   "cell_type": "markdown",
   "metadata": {},
   "source": [
    "During these steps, the `GaussianCopula` model has performed the following operations:\n",
    "\n",
    "1. Learn the format and data types of the passed data\n",
    "2. Transform the non-numerical and null data using [Reversible Data Transforms](\n",
    "   https://github.com/sdv-dev/RDT) to obtain a fully numerical representation of\n",
    "   the data from which we can learn the probability distributions.\n",
    "3. Learn the probability distribution of each column from the table\n",
    "4. Learn the correlation between the marginal probabilities using a Gaussian Copula.\n",
    "\n",
    "After this, we are ready to sample new data for our table using the `sample` method,\n",
    "which will:\n",
    "\n",
    "5. Sample from a Multivariate Standard Normal distribution with the learned correlations.\n",
    "6. Reverse the sampled probabilities using the marginal distributions.\n",
    "7. Reverse the RDT transformations to go back to the original data format."
   ]
  },
  {
   "cell_type": "code",
   "execution_count": 29,
   "metadata": {},
   "outputs": [],
   "source": [
    "new_data = model.sample(len(data))"
   ]
  },
  {
   "cell_type": "code",
   "execution_count": 30,
   "metadata": {},
   "outputs": [
    {
     "data": {
      "text/html": [
       "<div>\n",
       "<style scoped>\n",
       "    .dataframe tbody tr th:only-of-type {\n",
       "        vertical-align: middle;\n",
       "    }\n",
       "\n",
       "    .dataframe tbody tr th {\n",
       "        vertical-align: top;\n",
       "    }\n",
       "\n",
       "    .dataframe thead th {\n",
       "        text-align: right;\n",
       "    }\n",
       "</style>\n",
       "<table border=\"1\" class=\"dataframe\">\n",
       "  <thead>\n",
       "    <tr style=\"text-align: right;\">\n",
       "      <th></th>\n",
       "      <th>0</th>\n",
       "      <th>1</th>\n",
       "      <th>2</th>\n",
       "      <th>3</th>\n",
       "      <th>4</th>\n",
       "    </tr>\n",
       "  </thead>\n",
       "  <tbody>\n",
       "    <tr>\n",
       "      <th>student_id</th>\n",
       "      <td>0</td>\n",
       "      <td>1</td>\n",
       "      <td>2</td>\n",
       "      <td>3</td>\n",
       "      <td>4</td>\n",
       "    </tr>\n",
       "    <tr>\n",
       "      <th>gender</th>\n",
       "      <td>F</td>\n",
       "      <td>M</td>\n",
       "      <td>F</td>\n",
       "      <td>M</td>\n",
       "      <td>F</td>\n",
       "    </tr>\n",
       "    <tr>\n",
       "      <th>second_perc</th>\n",
       "      <td>72.518</td>\n",
       "      <td>65.0203</td>\n",
       "      <td>54.616</td>\n",
       "      <td>84.3534</td>\n",
       "      <td>51.2264</td>\n",
       "    </tr>\n",
       "    <tr>\n",
       "      <th>high_perc</th>\n",
       "      <td>76.7083</td>\n",
       "      <td>65.7491</td>\n",
       "      <td>79.8384</td>\n",
       "      <td>96.3179</td>\n",
       "      <td>60.0453</td>\n",
       "    </tr>\n",
       "    <tr>\n",
       "      <th>high_spec</th>\n",
       "      <td>Commerce</td>\n",
       "      <td>Commerce</td>\n",
       "      <td>Science</td>\n",
       "      <td>Commerce</td>\n",
       "      <td>Science</td>\n",
       "    </tr>\n",
       "    <tr>\n",
       "      <th>degree_perc</th>\n",
       "      <td>75.0649</td>\n",
       "      <td>65.7111</td>\n",
       "      <td>74.5394</td>\n",
       "      <td>63.8325</td>\n",
       "      <td>63.6829</td>\n",
       "    </tr>\n",
       "    <tr>\n",
       "      <th>degree_type</th>\n",
       "      <td>Sci&amp;Tech</td>\n",
       "      <td>Comm&amp;Mgmt</td>\n",
       "      <td>Comm&amp;Mgmt</td>\n",
       "      <td>Sci&amp;Tech</td>\n",
       "      <td>Sci&amp;Tech</td>\n",
       "    </tr>\n",
       "    <tr>\n",
       "      <th>work_experience</th>\n",
       "      <td>False</td>\n",
       "      <td>False</td>\n",
       "      <td>False</td>\n",
       "      <td>False</td>\n",
       "      <td>False</td>\n",
       "    </tr>\n",
       "    <tr>\n",
       "      <th>experience_years</th>\n",
       "      <td>0</td>\n",
       "      <td>1</td>\n",
       "      <td>0</td>\n",
       "      <td>-1</td>\n",
       "      <td>0</td>\n",
       "    </tr>\n",
       "    <tr>\n",
       "      <th>employability_perc</th>\n",
       "      <td>88.9081</td>\n",
       "      <td>50.1851</td>\n",
       "      <td>93.8224</td>\n",
       "      <td>89.7458</td>\n",
       "      <td>89.8229</td>\n",
       "    </tr>\n",
       "    <tr>\n",
       "      <th>mba_spec</th>\n",
       "      <td>Mkt&amp;Fin</td>\n",
       "      <td>Mkt&amp;Fin</td>\n",
       "      <td>Mkt&amp;Fin</td>\n",
       "      <td>Mkt&amp;HR</td>\n",
       "      <td>Mkt&amp;HR</td>\n",
       "    </tr>\n",
       "    <tr>\n",
       "      <th>mba_perc</th>\n",
       "      <td>69.6575</td>\n",
       "      <td>62.1093</td>\n",
       "      <td>72.0788</td>\n",
       "      <td>67.2512</td>\n",
       "      <td>58.8071</td>\n",
       "    </tr>\n",
       "    <tr>\n",
       "      <th>salary</th>\n",
       "      <td>NaN</td>\n",
       "      <td>37779.8</td>\n",
       "      <td>NaN</td>\n",
       "      <td>36643.6</td>\n",
       "      <td>NaN</td>\n",
       "    </tr>\n",
       "    <tr>\n",
       "      <th>placed</th>\n",
       "      <td>False</td>\n",
       "      <td>True</td>\n",
       "      <td>False</td>\n",
       "      <td>True</td>\n",
       "      <td>False</td>\n",
       "    </tr>\n",
       "    <tr>\n",
       "      <th>start_date</th>\n",
       "      <td>NaT</td>\n",
       "      <td>2020-01-31 17:05:38.304327168</td>\n",
       "      <td>NaT</td>\n",
       "      <td>2020-07-29 23:17:05.962566400</td>\n",
       "      <td>NaT</td>\n",
       "    </tr>\n",
       "    <tr>\n",
       "      <th>end_date</th>\n",
       "      <td>NaT</td>\n",
       "      <td>2020-09-04 21:32:44.011475968</td>\n",
       "      <td>NaT</td>\n",
       "      <td>2021-01-26 23:39:37.997646336</td>\n",
       "      <td>NaT</td>\n",
       "    </tr>\n",
       "    <tr>\n",
       "      <th>duration</th>\n",
       "      <td>3.0</td>\n",
       "      <td>3.0</td>\n",
       "      <td>12.0</td>\n",
       "      <td>3.0</td>\n",
       "      <td>12.0</td>\n",
       "    </tr>\n",
       "  </tbody>\n",
       "</table>\n",
       "</div>"
      ],
      "text/plain": [
       "                           0                              1          2  \\\n",
       "student_id                 0                              1          2   \n",
       "gender                     F                              M          F   \n",
       "second_perc           72.518                        65.0203     54.616   \n",
       "high_perc            76.7083                        65.7491    79.8384   \n",
       "high_spec           Commerce                       Commerce    Science   \n",
       "degree_perc          75.0649                        65.7111    74.5394   \n",
       "degree_type         Sci&Tech                      Comm&Mgmt  Comm&Mgmt   \n",
       "work_experience        False                          False      False   \n",
       "experience_years           0                              1          0   \n",
       "employability_perc   88.9081                        50.1851    93.8224   \n",
       "mba_spec             Mkt&Fin                        Mkt&Fin    Mkt&Fin   \n",
       "mba_perc             69.6575                        62.1093    72.0788   \n",
       "salary                   NaN                        37779.8        NaN   \n",
       "placed                 False                           True      False   \n",
       "start_date               NaT  2020-01-31 17:05:38.304327168        NaT   \n",
       "end_date                 NaT  2020-09-04 21:32:44.011475968        NaT   \n",
       "duration                 3.0                            3.0       12.0   \n",
       "\n",
       "                                                3         4  \n",
       "student_id                                      3         4  \n",
       "gender                                          M         F  \n",
       "second_perc                               84.3534   51.2264  \n",
       "high_perc                                 96.3179   60.0453  \n",
       "high_spec                                Commerce   Science  \n",
       "degree_perc                               63.8325   63.6829  \n",
       "degree_type                              Sci&Tech  Sci&Tech  \n",
       "work_experience                             False     False  \n",
       "experience_years                               -1         0  \n",
       "employability_perc                        89.7458   89.8229  \n",
       "mba_spec                                   Mkt&HR    Mkt&HR  \n",
       "mba_perc                                  67.2512   58.8071  \n",
       "salary                                    36643.6       NaN  \n",
       "placed                                       True     False  \n",
       "start_date          2020-07-29 23:17:05.962566400       NaT  \n",
       "end_date            2021-01-26 23:39:37.997646336       NaT  \n",
       "duration                                      3.0      12.0  "
      ]
     },
     "execution_count": 30,
     "metadata": {},
     "output_type": "execute_result"
    }
   ],
   "source": [
    "new_data.head().T"
   ]
  },
  {
   "cell_type": "markdown",
   "metadata": {},
   "source": [
    "## Exploring the Probability Distributions"
   ]
  },
  {
   "cell_type": "markdown",
   "metadata": {},
   "source": [
    "During the pervious steps we learned that the Marginal Probability Distributions\n",
    "have a very important role during the `GaussianCopula` modeling and sampling processes,\n",
    "in which the `GaussianCopula` had to learn the individual distributions of each column\n",
    "in our table.\n",
    "\n",
    "We can explore the distributions which the `GaussianCopula` used to model each\n",
    "column using its `get_distributions` method:"
   ]
  },
  {
   "cell_type": "code",
   "execution_count": 31,
   "metadata": {},
   "outputs": [],
   "source": [
    "distributions = model.get_distributions()"
   ]
  },
  {
   "cell_type": "markdown",
   "metadata": {},
   "source": [
    "This will return us a `dict` which contains the name of the distribution\n",
    "class used for each column:"
   ]
  },
  {
   "cell_type": "code",
   "execution_count": 32,
   "metadata": {
    "scrolled": false
   },
   "outputs": [
    {
     "data": {
      "text/plain": [
       "{'gender#0': 'copulas.univariate.gaussian.GaussianUnivariate',\n",
       " 'gender#1': 'copulas.univariate.gaussian.GaussianUnivariate',\n",
       " 'second_perc': 'copulas.univariate.truncated_gaussian.TruncatedGaussian',\n",
       " 'high_perc': 'copulas.univariate.gaussian.GaussianUnivariate',\n",
       " 'high_spec#0': 'copulas.univariate.gamma.GammaUnivariate',\n",
       " 'high_spec#1': 'copulas.univariate.gaussian.GaussianUnivariate',\n",
       " 'high_spec#2': 'copulas.univariate.gaussian.GaussianUnivariate',\n",
       " 'degree_perc': 'copulas.univariate.student_t.StudentTUnivariate',\n",
       " 'degree_type#0': 'copulas.univariate.student_t.StudentTUnivariate',\n",
       " 'degree_type#1': 'copulas.univariate.gaussian.GaussianUnivariate',\n",
       " 'degree_type#2': 'copulas.univariate.gaussian.GaussianUnivariate',\n",
       " 'work_experience': 'copulas.univariate.student_t.StudentTUnivariate',\n",
       " 'experience_years': 'copulas.univariate.gaussian.GaussianUnivariate',\n",
       " 'employability_perc': 'copulas.univariate.truncated_gaussian.TruncatedGaussian',\n",
       " 'mba_spec#0': 'copulas.univariate.gamma.GammaUnivariate',\n",
       " 'mba_spec#1': 'copulas.univariate.gaussian.GaussianUnivariate',\n",
       " 'mba_perc': 'copulas.univariate.gamma.GammaUnivariate',\n",
       " 'salary#0': 'copulas.univariate.gamma.GammaUnivariate',\n",
       " 'salary#1': 'copulas.univariate.gaussian.GaussianUnivariate',\n",
       " 'placed': 'copulas.univariate.gamma.GammaUnivariate',\n",
       " 'start_date#0': 'copulas.univariate.gamma.GammaUnivariate',\n",
       " 'start_date#1': 'copulas.univariate.gaussian.GaussianUnivariate',\n",
       " 'end_date#0': 'copulas.univariate.beta.BetaUnivariate',\n",
       " 'end_date#1': 'copulas.univariate.gaussian.GaussianUnivariate',\n",
       " 'duration#0': 'copulas.univariate.gaussian.GaussianUnivariate',\n",
       " 'duration#1': 'copulas.univariate.gaussian.GaussianUnivariate',\n",
       " 'duration#2': 'copulas.univariate.student_t.StudentTUnivariate'}"
      ]
     },
     "execution_count": 32,
     "metadata": {},
     "output_type": "execute_result"
    }
   ],
   "source": [
    "distributions"
   ]
  },
  {
   "cell_type": "markdown",
   "metadata": {},
   "source": [
    "<div class=\"alert alert-info\">\n",
    "\n",
    "**NOTE**\n",
    "\n",
    "In this list we will see multiple distributions for each one of the columns\n",
    "that we have in our data. This is because the RDT transformations used\n",
    "to encode the data numerically often use more than one column to represent\n",
    "each one of the input variables.\n",
    "\n",
    "</div>"
   ]
  },
  {
   "cell_type": "markdown",
   "metadata": {},
   "source": [
    "Let's explore the individual distribution of one of the columns in our data to better\n",
    "understand how the `GaussianCopula` processed them and see if we can improve the results\n",
    "by manually specifying a different distribution."
   ]
  },
  {
   "cell_type": "markdown",
   "metadata": {},
   "source": [
    "For example, let's explore the `experience_years` column by looking at the frequency\n",
    "of its values within the original data:"
   ]
  },
  {
   "cell_type": "code",
   "execution_count": 33,
   "metadata": {},
   "outputs": [
    {
     "data": {
      "text/plain": [
       "0    141\n",
       "1     62\n",
       "2      9\n",
       "3      2\n",
       "4      1\n",
       "Name: experience_years, dtype: int64"
      ]
     },
     "execution_count": 33,
     "metadata": {},
     "output_type": "execute_result"
    }
   ],
   "source": [
    "data.experience_years.value_counts()"
   ]
  },
  {
   "cell_type": "markdown",
   "metadata": {},
   "source": [
    "And plotting it using the `copulas.visualization` functions:"
   ]
  },
  {
   "cell_type": "code",
   "execution_count": 34,
   "metadata": {},
   "outputs": [],
   "source": [
    "%matplotlib inline"
   ]
  },
  {
   "cell_type": "code",
   "execution_count": 35,
   "metadata": {},
   "outputs": [
    {
     "data": {
      "text/plain": [
       "<matplotlib.axes._subplots.AxesSubplot at 0x7f884bbdda20>"
      ]
     },
     "execution_count": 35,
     "metadata": {},
     "output_type": "execute_result"
    },
    {
     "data": {
      "image/png": "[encoded data removed]",
      "text/plain": [
       "<Figure size 432x288 with 1 Axes>"
      ]
     },
     "metadata": {
      "needs_background": "light"
     },
     "output_type": "display_data"
    }
   ],
   "source": [
    "from copulas.visualization import hist_1d\n",
    "\n",
    "hist_1d(data.experience_years)"
   ]
  },
  {
   "cell_type": "markdown",
   "metadata": {},
   "source": [
    "By observing the data we can see that the behavior of the values in this column is very\n",
    "similar to a Gamma or even some types of Beta distribution, where the majority of the\n",
    "values are 0 and the frequency decreases as the values increase.\n",
    "\n",
    "Was the `GaussianCopula` able to capture this distribution on its own?"
   ]
  },
  {
   "cell_type": "code",
   "execution_count": 36,
   "metadata": {},
   "outputs": [
    {
     "data": {
      "text/plain": [
       "'copulas.univariate.gaussian.GaussianUnivariate'"
      ]
     },
     "execution_count": 36,
     "metadata": {},
     "output_type": "execute_result"
    }
   ],
   "source": [
    "distributions['experience_years']"
   ]
  },
  {
   "cell_type": "markdown",
   "metadata": {},
   "source": [
    "It seems that the it was not, as it rather thought that the behavior was closer to a\n",
    "Gaussian distribution.\n",
    "\n",
    "And, as a result, we can see how the generated values now contain negative values\n",
    "which are invalid for this column:"
   ]
  },
  {
   "cell_type": "code",
   "execution_count": 37,
   "metadata": {},
   "outputs": [
    {
     "data": {
      "text/plain": [
       " 0    109\n",
       " 1     77\n",
       "-1     18\n",
       " 2     10\n",
       "-2      1\n",
       "Name: experience_years, dtype: int64"
      ]
     },
     "execution_count": 37,
     "metadata": {},
     "output_type": "execute_result"
    }
   ],
   "source": [
    "new_data.experience_years.value_counts()"
   ]
  },
  {
   "cell_type": "code",
   "execution_count": 38,
   "metadata": {
    "scrolled": true
   },
   "outputs": [
    {
     "data": {
      "text/plain": [
       "<matplotlib.axes._subplots.AxesSubplot at 0x7f884bb6beb8>"
      ]
     },
     "execution_count": 38,
     "metadata": {},
     "output_type": "execute_result"
    },
    {
     "data": {
      "image/png": "[encoded data removed]",
      "text/plain": [
       "<Figure size 432x288 with 1 Axes>"
      ]
     },
     "metadata": {
      "needs_background": "light"
     },
     "output_type": "display_data"
    }
   ],
   "source": [
    "hist_1d(new_data.experience_years)"
   ]
  },
  {
   "cell_type": "markdown",
   "metadata": {},
   "source": [
    "Let's see how we can improve this situation by passing the `GaussianCopula`\n",
    "the exact distribution that we want it to use for this column."
   ]
  },
  {
   "cell_type": "markdown",
   "metadata": {},
   "source": [
    "## Customizing the Probability Distributions\n",
    "\n",
    "The `GaussianCopula` class offers the possibility to indicate which distribution to use\n",
    "for each one of the columns in the table, in order to solve situations like the one\n",
    "that we just described.\n",
    "\n",
    "In order to do this, we need to pass a `distributions` argument with `dict` that indicates,\n",
    "the distribution that we want to use for each column.\n",
    "\n",
    "Possible values for the distribution argument are:\n",
    "\n",
    "* `univariate`: Let `copulas` select the optimal univariate distribution.\n",
    "  This may result in non-parametric models being used.\n",
    "* `parametric`: Let `copulas` select the optimal univariate distribution,\n",
    "  but restrict the selection to parametric distributions only.\n",
    "* `bounded`: Let `copulas` select the optimal univariate distribution,\n",
    "  but restrict the selection to bounded distributions only.\n",
    "  This may result in non-parametric models being used.\n",
    "* `semi_bounded`: Let `copulas` select the optimal univariate distribution,\n",
    "  but restrict the selection to semi-bounded distributions only.\n",
    "  This may result in non-parametric models being used.\n",
    "* `parametric_bounded`: Let `copulas` select the optimal univariate\n",
    "  distribution, but restrict the selection to parametric and bounded distributions\n",
    "  only.\n",
    "* `parametric_semi_bounded`: Let `copulas` select the optimal univariate\n",
    "  distribution, but restrict the selection to parametric and semi-bounded\n",
    "  distributions only.\n",
    "* `gaussian`: Use a Gaussian distribution.\n",
    "* `gamma`: Use a Gamma distribution.\n",
    "* `beta`: Use a Beta distribution.\n",
    "* `student_t`: Use a Student T distribution.\n",
    "* `gussian_kde`: Use a GaussianKDE distribution. This model is non-parametric,\n",
    "  so using this will make `get_parameters` unusable.\n",
    "* `truncated_gaussian`: Use a Truncated Gaussian distribution.\n",
    "\n",
    "Let's see what happens if we make the `GaussianCopula` use the `beta` distribution\n",
    "for our column."
   ]
  },
  {
   "cell_type": "code",
   "execution_count": 44,
   "metadata": {
    "scrolled": false
   },
   "outputs": [],
   "source": [
    "from sdv.tabular import GaussianCopula\n",
    "\n",
    "model = GaussianCopula(\n",
    "    primary_key='student_id',\n",
    "    distribution={\n",
    "        'experience_years': 'beta'\n",
    "    }\n",
    ")\n",
    "model.fit(data)"
   ]
  },
  {
   "cell_type": "markdown",
   "metadata": {},
   "source": [
    "After this, we can see how the `GaussianCopula` used the indicated distribution\n",
    "for the `experience_years` column"
   ]
  },
  {
   "cell_type": "code",
   "execution_count": 45,
   "metadata": {},
   "outputs": [
    {
     "data": {
      "text/plain": [
       "'copulas.univariate.beta.BetaUnivariate'"
      ]
     },
     "execution_count": 45,
     "metadata": {},
     "output_type": "execute_result"
    }
   ],
   "source": [
    "model.get_distributions()['experience_years']"
   ]
  },
  {
   "cell_type": "markdown",
   "metadata": {},
   "source": [
    "And, as a result, now we can see how the generated data now have a behavior which is\n",
    "closer to the original data and always stays within the valid values range."
   ]
  },
  {
   "cell_type": "code",
   "execution_count": 46,
   "metadata": {
    "scrolled": false
   },
   "outputs": [],
   "source": [
    "new_data = model.sample(len(data))"
   ]
  },
  {
   "cell_type": "code",
   "execution_count": 47,
   "metadata": {},
   "outputs": [
    {
     "data": {
      "text/plain": [
       "0    144\n",
       "1     27\n",
       "3     16\n",
       "2     16\n",
       "4     12\n",
       "Name: experience_years, dtype: int64"
      ]
     },
     "execution_count": 47,
     "metadata": {},
     "output_type": "execute_result"
    }
   ],
   "source": [
    "new_data.experience_years.value_counts()"
   ]
  },
  {
   "cell_type": "code",
   "execution_count": 48,
   "metadata": {},
   "outputs": [
    {
     "data": {
      "text/plain": [
       "<matplotlib.axes._subplots.AxesSubplot at 0x7f884b9e8a58>"
      ]
     },
     "execution_count": 48,
     "metadata": {},
     "output_type": "execute_result"
    },
    {
     "data": {
      "image/png": "[encoded data removed]",
      "text/plain": [
       "<Figure size 432x288 with 1 Axes>"
      ]
     },
     "metadata": {
      "needs_background": "light"
     },
     "output_type": "display_data"
    }
   ],
   "source": [
    "new_data.experience_years.hist()"
   ]
  },
  {
   "cell_type": "markdown",
   "metadata": {},
   "source": [
    "<div class=\"alert alert-info\">\n",
    "    \n",
    "**NOTE**\n",
    "    \n",
    "Even though there are situations like the one show above where manually choosing\n",
    "a distribution seems to give better results, in most cases the `GaussianCopula`\n",
    "will be able to find the optimal distribution on its own, making this manual\n",
    "search of the marginal distributions necessary on very little occasions.\n",
    "\n",
    "</div>"
   ]
  }
 ],
 "metadata": {
  "kernelspec": {
   "display_name": "Python 3",
   "language": "python",
   "name": "python3"
  },
  "language_info": {
   "codemirror_mode": {
    "name": "ipython",
    "version": 3
   },
   "file_extension": ".py",
   "mimetype": "text/x-python",
   "name": "python",
   "nbconvert_exporter": "python",
   "pygments_lexer": "ipython3",
   "version": "3.6.9"
  }
 },
 "nbformat": 4,
 "nbformat_minor": 4
}
