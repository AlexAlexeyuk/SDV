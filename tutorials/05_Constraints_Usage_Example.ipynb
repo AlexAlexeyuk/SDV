{
 "cells": [
  {
   "cell_type": "code",
   "execution_count": 1,
   "metadata": {},
   "outputs": [],
   "source": [
    "import warnings\n",
    "warnings.simplefilter('ignore')"
   ]
  },
  {
   "cell_type": "code",
   "execution_count": 2,
   "metadata": {},
   "outputs": [],
   "source": [
    "import pandas as pd\n",
    "import numpy as np\n",
    "from faker import Faker\n",
    "\n",
    "age = np.random.randint(30, 50, 12)\n",
    "age_when_joined = age - np.random.randint(0, 10, 12)\n",
    "\n",
    "employees = pd.DataFrame({\n",
    "    'company': ['A', 'A', 'B', 'B', 'C', 'C'] * 2,\n",
    "    'department': ['a', 'b', 'c', 'd', 'e', 'f'] * 2,\n",
    "    'age': age,\n",
    "    'age_when_joined': age_when_joined,\n",
    "    'years_in_the_company': age - age_when_joined\n",
    "})"
   ]
  },
  {
   "cell_type": "code",
   "execution_count": 3,
   "metadata": {},
   "outputs": [
    {
     "data": {
      "text/html": [
       "<div>\n",
       "<style scoped>\n",
       "    .dataframe tbody tr th:only-of-type {\n",
       "        vertical-align: middle;\n",
       "    }\n",
       "\n",
       "    .dataframe tbody tr th {\n",
       "        vertical-align: top;\n",
       "    }\n",
       "\n",
       "    .dataframe thead th {\n",
       "        text-align: right;\n",
       "    }\n",
       "</style>\n",
       "<table border=\"1\" class=\"dataframe\">\n",
       "  <thead>\n",
       "    <tr style=\"text-align: right;\">\n",
       "      <th></th>\n",
       "      <th>company</th>\n",
       "      <th>department</th>\n",
       "      <th>age</th>\n",
       "      <th>age_when_joined</th>\n",
       "      <th>years_in_the_company</th>\n",
       "    </tr>\n",
       "  </thead>\n",
       "  <tbody>\n",
       "    <tr>\n",
       "      <th>0</th>\n",
       "      <td>A</td>\n",
       "      <td>a</td>\n",
       "      <td>41</td>\n",
       "      <td>37</td>\n",
       "      <td>4</td>\n",
       "    </tr>\n",
       "    <tr>\n",
       "      <th>1</th>\n",
       "      <td>A</td>\n",
       "      <td>b</td>\n",
       "      <td>41</td>\n",
       "      <td>34</td>\n",
       "      <td>7</td>\n",
       "    </tr>\n",
       "    <tr>\n",
       "      <th>2</th>\n",
       "      <td>B</td>\n",
       "      <td>c</td>\n",
       "      <td>45</td>\n",
       "      <td>38</td>\n",
       "      <td>7</td>\n",
       "    </tr>\n",
       "    <tr>\n",
       "      <th>3</th>\n",
       "      <td>B</td>\n",
       "      <td>d</td>\n",
       "      <td>49</td>\n",
       "      <td>42</td>\n",
       "      <td>7</td>\n",
       "    </tr>\n",
       "    <tr>\n",
       "      <th>4</th>\n",
       "      <td>C</td>\n",
       "      <td>e</td>\n",
       "      <td>48</td>\n",
       "      <td>43</td>\n",
       "      <td>5</td>\n",
       "    </tr>\n",
       "    <tr>\n",
       "      <th>5</th>\n",
       "      <td>C</td>\n",
       "      <td>f</td>\n",
       "      <td>49</td>\n",
       "      <td>46</td>\n",
       "      <td>3</td>\n",
       "    </tr>\n",
       "    <tr>\n",
       "      <th>6</th>\n",
       "      <td>A</td>\n",
       "      <td>a</td>\n",
       "      <td>48</td>\n",
       "      <td>43</td>\n",
       "      <td>5</td>\n",
       "    </tr>\n",
       "    <tr>\n",
       "      <th>7</th>\n",
       "      <td>A</td>\n",
       "      <td>b</td>\n",
       "      <td>40</td>\n",
       "      <td>36</td>\n",
       "      <td>4</td>\n",
       "    </tr>\n",
       "    <tr>\n",
       "      <th>8</th>\n",
       "      <td>B</td>\n",
       "      <td>c</td>\n",
       "      <td>37</td>\n",
       "      <td>32</td>\n",
       "      <td>5</td>\n",
       "    </tr>\n",
       "    <tr>\n",
       "      <th>9</th>\n",
       "      <td>B</td>\n",
       "      <td>d</td>\n",
       "      <td>49</td>\n",
       "      <td>41</td>\n",
       "      <td>8</td>\n",
       "    </tr>\n",
       "    <tr>\n",
       "      <th>10</th>\n",
       "      <td>C</td>\n",
       "      <td>e</td>\n",
       "      <td>44</td>\n",
       "      <td>41</td>\n",
       "      <td>3</td>\n",
       "    </tr>\n",
       "    <tr>\n",
       "      <th>11</th>\n",
       "      <td>C</td>\n",
       "      <td>f</td>\n",
       "      <td>30</td>\n",
       "      <td>28</td>\n",
       "      <td>2</td>\n",
       "    </tr>\n",
       "  </tbody>\n",
       "</table>\n",
       "</div>"
      ],
      "text/plain": [
       "   company department  age  age_when_joined  years_in_the_company\n",
       "0        A          a   41               37                     4\n",
       "1        A          b   41               34                     7\n",
       "2        B          c   45               38                     7\n",
       "3        B          d   49               42                     7\n",
       "4        C          e   48               43                     5\n",
       "5        C          f   49               46                     3\n",
       "6        A          a   48               43                     5\n",
       "7        A          b   40               36                     4\n",
       "8        B          c   37               32                     5\n",
       "9        B          d   49               41                     8\n",
       "10       C          e   44               41                     3\n",
       "11       C          f   30               28                     2"
      ]
     },
     "execution_count": 3,
     "metadata": {},
     "output_type": "execute_result"
    }
   ],
   "source": [
    "employees"
   ]
  },
  {
   "cell_type": "code",
   "execution_count": 4,
   "metadata": {},
   "outputs": [],
   "source": [
    "company_dept = employees[['company', 'department']].drop_duplicates().values.tolist()"
   ]
  },
  {
   "cell_type": "code",
   "execution_count": 5,
   "metadata": {},
   "outputs": [],
   "source": [
    "company_dept = pd.Series(company_dept).astype(str)"
   ]
  },
  {
   "cell_type": "code",
   "execution_count": 6,
   "metadata": {},
   "outputs": [
    {
     "data": {
      "text/plain": [
       "True"
      ]
     },
     "execution_count": 6,
     "metadata": {},
     "output_type": "execute_result"
    }
   ],
   "source": [
    "pd.Series(\n",
    "    employees[['company', 'department']].drop_duplicates().values.tolist()\n",
    ").astype(str).isin(company_dept).all()"
   ]
  },
  {
   "cell_type": "code",
   "execution_count": 7,
   "metadata": {},
   "outputs": [],
   "source": [
    "def validate(data):\n",
    "    print('Unique company+dept', pd.Series(\n",
    "        data[['company', 'department']].drop_duplicates().values.tolist()\n",
    "    ).astype(str).isin(company_dept).all())\n",
    "    print('age >= age_when_joined', (data['age'] >= data['age_when_joined']).all())\n",
    "    print(\n",
    "        'age - age_when_joined == years',\n",
    "        (data['age'] - data['age_when_joined']).equals(data['years_in_the_company'])\n",
    "    )"
   ]
  },
  {
   "cell_type": "code",
   "execution_count": 8,
   "metadata": {},
   "outputs": [
    {
     "name": "stdout",
     "output_type": "stream",
     "text": [
      "Unique company+dept True\n",
      "age >= age_when_joined True\n",
      "age - age_when_joined == years True\n"
     ]
    }
   ],
   "source": [
    "validate(employees)"
   ]
  },
  {
   "cell_type": "code",
   "execution_count": 9,
   "metadata": {
    "scrolled": false
   },
   "outputs": [
    {
     "name": "stderr",
     "output_type": "stream",
     "text": [
      "2020-07-22 22:29:23,498 - INFO - table - Loading transformer OneHotEncodingTransformer for field company\n",
      "2020-07-22 22:29:23,499 - INFO - table - Loading transformer OneHotEncodingTransformer for field department\n",
      "2020-07-22 22:29:23,499 - INFO - table - Loading transformer NumericalTransformer for field age\n",
      "2020-07-22 22:29:23,500 - INFO - table - Loading transformer NumericalTransformer for field age_when_joined\n",
      "2020-07-22 22:29:23,500 - INFO - table - Loading transformer NumericalTransformer for field years_in_the_company\n",
      "2020-07-22 22:29:23,514 - INFO - gaussian - Fitting GaussianMultivariate()\n"
     ]
    }
   ],
   "source": [
    "from sdv.tabular import GaussianCopula\n",
    "\n",
    "gc = GaussianCopula()\n",
    "gc.fit(employees)"
   ]
  },
  {
   "cell_type": "code",
   "execution_count": 10,
   "metadata": {},
   "outputs": [],
   "source": [
    "sampled = gc.sample(100)"
   ]
  },
  {
   "cell_type": "code",
   "execution_count": 11,
   "metadata": {},
   "outputs": [
    {
     "name": "stdout",
     "output_type": "stream",
     "text": [
      "Unique company+dept False\n",
      "age >= age_when_joined False\n",
      "age - age_when_joined == years False\n"
     ]
    }
   ],
   "source": [
    "validate(sampled)"
   ]
  },
  {
   "cell_type": "code",
   "execution_count": 12,
   "metadata": {},
   "outputs": [],
   "source": [
    "def years_in_the_company(data):\n",
    "    return data['age'] - data['age_when_joined']"
   ]
  },
  {
   "cell_type": "code",
   "execution_count": 18,
   "metadata": {},
   "outputs": [],
   "source": [
    "def age_above_30(data):\n",
    "    return data[data['age'] > 30]"
   ]
  },
  {
   "cell_type": "code",
   "execution_count": 19,
   "metadata": {
    "scrolled": false
   },
   "outputs": [
    {
     "name": "stderr",
     "output_type": "stream",
     "text": [
      "2020-07-22 22:30:00,106 - INFO - table - Loading transformer NumericalTransformer for field age_when_joined\n",
      "2020-07-22 22:30:00,106 - INFO - table - Loading transformer OneHotEncodingTransformer for field company#department\n",
      "2020-07-22 22:30:00,107 - INFO - table - Loading transformer NumericalTransformer for field age\n",
      "2020-07-22 22:30:00,123 - INFO - gaussian - Fitting GaussianMultivariate()\n"
     ]
    }
   ],
   "source": [
    "from sdv.constraints import transformation, validation\n",
    "\n",
    "constraints = [\n",
    "    transformation.UniqueCombinationsConstraint(columns=['company', 'department']),\n",
    "    transformation.GreaterThanConstraint(low='age_when_joined', high='age'),\n",
    "    transformation.ColumnFormulaConstraint('years_in_the_company', years_in_the_company),\n",
    "    validation.ValidationConstraint(age_above_30)\n",
    "]\n",
    "gc = GaussianCopula(constraints=constraints)\n",
    "gc.fit(employees)"
   ]
  },
  {
   "cell_type": "code",
   "execution_count": 20,
   "metadata": {
    "scrolled": false
   },
   "outputs": [
    {
     "name": "stderr",
     "output_type": "stream",
     "text": [
      "2020-07-22 22:30:10,459 - INFO - base - 17 invalid rows found. Resampling 17 rows\n"
     ]
    }
   ],
   "source": [
    "constrained = gc.sample(1000)"
   ]
  },
  {
   "cell_type": "code",
   "execution_count": 21,
   "metadata": {},
   "outputs": [
    {
     "data": {
      "text/html": [
       "<div>\n",
       "<style scoped>\n",
       "    .dataframe tbody tr th:only-of-type {\n",
       "        vertical-align: middle;\n",
       "    }\n",
       "\n",
       "    .dataframe tbody tr th {\n",
       "        vertical-align: top;\n",
       "    }\n",
       "\n",
       "    .dataframe thead th {\n",
       "        text-align: right;\n",
       "    }\n",
       "</style>\n",
       "<table border=\"1\" class=\"dataframe\">\n",
       "  <thead>\n",
       "    <tr style=\"text-align: right;\">\n",
       "      <th></th>\n",
       "      <th>company</th>\n",
       "      <th>department</th>\n",
       "      <th>age</th>\n",
       "      <th>age_when_joined</th>\n",
       "      <th>years_in_the_company</th>\n",
       "    </tr>\n",
       "  </thead>\n",
       "  <tbody>\n",
       "    <tr>\n",
       "      <th>0</th>\n",
       "      <td>B</td>\n",
       "      <td>c</td>\n",
       "      <td>41</td>\n",
       "      <td>38</td>\n",
       "      <td>3</td>\n",
       "    </tr>\n",
       "    <tr>\n",
       "      <th>1</th>\n",
       "      <td>A</td>\n",
       "      <td>a</td>\n",
       "      <td>33</td>\n",
       "      <td>28</td>\n",
       "      <td>5</td>\n",
       "    </tr>\n",
       "    <tr>\n",
       "      <th>2</th>\n",
       "      <td>A</td>\n",
       "      <td>a</td>\n",
       "      <td>51</td>\n",
       "      <td>45</td>\n",
       "      <td>6</td>\n",
       "    </tr>\n",
       "    <tr>\n",
       "      <th>3</th>\n",
       "      <td>A</td>\n",
       "      <td>b</td>\n",
       "      <td>48</td>\n",
       "      <td>44</td>\n",
       "      <td>4</td>\n",
       "    </tr>\n",
       "    <tr>\n",
       "      <th>4</th>\n",
       "      <td>B</td>\n",
       "      <td>d</td>\n",
       "      <td>51</td>\n",
       "      <td>44</td>\n",
       "      <td>7</td>\n",
       "    </tr>\n",
       "  </tbody>\n",
       "</table>\n",
       "</div>"
      ],
      "text/plain": [
       "  company department  age  age_when_joined  years_in_the_company\n",
       "0       B          c   41               38                     3\n",
       "1       A          a   33               28                     5\n",
       "2       A          a   51               45                     6\n",
       "3       A          b   48               44                     4\n",
       "4       B          d   51               44                     7"
      ]
     },
     "execution_count": 21,
     "metadata": {},
     "output_type": "execute_result"
    }
   ],
   "source": [
    "constrained.head()"
   ]
  },
  {
   "cell_type": "code",
   "execution_count": 22,
   "metadata": {},
   "outputs": [
    {
     "name": "stdout",
     "output_type": "stream",
     "text": [
      "Unique company+dept True\n",
      "age >= age_when_joined True\n",
      "age - age_when_joined == years True\n"
     ]
    }
   ],
   "source": [
    "validate(constrained)"
   ]
  }
 ],
 "metadata": {
  "kernelspec": {
   "display_name": "Python 3",
   "language": "python",
   "name": "python3"
  },
  "language_info": {
   "codemirror_mode": {
    "name": "ipython",
    "version": 3
   },
   "file_extension": ".py",
   "mimetype": "text/x-python",
   "name": "python",
   "nbconvert_exporter": "python",
   "pygments_lexer": "ipython3",
   "version": "3.6.9"
  }
 },
 "nbformat": 4,
 "nbformat_minor": 4
}
