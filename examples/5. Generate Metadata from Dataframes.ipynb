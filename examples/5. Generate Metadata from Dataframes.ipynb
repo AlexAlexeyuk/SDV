{
 "cells": [
  {
   "cell_type": "code",
   "execution_count": 1,
   "metadata": {},
   "outputs": [],
   "source": [
    "from sdv import load_demo"
   ]
  },
  {
   "cell_type": "code",
   "execution_count": 2,
   "metadata": {},
   "outputs": [],
   "source": [
    "metadata, tables = load_demo(metadata=True)"
   ]
  },
  {
   "cell_type": "code",
   "execution_count": 3,
   "metadata": {},
   "outputs": [
    {
     "data": {
      "text/plain": [
       "{'tables': {'users': {'primary_key': 'user_id',\n",
       "   'fields': {'user_id': {'type': 'id', 'subtype': 'integer'},\n",
       "    'country': {'type': 'categorical'},\n",
       "    'gender': {'type': 'categorical'},\n",
       "    'age': {'type': 'numerical', 'subtype': 'integer'}}},\n",
       "  'sessions': {'primary_key': 'session_id',\n",
       "   'fields': {'session_id': {'type': 'id', 'subtype': 'integer'},\n",
       "    'user_id': {'ref': {'field': 'user_id', 'table': 'users'},\n",
       "     'type': 'id',\n",
       "     'subtype': 'integer'},\n",
       "    'device': {'type': 'categorical'},\n",
       "    'os': {'type': 'categorical'}}},\n",
       "  'transactions': {'primary_key': 'transaction_id',\n",
       "   'fields': {'transaction_id': {'type': 'id', 'subtype': 'integer'},\n",
       "    'session_id': {'ref': {'field': 'session_id', 'table': 'sessions'},\n",
       "     'type': 'id',\n",
       "     'subtype': 'integer'},\n",
       "    'timestamp': {'type': 'datetime', 'format': '%Y-%m-%d'},\n",
       "    'amount': {'type': 'numerical', 'subtype': 'float'},\n",
       "    'approved': {'type': 'boolean'}}}}}"
      ]
     },
     "execution_count": 3,
     "metadata": {},
     "output_type": "execute_result"
    }
   ],
   "source": [
    "metadata.to_dict()"
   ]
  },
  {
   "cell_type": "code",
   "execution_count": 4,
   "metadata": {},
   "outputs": [
    {
     "data": {
      "text/plain": [
       "{'users':    user_id country gender  age\n",
       " 0        0     USA      M   34\n",
       " 1        1      UK      F   23\n",
       " 2        2      ES   None   44\n",
       " 3        3      UK      M   22\n",
       " 4        4     USA      F   54\n",
       " 5        5      DE      M   57\n",
       " 6        6      BG      F   45\n",
       " 7        7      ES   None   41\n",
       " 8        8      FR      F   23\n",
       " 9        9      UK   None   30,\n",
       " 'sessions':    session_id  user_id  device       os\n",
       " 0           0        0  mobile  android\n",
       " 1           1        1  tablet      ios\n",
       " 2           2        1  tablet  android\n",
       " 3           3        2  mobile  android\n",
       " 4           4        4  mobile      ios\n",
       " 5           5        5  mobile  android\n",
       " 6           6        6  mobile      ios\n",
       " 7           7        6  tablet      ios\n",
       " 8           8        6  mobile      ios\n",
       " 9           9        8  tablet      ios,\n",
       " 'transactions':    transaction_id  session_id           timestamp  amount  approved\n",
       " 0               0           0 2019-01-01 12:34:32   100.0      True\n",
       " 1               1           0 2019-01-01 12:42:21    55.3      True\n",
       " 2               2           1 2019-01-07 17:23:11    79.5      True\n",
       " 3               3           3 2019-01-10 11:08:57   112.1     False\n",
       " 4               4           5 2019-01-10 21:54:08   110.0     False\n",
       " 5               5           5 2019-01-11 11:21:20    76.3      True\n",
       " 6               6           7 2019-01-22 14:44:10    89.5      True\n",
       " 7               7           8 2019-01-23 10:14:09   132.1     False\n",
       " 8               8           9 2019-01-27 16:09:17    68.0      True\n",
       " 9               9           9 2019-01-29 12:10:48    99.9      True}"
      ]
     },
     "execution_count": 4,
     "metadata": {},
     "output_type": "execute_result"
    }
   ],
   "source": [
    "tables"
   ]
  },
  {
   "cell_type": "code",
   "execution_count": 5,
   "metadata": {},
   "outputs": [],
   "source": [
    "from sdv import Metadata\n",
    "\n",
    "new_meta = Metadata()"
   ]
  },
  {
   "cell_type": "code",
   "execution_count": 6,
   "metadata": {},
   "outputs": [],
   "source": [
    "new_meta.add_table('users', data=tables['users'], primary_key='user_id')"
   ]
  },
  {
   "cell_type": "code",
   "execution_count": 7,
   "metadata": {},
   "outputs": [],
   "source": [
    "new_meta.add_table('sessions', data=tables['sessions'], primary_key='session_id',\n",
    "                   parent='users', foreign_key='user_id')"
   ]
  },
  {
   "cell_type": "code",
   "execution_count": 8,
   "metadata": {},
   "outputs": [],
   "source": [
    "transactions_fields = {\n",
    "    'timestamp': {\n",
    "        'type': 'datetime',\n",
    "        'format': '%Y-%m-%d'\n",
    "    }\n",
    "}\n",
    "new_meta.add_table('transactions', tables['transactions'], fields_metadata=transactions_fields,\n",
    "                   primary_key='transaction_id', parent='sessions')"
   ]
  },
  {
   "cell_type": "code",
   "execution_count": 9,
   "metadata": {},
   "outputs": [
    {
     "data": {
      "text/plain": [
       "{'tables': {'users': {'fields': {'user_id': {'type': 'id',\n",
       "     'subtype': 'integer'},\n",
       "    'country': {'type': 'categorical'},\n",
       "    'age': {'type': 'numerical', 'subtype': 'integer'},\n",
       "    'gender': {'type': 'categorical'}},\n",
       "   'primary_key': 'user_id'},\n",
       "  'sessions': {'fields': {'user_id': {'type': 'id',\n",
       "     'subtype': 'integer',\n",
       "     'ref': {'table': 'users', 'field': 'user_id'}},\n",
       "    'device': {'type': 'categorical'},\n",
       "    'session_id': {'type': 'id', 'subtype': 'integer'},\n",
       "    'os': {'type': 'categorical'}},\n",
       "   'primary_key': 'session_id'},\n",
       "  'transactions': {'fields': {'timestamp': {'type': 'datetime',\n",
       "     'format': '%Y-%m-%d'},\n",
       "    'approved': {'type': 'boolean'},\n",
       "    'amount': {'type': 'numerical', 'subtype': 'float'},\n",
       "    'transaction_id': {'type': 'id', 'subtype': 'integer'},\n",
       "    'session_id': {'type': 'id',\n",
       "     'subtype': 'integer',\n",
       "     'ref': {'table': 'sessions', 'field': 'session_id'}}},\n",
       "   'primary_key': 'transaction_id'}}}"
      ]
     },
     "execution_count": 9,
     "metadata": {},
     "output_type": "execute_result"
    }
   ],
   "source": [
    "new_meta.to_dict()"
   ]
  },
  {
   "cell_type": "code",
   "execution_count": 10,
   "metadata": {},
   "outputs": [
    {
     "data": {
      "text/plain": [
       "True"
      ]
     },
     "execution_count": 10,
     "metadata": {},
     "output_type": "execute_result"
    }
   ],
   "source": [
    "new_meta.to_dict() == metadata.to_dict()"
   ]
  },
  {
   "cell_type": "code",
   "execution_count": 11,
   "metadata": {},
   "outputs": [],
   "source": [
    "new_meta.to_json('demo_metadata.json')"
   ]
  },
  {
   "cell_type": "code",
   "execution_count": 12,
   "metadata": {},
   "outputs": [],
   "source": [
    "loaded = Metadata('demo_metadata.json')"
   ]
  },
  {
   "cell_type": "code",
   "execution_count": 13,
   "metadata": {},
   "outputs": [
    {
     "data": {
      "text/plain": [
       "True"
      ]
     },
     "execution_count": 13,
     "metadata": {},
     "output_type": "execute_result"
    }
   ],
   "source": [
    "loaded.to_dict() == new_meta.to_dict()"
   ]
  },
  {
   "cell_type": "code",
   "execution_count": 14,
   "metadata": {},
   "outputs": [
    {
     "data": {
      "image/svg+xml": [
       "<?xml version=\"1.0\" encoding=\"UTF-8\" standalone=\"no\"?>\n",
       "<!DOCTYPE svg PUBLIC \"-//W3C//DTD SVG 1.1//EN\"\n",
       " \"http://www.w3.org/Graphics/SVG/1.1/DTD/svg11.dtd\">\n",
       "<!-- Generated by graphviz version 2.40.1 (20161225.0304)\n",
       " -->\n",
       "<!-- Title: Metadata Pages: 1 -->\n",
       "<svg width=\"325pt\" height=\"401pt\"\n",
       " viewBox=\"0.00 0.00 324.50 401.00\" xmlns=\"http://www.w3.org/2000/svg\" xmlns:xlink=\"http://www.w3.org/1999/xlink\">\n",
       "<g id=\"graph0\" class=\"graph\" transform=\"scale(1 1) rotate(0) translate(4 397)\">\n",
       "<title>Metadata</title>\n",
       "<polygon fill=\"#ffffff\" stroke=\"transparent\" points=\"-4,4 -4,-397 320.5,-397 320.5,4 -4,4\"/>\n",
       "<!-- users -->\n",
       "<g id=\"node1\" class=\"node\">\n",
       "<title>users</title>\n",
       "<path fill=\"none\" stroke=\"#000000\" d=\"M14.5,-301.5C14.5,-301.5 118.5,-301.5 118.5,-301.5 124.5,-301.5 130.5,-307.5 130.5,-313.5 130.5,-313.5 130.5,-380.5 130.5,-380.5 130.5,-386.5 124.5,-392.5 118.5,-392.5 118.5,-392.5 14.5,-392.5 14.5,-392.5 8.5,-392.5 2.5,-386.5 2.5,-380.5 2.5,-380.5 2.5,-313.5 2.5,-313.5 2.5,-307.5 8.5,-301.5 14.5,-301.5\"/>\n",
       "<text text-anchor=\"middle\" x=\"66.5\" y=\"-377.3\" font-family=\"Times,serif\" font-size=\"14.00\" fill=\"#000000\">users</text>\n",
       "<polyline fill=\"none\" stroke=\"#000000\" points=\"2.5,-369.5 130.5,-369.5 \"/>\n",
       "<text text-anchor=\"start\" x=\"10.5\" y=\"-354.3\" font-family=\"Times,serif\" font-size=\"14.00\" fill=\"#000000\">user_id : id</text>\n",
       "<text text-anchor=\"start\" x=\"10.5\" y=\"-339.3\" font-family=\"Times,serif\" font-size=\"14.00\" fill=\"#000000\">country : categorical</text>\n",
       "<text text-anchor=\"start\" x=\"10.5\" y=\"-324.3\" font-family=\"Times,serif\" font-size=\"14.00\" fill=\"#000000\">gender : categorical</text>\n",
       "<text text-anchor=\"start\" x=\"10.5\" y=\"-309.3\" font-family=\"Times,serif\" font-size=\"14.00\" fill=\"#000000\">age : numerical</text>\n",
       "</g>\n",
       "<!-- sessions -->\n",
       "<g id=\"node2\" class=\"node\">\n",
       "<title>sessions</title>\n",
       "<path fill=\"none\" stroke=\"#000000\" d=\"M17.5,-158.5C17.5,-158.5 115.5,-158.5 115.5,-158.5 121.5,-158.5 127.5,-164.5 127.5,-170.5 127.5,-170.5 127.5,-237.5 127.5,-237.5 127.5,-243.5 121.5,-249.5 115.5,-249.5 115.5,-249.5 17.5,-249.5 17.5,-249.5 11.5,-249.5 5.5,-243.5 5.5,-237.5 5.5,-237.5 5.5,-170.5 5.5,-170.5 5.5,-164.5 11.5,-158.5 17.5,-158.5\"/>\n",
       "<text text-anchor=\"middle\" x=\"66.5\" y=\"-234.3\" font-family=\"Times,serif\" font-size=\"14.00\" fill=\"#000000\">sessions</text>\n",
       "<polyline fill=\"none\" stroke=\"#000000\" points=\"5.5,-226.5 127.5,-226.5 \"/>\n",
       "<text text-anchor=\"start\" x=\"13.5\" y=\"-211.3\" font-family=\"Times,serif\" font-size=\"14.00\" fill=\"#000000\">session_id : id</text>\n",
       "<text text-anchor=\"start\" x=\"13.5\" y=\"-196.3\" font-family=\"Times,serif\" font-size=\"14.00\" fill=\"#000000\">user_id : id</text>\n",
       "<text text-anchor=\"start\" x=\"13.5\" y=\"-181.3\" font-family=\"Times,serif\" font-size=\"14.00\" fill=\"#000000\">device : categorical</text>\n",
       "<text text-anchor=\"start\" x=\"13.5\" y=\"-166.3\" font-family=\"Times,serif\" font-size=\"14.00\" fill=\"#000000\">os : categorical</text>\n",
       "</g>\n",
       "<!-- sessions&#45;&gt;users -->\n",
       "<g id=\"edge1\" class=\"edge\">\n",
       "<title>sessions&#45;&gt;users</title>\n",
       "<path fill=\"none\" stroke=\"#000000\" d=\"M66.5,-249.6393C66.5,-262.7966 66.5,-277.3041 66.5,-291.0124\"/>\n",
       "<polygon fill=\"#000000\" stroke=\"#000000\" points=\"63.0001,-291.3038 66.5,-301.3038 70.0001,-291.3039 63.0001,-291.3038\"/>\n",
       "<text text-anchor=\"middle\" x=\"156.5\" y=\"-271.8\" font-family=\"Times,serif\" font-size=\"14.00\" fill=\"#000000\">sessions.user_id &#45;&gt; users.user_id</text>\n",
       "</g>\n",
       "<!-- transactions -->\n",
       "<g id=\"node3\" class=\"node\">\n",
       "<title>transactions</title>\n",
       "<path fill=\"none\" stroke=\"#000000\" d=\"M12,-.5C12,-.5 121,-.5 121,-.5 127,-.5 133,-6.5 133,-12.5 133,-12.5 133,-94.5 133,-94.5 133,-100.5 127,-106.5 121,-106.5 121,-106.5 12,-106.5 12,-106.5 6,-106.5 0,-100.5 0,-94.5 0,-94.5 0,-12.5 0,-12.5 0,-6.5 6,-.5 12,-.5\"/>\n",
       "<text text-anchor=\"middle\" x=\"66.5\" y=\"-91.3\" font-family=\"Times,serif\" font-size=\"14.00\" fill=\"#000000\">transactions</text>\n",
       "<polyline fill=\"none\" stroke=\"#000000\" points=\"0,-83.5 133,-83.5 \"/>\n",
       "<text text-anchor=\"start\" x=\"8\" y=\"-68.3\" font-family=\"Times,serif\" font-size=\"14.00\" fill=\"#000000\">transaction_id : id</text>\n",
       "<text text-anchor=\"start\" x=\"8\" y=\"-53.3\" font-family=\"Times,serif\" font-size=\"14.00\" fill=\"#000000\">session_id : id</text>\n",
       "<text text-anchor=\"start\" x=\"8\" y=\"-38.3\" font-family=\"Times,serif\" font-size=\"14.00\" fill=\"#000000\">timestamp : datetime</text>\n",
       "<text text-anchor=\"start\" x=\"8\" y=\"-23.3\" font-family=\"Times,serif\" font-size=\"14.00\" fill=\"#000000\">amount : numerical</text>\n",
       "<text text-anchor=\"start\" x=\"8\" y=\"-8.3\" font-family=\"Times,serif\" font-size=\"14.00\" fill=\"#000000\">approved : boolean</text>\n",
       "</g>\n",
       "<!-- transactions&#45;&gt;sessions -->\n",
       "<g id=\"edge2\" class=\"edge\">\n",
       "<title>transactions&#45;&gt;sessions</title>\n",
       "<path fill=\"none\" stroke=\"#000000\" d=\"M66.5,-106.5607C66.5,-120.0484 66.5,-134.5805 66.5,-148.2001\"/>\n",
       "<polygon fill=\"#000000\" stroke=\"#000000\" points=\"63.0001,-148.4046 66.5,-158.4047 70.0001,-148.4047 63.0001,-148.4046\"/>\n",
       "<text text-anchor=\"middle\" x=\"191.5\" y=\"-128.8\" font-family=\"Times,serif\" font-size=\"14.00\" fill=\"#000000\">transactions.session_id &#45;&gt; sessions.session_id</text>\n",
       "</g>\n",
       "</g>\n",
       "</svg>\n"
      ],
      "text/plain": [
       "<graphviz.dot.Digraph at 0x7f8fd284fd68>"
      ]
     },
     "execution_count": 14,
     "metadata": {},
     "output_type": "execute_result"
    }
   ],
   "source": [
    "metadata.visualize()"
   ]
  },
  {
   "cell_type": "code",
   "execution_count": 15,
   "metadata": {},
   "outputs": [
    {
     "data": {
      "image/svg+xml": [
       "<?xml version=\"1.0\" encoding=\"UTF-8\" standalone=\"no\"?>\n",
       "<!DOCTYPE svg PUBLIC \"-//W3C//DTD SVG 1.1//EN\"\n",
       " \"http://www.w3.org/Graphics/SVG/1.1/DTD/svg11.dtd\">\n",
       "<!-- Generated by graphviz version 2.40.1 (20161225.0304)\n",
       " -->\n",
       "<!-- Title: Metadata Pages: 1 -->\n",
       "<svg width=\"325pt\" height=\"401pt\"\n",
       " viewBox=\"0.00 0.00 324.50 401.00\" xmlns=\"http://www.w3.org/2000/svg\" xmlns:xlink=\"http://www.w3.org/1999/xlink\">\n",
       "<g id=\"graph0\" class=\"graph\" transform=\"scale(1 1) rotate(0) translate(4 397)\">\n",
       "<title>Metadata</title>\n",
       "<polygon fill=\"#ffffff\" stroke=\"transparent\" points=\"-4,4 -4,-397 320.5,-397 320.5,4 -4,4\"/>\n",
       "<!-- users -->\n",
       "<g id=\"node1\" class=\"node\">\n",
       "<title>users</title>\n",
       "<path fill=\"none\" stroke=\"#000000\" d=\"M14.5,-301.5C14.5,-301.5 118.5,-301.5 118.5,-301.5 124.5,-301.5 130.5,-307.5 130.5,-313.5 130.5,-313.5 130.5,-380.5 130.5,-380.5 130.5,-386.5 124.5,-392.5 118.5,-392.5 118.5,-392.5 14.5,-392.5 14.5,-392.5 8.5,-392.5 2.5,-386.5 2.5,-380.5 2.5,-380.5 2.5,-313.5 2.5,-313.5 2.5,-307.5 8.5,-301.5 14.5,-301.5\"/>\n",
       "<text text-anchor=\"middle\" x=\"66.5\" y=\"-377.3\" font-family=\"Times,serif\" font-size=\"14.00\" fill=\"#000000\">users</text>\n",
       "<polyline fill=\"none\" stroke=\"#000000\" points=\"2.5,-369.5 130.5,-369.5 \"/>\n",
       "<text text-anchor=\"start\" x=\"10.5\" y=\"-354.3\" font-family=\"Times,serif\" font-size=\"14.00\" fill=\"#000000\">user_id : id</text>\n",
       "<text text-anchor=\"start\" x=\"10.5\" y=\"-339.3\" font-family=\"Times,serif\" font-size=\"14.00\" fill=\"#000000\">country : categorical</text>\n",
       "<text text-anchor=\"start\" x=\"10.5\" y=\"-324.3\" font-family=\"Times,serif\" font-size=\"14.00\" fill=\"#000000\">age : numerical</text>\n",
       "<text text-anchor=\"start\" x=\"10.5\" y=\"-309.3\" font-family=\"Times,serif\" font-size=\"14.00\" fill=\"#000000\">gender : categorical</text>\n",
       "</g>\n",
       "<!-- sessions -->\n",
       "<g id=\"node2\" class=\"node\">\n",
       "<title>sessions</title>\n",
       "<path fill=\"none\" stroke=\"#000000\" d=\"M17.5,-158.5C17.5,-158.5 115.5,-158.5 115.5,-158.5 121.5,-158.5 127.5,-164.5 127.5,-170.5 127.5,-170.5 127.5,-237.5 127.5,-237.5 127.5,-243.5 121.5,-249.5 115.5,-249.5 115.5,-249.5 17.5,-249.5 17.5,-249.5 11.5,-249.5 5.5,-243.5 5.5,-237.5 5.5,-237.5 5.5,-170.5 5.5,-170.5 5.5,-164.5 11.5,-158.5 17.5,-158.5\"/>\n",
       "<text text-anchor=\"middle\" x=\"66.5\" y=\"-234.3\" font-family=\"Times,serif\" font-size=\"14.00\" fill=\"#000000\">sessions</text>\n",
       "<polyline fill=\"none\" stroke=\"#000000\" points=\"5.5,-226.5 127.5,-226.5 \"/>\n",
       "<text text-anchor=\"start\" x=\"13.5\" y=\"-211.3\" font-family=\"Times,serif\" font-size=\"14.00\" fill=\"#000000\">user_id : id</text>\n",
       "<text text-anchor=\"start\" x=\"13.5\" y=\"-196.3\" font-family=\"Times,serif\" font-size=\"14.00\" fill=\"#000000\">device : categorical</text>\n",
       "<text text-anchor=\"start\" x=\"13.5\" y=\"-181.3\" font-family=\"Times,serif\" font-size=\"14.00\" fill=\"#000000\">session_id : id</text>\n",
       "<text text-anchor=\"start\" x=\"13.5\" y=\"-166.3\" font-family=\"Times,serif\" font-size=\"14.00\" fill=\"#000000\">os : categorical</text>\n",
       "</g>\n",
       "<!-- sessions&#45;&gt;users -->\n",
       "<g id=\"edge1\" class=\"edge\">\n",
       "<title>sessions&#45;&gt;users</title>\n",
       "<path fill=\"none\" stroke=\"#000000\" d=\"M66.5,-249.6393C66.5,-262.7966 66.5,-277.3041 66.5,-291.0124\"/>\n",
       "<polygon fill=\"#000000\" stroke=\"#000000\" points=\"63.0001,-291.3038 66.5,-301.3038 70.0001,-291.3039 63.0001,-291.3038\"/>\n",
       "<text text-anchor=\"middle\" x=\"156.5\" y=\"-271.8\" font-family=\"Times,serif\" font-size=\"14.00\" fill=\"#000000\">sessions.user_id &#45;&gt; users.user_id</text>\n",
       "</g>\n",
       "<!-- transactions -->\n",
       "<g id=\"node3\" class=\"node\">\n",
       "<title>transactions</title>\n",
       "<path fill=\"none\" stroke=\"#000000\" d=\"M12,-.5C12,-.5 121,-.5 121,-.5 127,-.5 133,-6.5 133,-12.5 133,-12.5 133,-94.5 133,-94.5 133,-100.5 127,-106.5 121,-106.5 121,-106.5 12,-106.5 12,-106.5 6,-106.5 0,-100.5 0,-94.5 0,-94.5 0,-12.5 0,-12.5 0,-6.5 6,-.5 12,-.5\"/>\n",
       "<text text-anchor=\"middle\" x=\"66.5\" y=\"-91.3\" font-family=\"Times,serif\" font-size=\"14.00\" fill=\"#000000\">transactions</text>\n",
       "<polyline fill=\"none\" stroke=\"#000000\" points=\"0,-83.5 133,-83.5 \"/>\n",
       "<text text-anchor=\"start\" x=\"8\" y=\"-68.3\" font-family=\"Times,serif\" font-size=\"14.00\" fill=\"#000000\">timestamp : datetime</text>\n",
       "<text text-anchor=\"start\" x=\"8\" y=\"-53.3\" font-family=\"Times,serif\" font-size=\"14.00\" fill=\"#000000\">approved : boolean</text>\n",
       "<text text-anchor=\"start\" x=\"8\" y=\"-38.3\" font-family=\"Times,serif\" font-size=\"14.00\" fill=\"#000000\">amount : numerical</text>\n",
       "<text text-anchor=\"start\" x=\"8\" y=\"-23.3\" font-family=\"Times,serif\" font-size=\"14.00\" fill=\"#000000\">transaction_id : id</text>\n",
       "<text text-anchor=\"start\" x=\"8\" y=\"-8.3\" font-family=\"Times,serif\" font-size=\"14.00\" fill=\"#000000\">session_id : id</text>\n",
       "</g>\n",
       "<!-- transactions&#45;&gt;sessions -->\n",
       "<g id=\"edge2\" class=\"edge\">\n",
       "<title>transactions&#45;&gt;sessions</title>\n",
       "<path fill=\"none\" stroke=\"#000000\" d=\"M66.5,-106.5607C66.5,-120.0484 66.5,-134.5805 66.5,-148.2001\"/>\n",
       "<polygon fill=\"#000000\" stroke=\"#000000\" points=\"63.0001,-148.4046 66.5,-158.4047 70.0001,-148.4047 63.0001,-148.4046\"/>\n",
       "<text text-anchor=\"middle\" x=\"191.5\" y=\"-128.8\" font-family=\"Times,serif\" font-size=\"14.00\" fill=\"#000000\">transactions.session_id &#45;&gt; sessions.session_id</text>\n",
       "</g>\n",
       "</g>\n",
       "</svg>\n"
      ],
      "text/plain": [
       "<graphviz.dot.Digraph at 0x7f8fd2803080>"
      ]
     },
     "execution_count": 15,
     "metadata": {},
     "output_type": "execute_result"
    }
   ],
   "source": [
    "new_meta.visualize()"
   ]
  }
 ],
 "metadata": {
  "kernelspec": {
   "display_name": "Python 3",
   "language": "python",
   "name": "python3"
  },
  "language_info": {
   "codemirror_mode": {
    "name": "ipython",
    "version": 3
   },
   "file_extension": ".py",
   "mimetype": "text/x-python",
   "name": "python",
   "nbconvert_exporter": "python",
   "pygments_lexer": "ipython3",
   "version": "3.6.9"
  }
 },
 "nbformat": 4,
 "nbformat_minor": 2
}
