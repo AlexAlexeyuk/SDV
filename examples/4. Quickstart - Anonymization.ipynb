{
 "cells": [
  {
   "cell_type": "code",
   "execution_count": 1,
   "metadata": {},
   "outputs": [],
   "source": [
    "import pandas as pd\n",
    "\n",
    "data = pd.DataFrame([\n",
    "    {\n",
    "        'index': 1,\n",
    "        'name': 'Bill',\n",
    "        'credit_card_number': '1111222233334444'\n",
    "    },\n",
    "    {\n",
    "        'index': 2,\n",
    "        'name': 'Jeff',\n",
    "        'credit_card_number': '0000000000000000'\n",
    "    },\n",
    "    {\n",
    "        'index': 3,\n",
    "        'name': 'Bill',\n",
    "        'credit_card_number': '9999999999999999'\n",
    "    },\n",
    "    {\n",
    "        'index': 4,\n",
    "        'name': 'Joe',\n",
    "        'credit_card_number': '8888888888888888'\n",
    "    },\n",
    "])"
   ]
  },
  {
   "cell_type": "code",
   "execution_count": 2,
   "metadata": {},
   "outputs": [
    {
     "data": {
      "text/html": [
       "<div>\n",
       "<style scoped>\n",
       "    .dataframe tbody tr th:only-of-type {\n",
       "        vertical-align: middle;\n",
       "    }\n",
       "\n",
       "    .dataframe tbody tr th {\n",
       "        vertical-align: top;\n",
       "    }\n",
       "\n",
       "    .dataframe thead th {\n",
       "        text-align: right;\n",
       "    }\n",
       "</style>\n",
       "<table border=\"1\" class=\"dataframe\">\n",
       "  <thead>\n",
       "    <tr style=\"text-align: right;\">\n",
       "      <th></th>\n",
       "      <th>credit_card_number</th>\n",
       "      <th>index</th>\n",
       "      <th>name</th>\n",
       "    </tr>\n",
       "  </thead>\n",
       "  <tbody>\n",
       "    <tr>\n",
       "      <th>0</th>\n",
       "      <td>1111222233334444</td>\n",
       "      <td>1</td>\n",
       "      <td>Bill</td>\n",
       "    </tr>\n",
       "    <tr>\n",
       "      <th>1</th>\n",
       "      <td>0000000000000000</td>\n",
       "      <td>2</td>\n",
       "      <td>Jeff</td>\n",
       "    </tr>\n",
       "    <tr>\n",
       "      <th>2</th>\n",
       "      <td>9999999999999999</td>\n",
       "      <td>3</td>\n",
       "      <td>Bill</td>\n",
       "    </tr>\n",
       "    <tr>\n",
       "      <th>3</th>\n",
       "      <td>8888888888888888</td>\n",
       "      <td>4</td>\n",
       "      <td>Jeff</td>\n",
       "    </tr>\n",
       "  </tbody>\n",
       "</table>\n",
       "</div>"
      ],
      "text/plain": [
       "  credit_card_number  index  name\n",
       "0   1111222233334444      1  Bill\n",
       "1   0000000000000000      2  Jeff\n",
       "2   9999999999999999      3  Bill\n",
       "3   8888888888888888      4  Jeff"
      ]
     },
     "execution_count": 2,
     "metadata": {},
     "output_type": "execute_result"
    }
   ],
   "source": [
    "data"
   ]
  },
  {
   "cell_type": "code",
   "execution_count": 3,
   "metadata": {},
   "outputs": [],
   "source": [
    "metadata = {\n",
    "    \"tables\": [\n",
    "        {\n",
    "            \"fields\": [\n",
    "                {\n",
    "                    \"name\": \"index\",\n",
    "                    \"type\": \"id\"\n",
    "                },\n",
    "                {\n",
    "                    \"name\": \"name\",\n",
    "                    \"type\": \"categorical\",\n",
    "                    \"pii\": True,\n",
    "                    \"pii_category\": \"first_name\"\n",
    "                },\n",
    "                {\n",
    "                    \"name\": \"credit_card_number\",\n",
    "                    \"type\": \"categorical\",\n",
    "                    \"pii\": True,\n",
    "                    \"pii_category\": [\n",
    "                        \"credit_card_number\",\n",
    "                        \"visa\"\n",
    "                    ]\n",
    "                }\n",
    "            ],\n",
    "            \"name\": \"anonymized\",\n",
    "            \"primary_key\": \"index\",\n",
    "        },\n",
    "        {\n",
    "            \"fields\": [\n",
    "                {\n",
    "                    \"name\": \"index\",\n",
    "                    \"type\": \"id\"\n",
    "                },\n",
    "                {\n",
    "                    \"name\": \"name\",\n",
    "                    \"type\": \"categorical\"\n",
    "                },\n",
    "                {\n",
    "                    \"name\": \"credit_card_number\",\n",
    "                    \"type\": \"categorical\"\n",
    "                }\n",
    "            ],\n",
    "            \"name\": \"normal\",\n",
    "            \"primary_key\": \"index\",\n",
    "        }\n",
    "    ]\n",
    "}"
   ]
  },
  {
   "cell_type": "code",
   "execution_count": 4,
   "metadata": {},
   "outputs": [],
   "source": [
    "tables = {\n",
    "    'anonymized': data,\n",
    "    'normal': data.copy()\n",
    "}"
   ]
  },
  {
   "cell_type": "code",
   "execution_count": 5,
   "metadata": {},
   "outputs": [
    {
     "name": "stderr",
     "output_type": "stream",
     "text": [
      "2019-11-05 21:41:17,816 - INFO - modeler - Modeling anonymized\n",
      "2019-11-05 21:41:17,817 - INFO - metadata - Loading transformer CategoricalTransformer for field name\n",
      "2019-11-05 21:41:17,817 - INFO - metadata - Loading transformer CategoricalTransformer for field credit_card_number\n",
      "2019-11-05 21:41:17,861 - INFO - modeler - Modeling normal\n",
      "2019-11-05 21:41:17,862 - INFO - metadata - Loading transformer CategoricalTransformer for field name\n",
      "2019-11-05 21:41:17,862 - INFO - metadata - Loading transformer CategoricalTransformer for field credit_card_number\n",
      "2019-11-05 21:41:17,882 - INFO - modeler - Modeling Complete\n"
     ]
    }
   ],
   "source": [
    "from sdv import SDV\n",
    "\n",
    "sdv = SDV()\n",
    "sdv.fit(metadata, tables)"
   ]
  },
  {
   "cell_type": "code",
   "execution_count": 6,
   "metadata": {
    "scrolled": false
   },
   "outputs": [],
   "source": [
    "sampled = sdv.sample_all()"
   ]
  },
  {
   "cell_type": "code",
   "execution_count": 7,
   "metadata": {
    "scrolled": false
   },
   "outputs": [
    {
     "data": {
      "text/html": [
       "<div>\n",
       "<style scoped>\n",
       "    .dataframe tbody tr th:only-of-type {\n",
       "        vertical-align: middle;\n",
       "    }\n",
       "\n",
       "    .dataframe tbody tr th {\n",
       "        vertical-align: top;\n",
       "    }\n",
       "\n",
       "    .dataframe thead th {\n",
       "        text-align: right;\n",
       "    }\n",
       "</style>\n",
       "<table border=\"1\" class=\"dataframe\">\n",
       "  <thead>\n",
       "    <tr style=\"text-align: right;\">\n",
       "      <th></th>\n",
       "      <th>index</th>\n",
       "      <th>name</th>\n",
       "      <th>credit_card_number</th>\n",
       "    </tr>\n",
       "  </thead>\n",
       "  <tbody>\n",
       "    <tr>\n",
       "      <th>0</th>\n",
       "      <td>0</td>\n",
       "      <td>John</td>\n",
       "      <td>4234470288705895</td>\n",
       "    </tr>\n",
       "    <tr>\n",
       "      <th>1</th>\n",
       "      <td>1</td>\n",
       "      <td>John</td>\n",
       "      <td>4141782321030111</td>\n",
       "    </tr>\n",
       "    <tr>\n",
       "      <th>2</th>\n",
       "      <td>2</td>\n",
       "      <td>David</td>\n",
       "      <td>4478981940903962</td>\n",
       "    </tr>\n",
       "    <tr>\n",
       "      <th>3</th>\n",
       "      <td>3</td>\n",
       "      <td>David</td>\n",
       "      <td>4478981940903962</td>\n",
       "    </tr>\n",
       "    <tr>\n",
       "      <th>4</th>\n",
       "      <td>4</td>\n",
       "      <td>David</td>\n",
       "      <td>4478981940903962</td>\n",
       "    </tr>\n",
       "  </tbody>\n",
       "</table>\n",
       "</div>"
      ],
      "text/plain": [
       "   index   name credit_card_number\n",
       "0      0   John   4234470288705895\n",
       "1      1   John   4141782321030111\n",
       "2      2  David   4478981940903962\n",
       "3      3  David   4478981940903962\n",
       "4      4  David   4478981940903962"
      ]
     },
     "execution_count": 7,
     "metadata": {},
     "output_type": "execute_result"
    }
   ],
   "source": [
    "sampled['anonymized']"
   ]
  },
  {
   "cell_type": "code",
   "execution_count": 8,
   "metadata": {
    "scrolled": false
   },
   "outputs": [
    {
     "data": {
      "text/html": [
       "<div>\n",
       "<style scoped>\n",
       "    .dataframe tbody tr th:only-of-type {\n",
       "        vertical-align: middle;\n",
       "    }\n",
       "\n",
       "    .dataframe tbody tr th {\n",
       "        vertical-align: top;\n",
       "    }\n",
       "\n",
       "    .dataframe thead th {\n",
       "        text-align: right;\n",
       "    }\n",
       "</style>\n",
       "<table border=\"1\" class=\"dataframe\">\n",
       "  <thead>\n",
       "    <tr style=\"text-align: right;\">\n",
       "      <th></th>\n",
       "      <th>index</th>\n",
       "      <th>name</th>\n",
       "      <th>credit_card_number</th>\n",
       "    </tr>\n",
       "  </thead>\n",
       "  <tbody>\n",
       "    <tr>\n",
       "      <th>0</th>\n",
       "      <td>0</td>\n",
       "      <td>Jeff</td>\n",
       "      <td>9999999999999999</td>\n",
       "    </tr>\n",
       "    <tr>\n",
       "      <th>1</th>\n",
       "      <td>1</td>\n",
       "      <td>Bill</td>\n",
       "      <td>9999999999999999</td>\n",
       "    </tr>\n",
       "    <tr>\n",
       "      <th>2</th>\n",
       "      <td>2</td>\n",
       "      <td>Jeff</td>\n",
       "      <td>1111222233334444</td>\n",
       "    </tr>\n",
       "    <tr>\n",
       "      <th>3</th>\n",
       "      <td>3</td>\n",
       "      <td>Jeff</td>\n",
       "      <td>0000000000000000</td>\n",
       "    </tr>\n",
       "    <tr>\n",
       "      <th>4</th>\n",
       "      <td>4</td>\n",
       "      <td>Bill</td>\n",
       "      <td>9999999999999999</td>\n",
       "    </tr>\n",
       "  </tbody>\n",
       "</table>\n",
       "</div>"
      ],
      "text/plain": [
       "   index  name credit_card_number\n",
       "0      0  Jeff   9999999999999999\n",
       "1      1  Bill   9999999999999999\n",
       "2      2  Jeff   1111222233334444\n",
       "3      3  Jeff   0000000000000000\n",
       "4      4  Bill   9999999999999999"
      ]
     },
     "execution_count": 8,
     "metadata": {},
     "output_type": "execute_result"
    }
   ],
   "source": [
    "sampled['normal']"
   ]
  }
 ],
 "metadata": {
  "kernelspec": {
   "display_name": "Python 3",
   "language": "python",
   "name": "python3"
  },
  "language_info": {
   "codemirror_mode": {
    "name": "ipython",
    "version": 3
   },
   "file_extension": ".py",
   "mimetype": "text/x-python",
   "name": "python",
   "nbconvert_exporter": "python",
   "pygments_lexer": "ipython3",
   "version": "3.6.8"
  }
 },
 "nbformat": 4,
 "nbformat_minor": 2
}
