{
 "cells": [
  {
   "cell_type": "code",
   "execution_count": 1,
   "metadata": {},
   "outputs": [],
   "source": [
    "from sdv import load_demo"
   ]
  },
  {
   "cell_type": "code",
   "execution_count": 2,
   "metadata": {},
   "outputs": [],
   "source": [
    "metadata, tables = load_demo(metadata=True)"
   ]
  },
  {
   "cell_type": "code",
   "execution_count": 3,
   "metadata": {},
   "outputs": [
    {
     "data": {
      "text/plain": [
       "{'tables': {'users': {'primary_key': 'user_id',\n",
       "   'fields': {'user_id': {'type': 'id', 'subtype': 'integer'},\n",
       "    'country': {'type': 'categorical'},\n",
       "    'gender': {'type': 'categorical'},\n",
       "    'age': {'type': 'numerical', 'subtype': 'integer'}}},\n",
       "  'sessions': {'primary_key': 'session_id',\n",
       "   'fields': {'session_id': {'type': 'id', 'subtype': 'integer'},\n",
       "    'user_id': {'ref': {'field': 'user_id', 'table': 'users'},\n",
       "     'type': 'id',\n",
       "     'subtype': 'integer'},\n",
       "    'device': {'type': 'categorical'},\n",
       "    'os': {'type': 'categorical'}}},\n",
       "  'transactions': {'primary_key': 'transaction_id',\n",
       "   'fields': {'transaction_id': {'type': 'id', 'subtype': 'integer'},\n",
       "    'session_id': {'ref': {'field': 'session_id', 'table': 'sessions'},\n",
       "     'type': 'id',\n",
       "     'subtype': 'integer'},\n",
       "    'timestamp': {'type': 'datetime', 'format': '%Y-%m-%d'},\n",
       "    'amount': {'type': 'numerical', 'subtype': 'float'},\n",
       "    'approved': {'type': 'boolean'}}}}}"
      ]
     },
     "execution_count": 3,
     "metadata": {},
     "output_type": "execute_result"
    }
   ],
   "source": [
    "metadata.to_dict()"
   ]
  },
  {
   "cell_type": "code",
   "execution_count": 4,
   "metadata": {},
   "outputs": [
    {
     "data": {
      "text/plain": [
       "{'users':    user_id country gender  age\n",
       " 0        0     USA      M   34\n",
       " 1        1      UK      F   23\n",
       " 2        2      ES   None   44\n",
       " 3        3      UK      M   22\n",
       " 4        4     USA      F   54\n",
       " 5        5      DE      M   57\n",
       " 6        6      BG      F   45\n",
       " 7        7      ES   None   41\n",
       " 8        8      FR      F   23\n",
       " 9        9      UK   None   30,\n",
       " 'sessions':    session_id  user_id  device       os\n",
       " 0           0        0  mobile  android\n",
       " 1           1        1  tablet      ios\n",
       " 2           2        1  tablet  android\n",
       " 3           3        2  mobile  android\n",
       " 4           4        4  mobile      ios\n",
       " 5           5        5  mobile  android\n",
       " 6           6        6  mobile      ios\n",
       " 7           7        6  tablet      ios\n",
       " 8           8        6  mobile      ios\n",
       " 9           9        8  tablet      ios,\n",
       " 'transactions':    transaction_id  session_id           timestamp  amount  approved\n",
       " 0               0           0 2019-01-01 12:34:32   100.0      True\n",
       " 1               1           0 2019-01-01 12:42:21    55.3      True\n",
       " 2               2           1 2019-01-07 17:23:11    79.5      True\n",
       " 3               3           3 2019-01-10 11:08:57   112.1     False\n",
       " 4               4           5 2019-01-10 21:54:08   110.0     False\n",
       " 5               5           5 2019-01-11 11:21:20    76.3      True\n",
       " 6               6           7 2019-01-22 14:44:10    89.5      True\n",
       " 7               7           8 2019-01-23 10:14:09   132.1     False\n",
       " 8               8           9 2019-01-27 16:09:17    68.0      True\n",
       " 9               9           9 2019-01-29 12:10:48    99.9      True}"
      ]
     },
     "execution_count": 4,
     "metadata": {},
     "output_type": "execute_result"
    }
   ],
   "source": [
    "tables"
   ]
  },
  {
   "cell_type": "code",
   "execution_count": 5,
   "metadata": {},
   "outputs": [],
   "source": [
    "metadata.validate()"
   ]
  },
  {
   "cell_type": "code",
   "execution_count": 6,
   "metadata": {},
   "outputs": [],
   "source": [
    "metadata.validate(tables)"
   ]
  },
  {
   "cell_type": "code",
   "execution_count": 7,
   "metadata": {},
   "outputs": [],
   "source": [
    "metadata._metadata['tables']['users']['primary_key'] = 'country'"
   ]
  },
  {
   "cell_type": "code",
   "execution_count": 8,
   "metadata": {},
   "outputs": [
    {
     "name": "stdout",
     "output_type": "stream",
     "text": [
      "Error: id field `user_id` is neither a primary or a foreign key\n"
     ]
    }
   ],
   "source": [
    "from sdv.metadata import MetadataError\n",
    "\n",
    "try:\n",
    "    metadata.validate()\n",
    "except MetadataError as me:\n",
    "    print('Error: {}'.format(me))"
   ]
  },
  {
   "cell_type": "code",
   "execution_count": 9,
   "metadata": {},
   "outputs": [],
   "source": [
    "metadata._metadata['tables']['users']['primary_key'] = 'user_id'"
   ]
  },
  {
   "cell_type": "code",
   "execution_count": 10,
   "metadata": {},
   "outputs": [],
   "source": [
    "metadata.validate()"
   ]
  },
  {
   "cell_type": "code",
   "execution_count": 11,
   "metadata": {},
   "outputs": [],
   "source": [
    "metadata._metadata['tables']['users']['fields']['gender']['type'] = 'numerical'"
   ]
  },
  {
   "cell_type": "code",
   "execution_count": 12,
   "metadata": {},
   "outputs": [],
   "source": [
    "metadata.validate()"
   ]
  },
  {
   "cell_type": "code",
   "execution_count": 13,
   "metadata": {},
   "outputs": [
    {
     "name": "stdout",
     "output_type": "stream",
     "text": [
      "Error: Invalid values found in column `gender` of table `users`: `could not convert string to float: 'M'`\n"
     ]
    }
   ],
   "source": [
    "try:\n",
    "    metadata.validate(tables)\n",
    "except MetadataError as me:\n",
    "    print('Error: {}'.format(me))"
   ]
  }
 ],
 "metadata": {
  "kernelspec": {
   "display_name": "Python 3",
   "language": "python",
   "name": "python3"
  },
  "language_info": {
   "codemirror_mode": {
    "name": "ipython",
    "version": 3
   },
   "file_extension": ".py",
   "mimetype": "text/x-python",
   "name": "python",
   "nbconvert_exporter": "python",
   "pygments_lexer": "ipython3",
   "version": "3.6.9"
  }
 },
 "nbformat": 4,
 "nbformat_minor": 2
}
