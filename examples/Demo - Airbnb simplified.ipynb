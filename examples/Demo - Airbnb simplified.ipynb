{
 "cells": [
  {
   "cell_type": "markdown",
   "metadata": {},
   "source": [
    "### Demo \"Airbnb simplified\"\n",
    "\n",
    "In this notebook, we will show you step-by-step how to download the \"Airbnb simplified\" dataset, explain the structure and sample the data.\n",
    "\n",
    "The original \"Airbnb\" dataset can be found in [Kaggle](https://www.kaggle.com/c/airbnb-recruiting-new-user-bookings/data), this dataset version has been simplified. There are 2 tables: \"users\" and \"sessions\"."
   ]
  },
  {
   "cell_type": "markdown",
   "metadata": {},
   "source": [
    "**users**\n",
    "\n",
    "It is the main table of the dataset, its primary key is \"id\".\n",
    "\n",
    "Contains information about each user.\n",
    "\n",
    "| Fields                  | Type        | Subtype | Additional Properties  |\n",
    "|-------------------------|-------------|---------|------------------------|\n",
    "| id                      | id          | string  |                        |\n",
    "| date_account_created    | datetime    |         | format: \"%Y-%m-%d\"     |\n",
    "| timestamp_first_active  | datetime    |         | format: \"%Y%m%d%H%M%S\" |\n",
    "| date_first_booking      | datetime    |         | format: \"%Y-%m-%d\"     |\n",
    "| gender                  | categorical |         |                        |\n",
    "| age                     | numerical   | integer |                        |\n",
    "| signup_method           | categorical |         |                        |\n",
    "| signup_flow             | categorical |         |                        |\n",
    "| language                | categorical |         |                        |\n",
    "| affiliate_channel       | categorical |         |                        |\n",
    "| affiliate_provider      | categorical |         |                        |\n",
    "| first_affiliate_tracked | categorical |         |                        |\n",
    "| signup_app              | categorical |         |                        |\n",
    "| first_device_type       | categorical |         |                        |\n",
    "| first_browser           | categorical |         |                        |\n",
    "| country_destination     | categorical |         |                        |"
   ]
  },
  {
   "cell_type": "markdown",
   "metadata": {},
   "source": [
    "**sessions**\n",
    "\n",
    "It is a children's table of \"users\", it has no primary key and its foreign key is \"user_id\".\n",
    "\n",
    "Contains information about user sessions.\n",
    "\n",
    "| Fields                  | Type        | Subtype | Additional Properties  |\n",
    "|-------------------------|-------------|---------|------------------------|\n",
    "| user_id                 | id          | string  | foreign key (users.id) |\n",
    "| action                  | categorical |         |                        |\n",
    "| action_type             | categorical |         |                        |\n",
    "| action_detail           | categorical |         |                        |\n",
    "| device_type             | categorical |         |                        |\n",
    "| secs_elapsed            | numerical   | integer |                        |"
   ]
  },
  {
   "cell_type": "markdown",
   "metadata": {},
   "source": [
    "### 1. Download the demo data\n",
    "\n",
    "To download the demo data we will use the `load_demo` method. In this example we will use the **airbnb-simplified** dataset. Datasets will be downloaded from an Amazon S3 bucket."
   ]
  },
  {
   "cell_type": "code",
   "execution_count": null,
   "metadata": {},
   "outputs": [],
   "source": [
    "from sdv import load_demo\n",
    "\n",
    "metadata, tables = load_demo(dataset_name='airbnb-simplified', metadata=True)"
   ]
  },
  {
   "cell_type": "markdown",
   "metadata": {},
   "source": [
    "By default, datasets will be downloaded to the \"data\" folder within SDV. If SDV is installed via pip, the data will be stored in the virtual environment. You can change the output path using the \"data_path\" argument."
   ]
  },
  {
   "cell_type": "code",
   "execution_count": null,
   "metadata": {},
   "outputs": [],
   "source": [
    "from sdv import load_demo\n",
    "\n",
    "metadata, tables = load_demo(\n",
    "    dataset_name='airbnb-simplified',\n",
    "    data_path='/home/josedavid/.sdv',\n",
    "    metadata=True\n",
    ")"
   ]
  },
  {
   "cell_type": "markdown",
   "metadata": {},
   "source": [
    "### 2. Create an instance of SDV\n",
    "\n",
    "Once the data is downloaded, we can create a new instance of SDV."
   ]
  },
  {
   "cell_type": "code",
   "execution_count": null,
   "metadata": {},
   "outputs": [],
   "source": [
    "from sdv import SDV\n",
    "\n",
    "sdv = SDV()"
   ]
  },
  {
   "cell_type": "markdown",
   "metadata": {},
   "source": [
    "### 3. Train the model\n",
    "\n",
    "Once the SDV object has been created, we must fit the model.\n",
    "\n",
    "We just need to call the \"fit\" method with the previous metadata and the tables from the csv files."
   ]
  },
  {
   "cell_type": "code",
   "execution_count": null,
   "metadata": {},
   "outputs": [],
   "source": [
    "sdv.fit(metadata, tables=tables)"
   ]
  },
  {
   "cell_type": "markdown",
   "metadata": {},
   "source": [
    "### 4. Data sampling\n",
    "\n",
    "After fitting the model, we are ready to generate data. To create data for all the tables we will call \"sample_all\" method."
   ]
  },
  {
   "cell_type": "code",
   "execution_count": null,
   "metadata": {},
   "outputs": [],
   "source": [
    "samples = sdv.sample_all()"
   ]
  },
  {
   "cell_type": "code",
   "execution_count": null,
   "metadata": {},
   "outputs": [],
   "source": [
    "samples['users'].head()"
   ]
  },
  {
   "cell_type": "code",
   "execution_count": null,
   "metadata": {},
   "outputs": [],
   "source": [
    "samples['sessions'].head()"
   ]
  },
  {
   "cell_type": "markdown",
   "metadata": {},
   "source": [
    "This function will return a dictionary with all tables in the dataset with a dataframe for each table.\n",
    "\n",
    "Alternatively, we can sample, table by table, by calling the \"sample\" method with the table name and the number of rows to sample."
   ]
  },
  {
   "cell_type": "code",
   "execution_count": null,
   "metadata": {},
   "outputs": [],
   "source": [
    "sdv.sample('users', 5)"
   ]
  },
  {
   "cell_type": "code",
   "execution_count": null,
   "metadata": {},
   "outputs": [],
   "source": [
    "sdv.sample('sessions', 5)"
   ]
  },
  {
   "cell_type": "markdown",
   "metadata": {},
   "source": [
    "### 5. Data evaluation\n",
    "\n",
    "Once you have generated sample data, we may want to evaluate them.\n",
    "\n",
    "SDV implements an evaluation package to calculate scores using different descriptors and metrics. In this example, we will use metrics and descriptors by default."
   ]
  },
  {
   "cell_type": "code",
   "execution_count": null,
   "metadata": {},
   "outputs": [],
   "source": [
    "from sdv.evaluation import evaluate\n",
    "\n",
    "evaluate(samples, real=tables, metadata=sdv.metadata)"
   ]
  }
 ],
 "metadata": {
  "kernelspec": {
   "display_name": "Python 3",
   "language": "python",
   "name": "python3"
  },
  "language_info": {
   "codemirror_mode": {
    "name": "ipython",
    "version": 3
   },
   "file_extension": ".py",
   "mimetype": "text/x-python",
   "name": "python",
   "nbconvert_exporter": "python",
   "pygments_lexer": "ipython3",
   "version": "3.6.8"
  }
 },
 "nbformat": 4,
 "nbformat_minor": 2
}
