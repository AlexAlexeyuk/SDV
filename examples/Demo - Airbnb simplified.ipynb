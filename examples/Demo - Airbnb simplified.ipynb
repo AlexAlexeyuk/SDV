{
 "cells": [
  {
   "cell_type": "markdown",
   "metadata": {},
   "source": [
    "### Demo \"Airbnb simplified\"\n",
    "\n",
    "In this notebook, we will show you step-by-step how to download the \"Airbnb simplified\" dataset, explain the structure and sample the data.\n",
    "\n",
    "The original \"Airbnb\" dataset can be found in Kaggle, this dataset version has been simplified. There are 1000 entries in the \"users\" table and their corresponding entries to the \"sessions\" table, in this case 26987 entries."
   ]
  },
  {
   "cell_type": "markdown",
   "metadata": {},
   "source": [
    "**users**\n",
    "\n",
    "It is the main table of the dataset, its primary key is \"id\".\n",
    "\n",
    "Contains information about each user."
   ]
  },
  {
   "cell_type": "markdown",
   "metadata": {},
   "source": [
    "**sessions**\n",
    "\n",
    "It is a children's table of \"users\", it has no primary key and its foreign key is \"user\""
   ]
  },
  {
   "cell_type": "markdown",
   "metadata": {},
   "source": [
    "### 1. Download the demo data\n",
    "\n",
    "To download the demo data we will use the `load_demo` method. In this example we will use the **airbnb-simplified** dataset. Datasets will be downloaded from an Amazon S3 bucket."
   ]
  },
  {
   "cell_type": "code",
   "execution_count": 1,
   "metadata": {},
   "outputs": [
    {
     "name": "stderr",
     "output_type": "stream",
     "text": [
      "INFO - Downloading dataset airbnb-simplified from https://sdv-demos.s3.eu-west-3.amazonaws.com/airbnb-simplified.zip\n",
      "INFO - Extracting dataset into /home/josedavid/Projects/SDV/sdv/data\n"
     ]
    }
   ],
   "source": [
    "from sdv import load_demo\n",
    "\n",
    "metadata, tables = load_demo(dataset_name='airbnb-simplified', metadata=True)"
   ]
  },
  {
   "cell_type": "markdown",
   "metadata": {},
   "source": [
    "By default, datasets will be downloaded to the \"data\" folder within SDV. If SDV is installed via pip, the data will be stored in the virtual environment. You can change the output path using the \"data_path\" argument."
   ]
  },
  {
   "cell_type": "code",
   "execution_count": null,
   "metadata": {},
   "outputs": [],
   "source": [
    "from sdv import load_demo\n",
    "\n",
    "metadata, tables = load_demo(\n",
    "    dataset_name='airbnb-simplified',\n",
    "    data_path='/home/josedavid/.sdv',\n",
    "    metadata=True\n",
    ")"
   ]
  },
  {
   "cell_type": "markdown",
   "metadata": {},
   "source": [
    "### 2. Create an instance of SDV\n",
    "\n",
    "Once the data is downloaded, we can create a new instance of SDV."
   ]
  },
  {
   "cell_type": "code",
   "execution_count": 2,
   "metadata": {},
   "outputs": [],
   "source": [
    "from sdv import SDV\n",
    "\n",
    "sdv = SDV()"
   ]
  },
  {
   "cell_type": "markdown",
   "metadata": {},
   "source": [
    "### 3. Train the model\n",
    "\n",
    "Once the SDV object has been created, we must fit the model.\n",
    "\n",
    "We just need to call the \"fit\" method with the previous metadata and the tables from the csv files."
   ]
  },
  {
   "cell_type": "code",
   "execution_count": 3,
   "metadata": {},
   "outputs": [
    {
     "name": "stderr",
     "output_type": "stream",
     "text": [
      "INFO - Modeling users\n",
      "INFO - Loading transformer DatetimeTransformer for field date_account_created\n",
      "INFO - Loading transformer DatetimeTransformer for field timestamp_first_active\n",
      "INFO - Loading transformer DatetimeTransformer for field date_first_booking\n",
      "INFO - Loading transformer CategoricalTransformer for field gender\n",
      "INFO - Loading transformer NumericalTransformer for field age\n",
      "INFO - Loading transformer CategoricalTransformer for field signup_method\n",
      "INFO - Loading transformer CategoricalTransformer for field signup_flow\n",
      "INFO - Loading transformer CategoricalTransformer for field language\n",
      "INFO - Loading transformer CategoricalTransformer for field affiliate_channel\n",
      "INFO - Loading transformer CategoricalTransformer for field affiliate_provider\n",
      "INFO - Loading transformer CategoricalTransformer for field first_affiliate_tracked\n",
      "INFO - Loading transformer CategoricalTransformer for field signup_app\n",
      "INFO - Loading transformer CategoricalTransformer for field first_device_type\n",
      "INFO - Loading transformer CategoricalTransformer for field first_browser\n",
      "INFO - Loading transformer CategoricalTransformer for field country_destination\n",
      "INFO - Modeling sessions\n",
      "INFO - Loading transformer CategoricalTransformer for field action\n",
      "INFO - Loading transformer CategoricalTransformer for field action_type\n",
      "INFO - Loading transformer CategoricalTransformer for field action_detail\n",
      "INFO - Loading transformer CategoricalTransformer for field device_type\n",
      "INFO - Loading transformer NumericalTransformer for field secs_elapsed\n",
      "/home/josedavid/.virtualenvs/SDV/lib/python3.6/site-packages/pandas/core/frame.py:7143: RuntimeWarning: Degrees of freedom <= 0 for slice\n",
      "  baseCov = np.cov(mat.T)\n",
      "/home/josedavid/.virtualenvs/SDV/lib/python3.6/site-packages/numpy/lib/function_base.py:2451: RuntimeWarning: divide by zero encountered in true_divide\n",
      "  c *= np.true_divide(1, fact)\n",
      "/home/josedavid/.virtualenvs/SDV/lib/python3.6/site-packages/numpy/lib/function_base.py:2451: RuntimeWarning: invalid value encountered in multiply\n",
      "  c *= np.true_divide(1, fact)\n",
      "INFO - Modeling Complete\n"
     ]
    }
   ],
   "source": [
    "sdv.fit(metadata, tables=tables)"
   ]
  },
  {
   "cell_type": "markdown",
   "metadata": {},
   "source": [
    "### 4. Data sampling\n",
    "\n",
    "After fitting the model, we are ready to generate data. To create data for all the tables we will call \"sample_all\" method."
   ]
  },
  {
   "cell_type": "code",
   "execution_count": 4,
   "metadata": {},
   "outputs": [],
   "source": [
    "samples = sdv.sample_all()"
   ]
  },
  {
   "cell_type": "code",
   "execution_count": null,
   "metadata": {},
   "outputs": [],
   "source": [
    "samples['users'].head()"
   ]
  },
  {
   "cell_type": "code",
   "execution_count": null,
   "metadata": {},
   "outputs": [],
   "source": [
    "samples['sessions'].head()"
   ]
  },
  {
   "cell_type": "markdown",
   "metadata": {},
   "source": [
    "This function will return a dictionary with all tables in the dataset with a dataframe for each table.\n",
    "\n",
    "Alternatively, we can sample, table by table, by calling the \"sample\" method with the table name and the number of rows to sample."
   ]
  },
  {
   "cell_type": "code",
   "execution_count": null,
   "metadata": {},
   "outputs": [],
   "source": [
    "sample_users = sdv.sample('users', 5)\n",
    "sample_sessions = sdv.sample('sessions', 5)"
   ]
  },
  {
   "cell_type": "markdown",
   "metadata": {},
   "source": [
    "### 5. Data evaluation\n",
    "\n",
    "Once you have generated sample data, we may want to evaluate them.\n",
    "\n",
    "SDV implements an evaluation package to calculate scores using different descriptors and metrics. In this example, we will use metrics and descriptors by default."
   ]
  },
  {
   "cell_type": "code",
   "execution_count": 5,
   "metadata": {},
   "outputs": [
    {
     "name": "stderr",
     "output_type": "stream",
     "text": [
      "/home/josedavid/.virtualenvs/SDV/lib/python3.6/site-packages/scipy/stats/stats.py:248: RuntimeWarning: The input array could not be properly checked for nan values. nan values will be ignored.\n",
      "  \"values. nan values will be ignored.\", RuntimeWarning)\n",
      "/home/josedavid/Projects/SDV/sdv/evaluation/metrics.py:32: RuntimeWarning: invalid value encountered in double_scalars\n",
      "  return 1 - (numerator / denominator)\n"
     ]
    },
    {
     "data": {
      "text/plain": [
       "mse         inf\n",
       "rmse        inf\n",
       "r2_score    NaN\n",
       "dtype: float64"
      ]
     },
     "execution_count": 5,
     "metadata": {},
     "output_type": "execute_result"
    }
   ],
   "source": [
    "from sdv.evaluation import evaluate\n",
    "\n",
    "evaluate(tables, samples)"
   ]
  }
 ],
 "metadata": {
  "kernelspec": {
   "display_name": "Python 3",
   "language": "python",
   "name": "python3"
  },
  "language_info": {
   "codemirror_mode": {
    "name": "ipython",
    "version": 3
   },
   "file_extension": ".py",
   "mimetype": "text/x-python",
   "name": "python",
   "nbconvert_exporter": "python",
   "pygments_lexer": "ipython3",
   "version": "3.6.8"
  }
 },
 "nbformat": 4,
 "nbformat_minor": 2
}
