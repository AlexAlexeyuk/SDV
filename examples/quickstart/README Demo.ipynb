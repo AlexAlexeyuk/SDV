{
 "cells": [
  {
   "cell_type": "code",
   "execution_count": 1,
   "metadata": {},
   "outputs": [],
   "source": [
    "from sdv import load_demo"
   ]
  },
  {
   "cell_type": "code",
   "execution_count": 2,
   "metadata": {},
   "outputs": [],
   "source": [
    "metadata, tables = load_demo()"
   ]
  },
  {
   "cell_type": "code",
   "execution_count": 3,
   "metadata": {},
   "outputs": [
    {
     "data": {
      "text/plain": [
       "{'tables': [{'name': 'users',\n",
       "   'primary_key': 'user_id',\n",
       "   'fields': [{'name': 'user_id', 'type': 'id'},\n",
       "    {'name': 'country', 'type': 'categorical'},\n",
       "    {'name': 'gender', 'type': 'categorical'},\n",
       "    {'name': 'age', 'type': 'numerical', 'subtype': 'integer'}]},\n",
       "  {'name': 'sessions',\n",
       "   'primary_key': 'session_id',\n",
       "   'fields': [{'name': 'session_id', 'type': 'id'},\n",
       "    {'name': 'user_id',\n",
       "     'ref': {'field': 'user_id', 'table': 'users'},\n",
       "     'type': 'id'},\n",
       "    {'name': 'device', 'type': 'categorical'},\n",
       "    {'name': 'os', 'type': 'categorical'}]},\n",
       "  {'name': 'transactions',\n",
       "   'primary_key': 'transaction_id',\n",
       "   'fields': [{'name': 'transaction_id', 'type': 'id'},\n",
       "    {'name': 'session_id',\n",
       "     'ref': {'field': 'session_id', 'table': 'sessions'},\n",
       "     'type': 'id'},\n",
       "    {'name': 'timestamp', 'type': 'datetime', 'format': '%Y-%m-%d'},\n",
       "    {'name': 'amount', 'type': 'numerical', 'subtype': 'float'},\n",
       "    {'name': 'approved', 'type': 'boolean'}]}]}"
      ]
     },
     "execution_count": 3,
     "metadata": {},
     "output_type": "execute_result"
    }
   ],
   "source": [
    "metadata"
   ]
  },
  {
   "cell_type": "code",
   "execution_count": 4,
   "metadata": {},
   "outputs": [
    {
     "data": {
      "text/plain": [
       "{'users':    user_id country gender  age\n",
       " 0        0     USA      M   34\n",
       " 1        1      UK      F   23\n",
       " 2        2      ES   None   44\n",
       " 3        3      UK      M   22\n",
       " 4        4     USA      F   54\n",
       " 5        5      DE      M   57\n",
       " 6        6      BG      F   45\n",
       " 7        7      ES   None   41\n",
       " 8        8      FR      F   23\n",
       " 9        9      UK   None   30,\n",
       " 'sessions':    session_id  user_id  device       os\n",
       " 0           0        0  mobile  android\n",
       " 1           1        1  tablet      ios\n",
       " 2           2        1  tablet  android\n",
       " 3           3        2  mobile  android\n",
       " 4           4        4  mobile      ios\n",
       " 5           5        5  mobile  android\n",
       " 6           6        6  mobile      ios\n",
       " 7           7        6   table      ios\n",
       " 8           8        6  mobile      ios\n",
       " 9           9        8  tablet      ios,\n",
       " 'transactions':    transaction_id  session_id           timestamp  amount  approved\n",
       " 0               0           0 2019-01-01 12:34:32   100.0      True\n",
       " 1               1           0 2019-01-01 12:42:21    55.3      True\n",
       " 2               2           1 2019-01-07 17:23:11    79.5      True\n",
       " 3               3           3 2019-01-10 11:08:57   112.1     False\n",
       " 4               4           5 2019-01-10 21:54:08   110.0     False\n",
       " 5               5           5 2019-01-11 11:21:20    76.3      True\n",
       " 6               6           7 2019-01-22 14:44:10    89.5      True\n",
       " 7               7           8 2019-01-23 10:14:09   132.1     False\n",
       " 8               8           9 2019-01-27 16:09:17    68.0      True\n",
       " 9               9           9 2019-01-29 12:10:48    99.9      True}"
      ]
     },
     "execution_count": 4,
     "metadata": {},
     "output_type": "execute_result"
    }
   ],
   "source": [
    "tables"
   ]
  },
  {
   "cell_type": "code",
   "execution_count": 5,
   "metadata": {},
   "outputs": [
    {
     "name": "stderr",
     "output_type": "stream",
     "text": [
      "2019-11-03 16:08:01,089 - INFO - modeler - Modeling users\n",
      "2019-11-03 16:08:01,090 - INFO - metadata - Loading transformer CategoricalTransformer for field country\n",
      "2019-11-03 16:08:01,091 - INFO - metadata - Loading transformer CategoricalTransformer for field gender\n",
      "2019-11-03 16:08:01,092 - INFO - metadata - Loading transformer NumericalTransformer for field age\n",
      "2019-11-03 16:08:01,108 - INFO - modeler - Modeling sessions\n",
      "2019-11-03 16:08:01,109 - INFO - metadata - Loading transformer CategoricalTransformer for field device\n",
      "2019-11-03 16:08:01,109 - INFO - metadata - Loading transformer CategoricalTransformer for field os\n",
      "2019-11-03 16:08:01,121 - INFO - modeler - Modeling transactions\n",
      "2019-11-03 16:08:01,122 - INFO - metadata - Loading transformer DatetimeTransformer for field timestamp\n",
      "2019-11-03 16:08:01,122 - INFO - metadata - Loading transformer NumericalTransformer for field amount\n",
      "2019-11-03 16:08:01,122 - INFO - metadata - Loading transformer BooleanTransformer for field approved\n",
      "/home/xals/.virtualenvs/SDV/lib/python3.6/site-packages/pandas/core/frame.py:7143: RuntimeWarning: Degrees of freedom <= 0 for slice\n",
      "  baseCov = np.cov(mat.T)\n",
      "/home/xals/.virtualenvs/SDV/lib/python3.6/site-packages/numpy/lib/function_base.py:2451: RuntimeWarning: divide by zero encountered in true_divide\n",
      "  c *= np.true_divide(1, fact)\n",
      "/home/xals/.virtualenvs/SDV/lib/python3.6/site-packages/numpy/lib/function_base.py:2451: RuntimeWarning: invalid value encountered in multiply\n",
      "  c *= np.true_divide(1, fact)\n",
      "2019-11-03 16:08:01,883 - INFO - modeler - Modeling Complete\n"
     ]
    }
   ],
   "source": [
    "from sdv import SDV\n",
    "\n",
    "sdv = SDV()\n",
    "sdv.fit(metadata, tables)"
   ]
  },
  {
   "cell_type": "code",
   "execution_count": 6,
   "metadata": {},
   "outputs": [
    {
     "data": {
      "text/plain": [
       "{'users':    user_id country gender  age\n",
       " 0        0      UK      M   38\n",
       " 1        1      FR      F   49\n",
       " 2        2      BG      F   53\n",
       " 3        3      UK    NaN   40\n",
       " 4        4      ES      M   37,\n",
       " 'sessions':    session_id  user_id  device       os\n",
       " 0           0        0  mobile  android\n",
       " 1           1        1  mobile      ios\n",
       " 2           2        1   table      ios\n",
       " 3           3        2  mobile      ios\n",
       " 4           4        4  tablet      ios,\n",
       " 'transactions':     transaction_id  session_id                     timestamp      amount  \\\n",
       " 0                0           2 2019-01-11 20:04:41.045274880   91.528609   \n",
       " 1                1           2 2019-01-11 20:04:41.295124992   81.582317   \n",
       " 2                2           2 2019-01-11 20:04:40.718006016  101.129837   \n",
       " 3                3           2 2019-01-11 20:04:41.010093824   87.197737   \n",
       " 4                4           2 2019-01-11 20:04:41.037239040   97.864023   \n",
       " 5                5           2 2019-01-11 20:04:41.007366656   92.988464   \n",
       " 6                6           2 2019-01-11 20:04:41.101156864   85.344030   \n",
       " 7                7           2 2019-01-11 20:04:40.705912064  102.165910   \n",
       " 8                8           2 2019-01-11 20:04:41.270179584   96.879576   \n",
       " 9                9           2 2019-01-11 20:04:41.050921216   78.120009   \n",
       " 10              10           2 2019-01-11 20:04:40.803478016   90.263667   \n",
       " 11              11           2 2019-01-11 20:04:40.929881600   78.976379   \n",
       " \n",
       "     approved  \n",
       " 0       True  \n",
       " 1       True  \n",
       " 2       True  \n",
       " 3       True  \n",
       " 4       True  \n",
       " 5       True  \n",
       " 6       True  \n",
       " 7       True  \n",
       " 8       True  \n",
       " 9       True  \n",
       " 10      True  \n",
       " 11      True  }"
      ]
     },
     "execution_count": 6,
     "metadata": {},
     "output_type": "execute_result"
    }
   ],
   "source": [
    "sdv.sample_all()"
   ]
  }
 ],
 "metadata": {
  "kernelspec": {
   "display_name": "Python 3",
   "language": "python",
   "name": "python3"
  },
  "language_info": {
   "codemirror_mode": {
    "name": "ipython",
    "version": 3
   },
   "file_extension": ".py",
   "mimetype": "text/x-python",
   "name": "python",
   "nbconvert_exporter": "python",
   "pygments_lexer": "ipython3",
   "version": "3.6.8"
  }
 },
 "nbformat": 4,
 "nbformat_minor": 2
}
