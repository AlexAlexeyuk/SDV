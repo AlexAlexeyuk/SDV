{
 "cells": [
  {
   "cell_type": "markdown",
   "metadata": {},
   "source": [
    "### Demo \"Rossmann\"\n",
    "\n",
    "In this notebook, we will show you step-by-step how to download the \"Rossmann\" dataset, explain the structure and sample the data.\n",
    "\n",
    "The \"Rossmann\" dataset can be found in Kaggle. This dataset contains 2 tables: \"store\" and \"historical\"."
   ]
  },
  {
   "cell_type": "markdown",
   "metadata": {},
   "source": [
    "**store**\n",
    "\n",
    "It is the main table of the dataset, its primary key is \"Store\".\n",
    "\n",
    "Contains supplemental information about the stores.\n",
    "\n",
    "| Fields                    | Type        | Subtype | Additional Properties |\n",
    "|---------------------------|-------------|---------|-----------------------|\n",
    "| Store                     | id          | integer |                       |\n",
    "| StoryType                 | categorical |         |                       |\n",
    "| Assortment                | categorical |         |                       |\n",
    "| PromoInterval             | caregorical |         |                       |\n",
    "| CompetitionOpenSinceYear  | numerical   | integer |                       |\n",
    "| CompetitionOpenSinceMonth | numerical   | integer |                       |\n",
    "| CompetitionDistance       | numerical   | integer |                       |\n",
    "| Promo2                    | boolean     |         |                       |\n",
    "| Promo2SinceYear           | numerical   | integer |                       |\n",
    "| Promo2SinceWeek           | numerical   | integer |                       |"
   ]
  },
  {
   "cell_type": "markdown",
   "metadata": {},
   "source": [
    "**historical**\n",
    "\n",
    "It is the children table of \"store\", at Kaggle the file is called \"train.csv\", but we've renamed it as \"historical\". Its primary key is \"Id\" and its foreign key is \"Store\".\n",
    "\n",
    "Contains historical data including sales.\n",
    "\n",
    "| Fields        | Type        | Subtype | Additional Properties     |\n",
    "|---------------|-------------|---------|---------------------------|\n",
    "| Id            | id          | integer |                           |\n",
    "| Store         | id          | integer | foreign key (store.Store) |\n",
    "| Date          | datetime    |         | format: \"%m/%d/%y\"        |\n",
    "| DayOfWeek     | numerical   | integer |                           |\n",
    "| Promo         | numerical   | integer |                           |\n",
    "| StateHoliday  | categorical |         |                           |\n",
    "| Open          | numerical   | integer |                           |\n",
    "| SchoolHoliday | numerical   | integer |                           |\n",
    "| Customers     | numerical   | integer |                           |"
   ]
  },
  {
   "cell_type": "markdown",
   "metadata": {},
   "source": [
    "### 1. Download the demo data\n",
    "\n",
    "To download the demo data we will use the load_demo method. In this example we will use the **rossmann** dataset. Datasets will be downloaded from [Amazon S3 bucket](https://sdv-demos.s3.eu-west-3.amazonaws.com/index.html)."
   ]
  },
  {
   "cell_type": "code",
   "execution_count": null,
   "metadata": {},
   "outputs": [],
   "source": [
    "from sdv import load_demo\n",
    "\n",
    "metadata, tables = load_demo(dataset_name='rossmann', metadata=True)"
   ]
  },
  {
   "cell_type": "markdown",
   "metadata": {},
   "source": [
    "By default, datasets will be downloaded to the \"data\" folder within SDV. If SDV is installed via pip, the data will be stored in the virtual environment. You can change the output path using the \"data_path\" argument."
   ]
  },
  {
   "cell_type": "code",
   "execution_count": null,
   "metadata": {},
   "outputs": [],
   "source": [
    "from sdv import load_demo\n",
    "\n",
    "metadata, tables = load_demo(\n",
    "    dataset_name='rossmann',\n",
    "    data_path='/home/josedavid/.sdv',\n",
    "    metadata=True\n",
    ")"
   ]
  },
  {
   "cell_type": "markdown",
   "metadata": {},
   "source": [
    "### 2. Create an instance of SDV\n",
    "\n",
    "Once the data is downloaded, we can create a new instance of SDV."
   ]
  },
  {
   "cell_type": "code",
   "execution_count": null,
   "metadata": {},
   "outputs": [],
   "source": [
    "from sdv import SDV\n",
    "\n",
    "sdv = SDV()"
   ]
  },
  {
   "cell_type": "markdown",
   "metadata": {},
   "source": [
    "### 3. Train the model\n",
    "\n",
    "Once the SDV object has been created, we must fit the model.\n",
    "\n",
    "We just need to call the \"fit\" method with the previous metadata and the tables from the csv files."
   ]
  },
  {
   "cell_type": "code",
   "execution_count": null,
   "metadata": {},
   "outputs": [],
   "source": [
    "sdv.fit(metadata, tables=tables)"
   ]
  },
  {
   "cell_type": "markdown",
   "metadata": {},
   "source": [
    "### 4. Data sampling\n",
    "\n",
    "After fitting the model, we are ready to generate data. To create data for all the tables we will call \"sample_all\" method."
   ]
  },
  {
   "cell_type": "code",
   "execution_count": null,
   "metadata": {},
   "outputs": [],
   "source": [
    "samples = sdv.sample_all()"
   ]
  },
  {
   "cell_type": "code",
   "execution_count": null,
   "metadata": {},
   "outputs": [],
   "source": [
    "samples['stores'].head()"
   ]
  },
  {
   "cell_type": "code",
   "execution_count": null,
   "metadata": {},
   "outputs": [],
   "source": [
    "samples['sales'].head()"
   ]
  },
  {
   "cell_type": "markdown",
   "metadata": {},
   "source": [
    "This function will return a dictionary with all tables in the dataset with a dataframe for each table.\n",
    "\n",
    "Alternatively, we can sample, table by table, by calling the \"sample\" method with the table name and the number of rows to sample."
   ]
  },
  {
   "cell_type": "code",
   "execution_count": null,
   "metadata": {},
   "outputs": [],
   "source": [
    "sample_stores = sdv.sample('stores', 5)\n",
    "sample_features = sdv.sample('features', 5)\n",
    "sample_depts = sdv.sample('depts', 5)"
   ]
  },
  {
   "cell_type": "markdown",
   "metadata": {},
   "source": [
    "### 5. Data evaluation\n",
    "\n",
    "Once you have generated sample data, we may want to evaluate them.\n",
    "\n",
    "SDV implements an evaluation package to calculate scores using different descriptors and metrics. In this example, we will use metrics and descriptors by default."
   ]
  },
  {
   "cell_type": "code",
   "execution_count": null,
   "metadata": {},
   "outputs": [],
   "source": [
    "from sdv.evaluation import evaluate\n",
    "\n",
    "evaluate(tables, samples)"
   ]
  }
 ],
 "metadata": {
  "kernelspec": {
   "display_name": "Python 3",
   "language": "python",
   "name": "python3"
  },
  "language_info": {
   "codemirror_mode": {
    "name": "ipython",
    "version": 3
   },
   "file_extension": ".py",
   "mimetype": "text/x-python",
   "name": "python",
   "nbconvert_exporter": "python",
   "pygments_lexer": "ipython3",
   "version": "3.6.8"
  }
 },
 "nbformat": 4,
 "nbformat_minor": 2
}
