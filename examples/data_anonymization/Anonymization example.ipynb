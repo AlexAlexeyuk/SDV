{
 "cells": [
  {
   "cell_type": "markdown",
   "metadata": {},
   "source": [
    "# DATA ANONYMIZATION\n",
    "\n",
    "## Introduction\n",
    "\n",
    "This notebook show how to use the anonymization feature with an small example. We will start by setting up the notebook, then we will create our dummy dataset and its metadata, and finally we will `model` and `sample` the data, checking the diferencies in both the data and the internal state of the objects.\n",
    "\n",
    "## Notebook preparation"
   ]
  },
  {
   "cell_type": "code",
   "execution_count": 1,
   "metadata": {},
   "outputs": [],
   "source": [
    "import json\n",
    "\n",
    "import numpy as np\n",
    "import pandas as pd\n",
    "import rdt\n",
    "\n",
    "from sdv import SDV"
   ]
  },
  {
   "cell_type": "markdown",
   "metadata": {},
   "source": [
    "## Creating dataset and metadata\n",
    "\n",
    "We are going to create a dataset of a single table containing three different columns : `primary_key`, `name` and `credit_card_number` and two different metadata, one that does use anonymization, and the other that it doesn't."
   ]
  },
  {
   "cell_type": "code",
   "execution_count": 2,
   "metadata": {},
   "outputs": [],
   "source": [
    "metadata = {\n",
    "    \"tables\": [\n",
    "        {\n",
    "            \"fields\": [\n",
    "                {\n",
    "                    \"name\": \"index\",\n",
    "                    \"type\": \"id\"\n",
    "                },\n",
    "                {\n",
    "                    \"name\": \"name\",\n",
    "                    \"type\": \"categorical\",\n",
    "                    \"pii\": True,\n",
    "                    \"pii_category\": \"first_name\"\n",
    "                },\n",
    "                {\n",
    "                    \"name\": \"credit_card_number\",\n",
    "                    \"type\": \"categorical\",\n",
    "                    \"pii\": True,\n",
    "                    \"pii_category\": [\n",
    "                        \"credit_card_number\",\n",
    "                        \"visa\"\n",
    "                    ]\n",
    "                }\n",
    "            ],\n",
    "            \"name\": \"anonymized\",\n",
    "            \"primary_key\": \"index\",\n",
    "        },\n",
    "        {\n",
    "            \"fields\": [\n",
    "                {\n",
    "                    \"name\": \"index\",\n",
    "                    \"type\": \"id\"\n",
    "                },\n",
    "                {\n",
    "                    \"name\": \"name\",\n",
    "                    \"type\": \"categorical\"\n",
    "                },\n",
    "                {\n",
    "                    \"name\": \"credit_card_number\",\n",
    "                    \"type\": \"categorical\"\n",
    "                }\n",
    "            ],\n",
    "            \"name\": \"normal\",\n",
    "            \"primary_key\": \"index\",\n",
    "        }\n",
    "    ]\n",
    "}"
   ]
  },
  {
   "cell_type": "code",
   "execution_count": 3,
   "metadata": {},
   "outputs": [],
   "source": [
    "# Generating data for table.\n",
    "data = pd.DataFrame([\n",
    "    {\n",
    "        'index': 1,\n",
    "        'name': 'Bill',\n",
    "        'credit_card_number': '1111222233334444'\n",
    "    },\n",
    "    {\n",
    "        'index': 2,\n",
    "        'name': 'Jeff',\n",
    "        'credit_card_number': '0000000000000000'\n",
    "    },\n",
    "    {\n",
    "        'index': 3,\n",
    "        'name': 'Bill',\n",
    "        'credit_card_number': '9999999999999999'\n",
    "    },\n",
    "    {\n",
    "        'index': 4,\n",
    "        'name': 'Jeff',\n",
    "        'credit_card_number': '8888888888888888'\n",
    "    },\n",
    "])"
   ]
  },
  {
   "cell_type": "code",
   "execution_count": 4,
   "metadata": {},
   "outputs": [],
   "source": [
    "tables = {\n",
    "    'anonymized': data,\n",
    "    'normal': data.copy()\n",
    "}"
   ]
  },
  {
   "cell_type": "markdown",
   "metadata": {},
   "source": [
    "Now we are going to generate the metadata. There are, a part from the anonymization parameters, two major differences with the other example metadata:"
   ]
  },
  {
   "cell_type": "markdown",
   "metadata": {},
   "source": [
    "Now we have all that we needed in order to model and sample our example dataset, that is:\n",
    "\n",
    "- A table of data stored as `table.csv` file\n",
    "- Two table metadata, both **using to the same table** , but only **one of them anonymizing data**, and each of them using a different name.\n",
    "- A full metadata specification, including the table metadata mentioned above, stored as `metadata.json`\n",
    "\n",
    "\n",
    "# Modelling the dataset\n",
    "\n",
    "\n",
    "Now that we have prepared our data and metadata files is time to model and sample them. To do so, we will:\n",
    "\n",
    "1. Create an instance of `SDV`.\n",
    "2. Model the database calling its `fit` method.\n",
    "3. Generate samples for each table."
   ]
  },
  {
   "cell_type": "code",
   "execution_count": 5,
   "metadata": {},
   "outputs": [
    {
     "name": "stderr",
     "output_type": "stream",
     "text": [
      "2019-11-03 16:06:36,940 - INFO - modeler - Modeling anonymized\n",
      "2019-11-03 16:06:36,941 - INFO - metadata - Loading transformer CategoricalTransformer for field name\n",
      "2019-11-03 16:06:36,942 - INFO - metadata - Loading transformer CategoricalTransformer for field credit_card_number\n",
      "2019-11-03 16:06:36,989 - INFO - modeler - Modeling normal\n",
      "2019-11-03 16:06:36,989 - INFO - metadata - Loading transformer CategoricalTransformer for field name\n",
      "2019-11-03 16:06:36,989 - INFO - metadata - Loading transformer CategoricalTransformer for field credit_card_number\n",
      "2019-11-03 16:06:37,006 - INFO - modeler - Modeling Complete\n"
     ]
    }
   ],
   "source": [
    "from sdv import SDV\n",
    "\n",
    "sdv = SDV()\n",
    "sdv.fit(metadata, tables)"
   ]
  },
  {
   "cell_type": "markdown",
   "metadata": {},
   "source": [
    "## Sample and compare results\n",
    "\n",
    "Now we are ready to samnple some data.\n",
    "\n",
    "We will sample data from tables `anon` and `normal` that are originated from the same exact dataframe as we have confirmed before. The behavior that we are expecting is that on the anonymized table, unique values on the columns `credit_card_number` and `name` are not a subset of the unique values of the same columns in the original data table"
   ]
  },
  {
   "cell_type": "code",
   "execution_count": 16,
   "metadata": {
    "scrolled": false
   },
   "outputs": [],
   "source": [
    "sampled = sdv.sample_all()"
   ]
  },
  {
   "cell_type": "code",
   "execution_count": 17,
   "metadata": {
    "scrolled": false
   },
   "outputs": [
    {
     "data": {
      "text/html": [
       "<div>\n",
       "<style scoped>\n",
       "    .dataframe tbody tr th:only-of-type {\n",
       "        vertical-align: middle;\n",
       "    }\n",
       "\n",
       "    .dataframe tbody tr th {\n",
       "        vertical-align: top;\n",
       "    }\n",
       "\n",
       "    .dataframe thead th {\n",
       "        text-align: right;\n",
       "    }\n",
       "</style>\n",
       "<table border=\"1\" class=\"dataframe\">\n",
       "  <thead>\n",
       "    <tr style=\"text-align: right;\">\n",
       "      <th></th>\n",
       "      <th>index</th>\n",
       "      <th>name</th>\n",
       "      <th>credit_card_number</th>\n",
       "    </tr>\n",
       "  </thead>\n",
       "  <tbody>\n",
       "    <tr>\n",
       "      <th>0</th>\n",
       "      <td>30</td>\n",
       "      <td>Connie</td>\n",
       "      <td>4892780642269054</td>\n",
       "    </tr>\n",
       "    <tr>\n",
       "      <th>1</th>\n",
       "      <td>31</td>\n",
       "      <td>Blake</td>\n",
       "      <td>4762337792635670</td>\n",
       "    </tr>\n",
       "    <tr>\n",
       "      <th>2</th>\n",
       "      <td>32</td>\n",
       "      <td>Blake</td>\n",
       "      <td>4762337792635670</td>\n",
       "    </tr>\n",
       "    <tr>\n",
       "      <th>3</th>\n",
       "      <td>33</td>\n",
       "      <td>Connie</td>\n",
       "      <td>4776292250767081</td>\n",
       "    </tr>\n",
       "    <tr>\n",
       "      <th>4</th>\n",
       "      <td>34</td>\n",
       "      <td>Connie</td>\n",
       "      <td>4776292250767081</td>\n",
       "    </tr>\n",
       "  </tbody>\n",
       "</table>\n",
       "</div>"
      ],
      "text/plain": [
       "   index    name credit_card_number\n",
       "0     30  Connie   4892780642269054\n",
       "1     31   Blake   4762337792635670\n",
       "2     32   Blake   4762337792635670\n",
       "3     33  Connie   4776292250767081\n",
       "4     34  Connie   4776292250767081"
      ]
     },
     "execution_count": 17,
     "metadata": {},
     "output_type": "execute_result"
    }
   ],
   "source": [
    "sampled['anonymized']"
   ]
  },
  {
   "cell_type": "markdown",
   "metadata": {},
   "source": [
    "Here we can see, that the `name` and `credit_card_number` have different values that on the original data, for exemple, in the names column, unique values have changed from `['Bill', 'Jeff', 'Warren']` to `['Jodi', 'David', 'Darrell']`. (Please note that this concrete values are from this execution, and running this notebook again, may yield different results)\n",
    "\n",
    "On the `credit_card_number` the difference is even more noticeable as they don't have keep the same format. This is not an issue as this data will be transfomed before being passed to the `Modeler` and the transformation for categorical values into numeric should yield close enough results.\n",
    "\n"
   ]
  },
  {
   "cell_type": "code",
   "execution_count": 18,
   "metadata": {
    "scrolled": false
   },
   "outputs": [
    {
     "data": {
      "text/html": [
       "<div>\n",
       "<style scoped>\n",
       "    .dataframe tbody tr th:only-of-type {\n",
       "        vertical-align: middle;\n",
       "    }\n",
       "\n",
       "    .dataframe tbody tr th {\n",
       "        vertical-align: top;\n",
       "    }\n",
       "\n",
       "    .dataframe thead th {\n",
       "        text-align: right;\n",
       "    }\n",
       "</style>\n",
       "<table border=\"1\" class=\"dataframe\">\n",
       "  <thead>\n",
       "    <tr style=\"text-align: right;\">\n",
       "      <th></th>\n",
       "      <th>index</th>\n",
       "      <th>name</th>\n",
       "      <th>credit_card_number</th>\n",
       "    </tr>\n",
       "  </thead>\n",
       "  <tbody>\n",
       "    <tr>\n",
       "      <th>0</th>\n",
       "      <td>30</td>\n",
       "      <td>Bill</td>\n",
       "      <td>9999999999999999</td>\n",
       "    </tr>\n",
       "    <tr>\n",
       "      <th>1</th>\n",
       "      <td>31</td>\n",
       "      <td>Jeff</td>\n",
       "      <td>9999999999999999</td>\n",
       "    </tr>\n",
       "    <tr>\n",
       "      <th>2</th>\n",
       "      <td>32</td>\n",
       "      <td>Bill</td>\n",
       "      <td>8888888888888888</td>\n",
       "    </tr>\n",
       "    <tr>\n",
       "      <th>3</th>\n",
       "      <td>33</td>\n",
       "      <td>Bill</td>\n",
       "      <td>9999999999999999</td>\n",
       "    </tr>\n",
       "    <tr>\n",
       "      <th>4</th>\n",
       "      <td>34</td>\n",
       "      <td>Jeff</td>\n",
       "      <td>1111222233334444</td>\n",
       "    </tr>\n",
       "  </tbody>\n",
       "</table>\n",
       "</div>"
      ],
      "text/plain": [
       "   index  name credit_card_number\n",
       "0     30  Bill   9999999999999999\n",
       "1     31  Jeff   9999999999999999\n",
       "2     32  Bill   8888888888888888\n",
       "3     33  Bill   9999999999999999\n",
       "4     34  Jeff   1111222233334444"
      ]
     },
     "execution_count": 18,
     "metadata": {},
     "output_type": "execute_result"
    }
   ],
   "source": [
    "sampled['normal']"
   ]
  }
 ],
 "metadata": {
  "kernelspec": {
   "display_name": "Python 3",
   "language": "python",
   "name": "python3"
  },
  "language_info": {
   "codemirror_mode": {
    "name": "ipython",
    "version": 3
   },
   "file_extension": ".py",
   "mimetype": "text/x-python",
   "name": "python",
   "nbconvert_exporter": "python",
   "pygments_lexer": "ipython3",
   "version": "3.6.8"
  }
 },
 "nbformat": 4,
 "nbformat_minor": 2
}
