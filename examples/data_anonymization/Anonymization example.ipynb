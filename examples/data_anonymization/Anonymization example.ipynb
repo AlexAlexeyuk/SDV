{
 "cells": [
  {
   "cell_type": "markdown",
   "metadata": {},
   "source": [
    "# DATA ANONYMIZATION\n",
    "\n",
    "## Introduction\n",
    "\n",
    "This notebook show how to use the anonymization feature with an small example. We will start by setting up the notebook, then we will create our dummy dataset and its metadata, and finally we will `model` and `sample` the data, checking the diferencies in both the data and the internal state of the objects.\n",
    "\n",
    "## Notebook preparation"
   ]
  },
  {
   "cell_type": "code",
   "execution_count": 1,
   "metadata": {},
   "outputs": [],
   "source": [
    "import json\n",
    "\n",
    "import numpy as np\n",
    "import pandas as pd\n",
    "import rdt\n",
    "\n",
    "from sdv import SDV"
   ]
  },
  {
   "cell_type": "markdown",
   "metadata": {},
   "source": [
    "## Creating dataset and metadata\n",
    "\n",
    "We are going to create a dataset of a single table containing three different columns : `primary_key`, `name` and `credit_card_number` and two different metadata, one that does use anonymization, and the other that it doesn't."
   ]
  },
  {
   "cell_type": "code",
   "execution_count": 9,
   "metadata": {},
   "outputs": [],
   "source": [
    "# Generating data for table.\n",
    "table_data = pd.DataFrame([\n",
    "    {\n",
    "        'index': 1,\n",
    "        'name': 'Bill',\n",
    "        'credit_card_number': '1111222233334444'\n",
    "    },\n",
    "    {\n",
    "        'index': 2,\n",
    "        'name': 'Jeff',\n",
    "        'credit_card_number': '0000000000000000'\n",
    "    },\n",
    "    {\n",
    "        'index': 2,\n",
    "        'name': 'Warren',\n",
    "        'credit_card_number': 'None'\n",
    "    },\n",
    "    {\n",
    "        'index': 2,\n",
    "        'name': 'Bill',\n",
    "        'credit_card_number': '9999999999999999'\n",
    "    },\n",
    "    {\n",
    "        'index': 2,\n",
    "        'name': 'Jeff',\n",
    "        'credit_card_number': '8888888888888888'\n",
    "    },\n",
    "])\n",
    "\n",
    "# Storing as CSV\n",
    "table_data.to_csv('table.csv', index=False, header=True)"
   ]
  },
  {
   "cell_type": "markdown",
   "metadata": {},
   "source": [
    "Now we are going to generate the metadata. There are, a part from the anonymization parameters, two major differences with the other example metadata:"
   ]
  },
  {
   "cell_type": "code",
   "execution_count": 10,
   "metadata": {},
   "outputs": [
    {
     "data": {
      "text/plain": [
       "{'fields': [{'name': 'name', 'type': 'categorical'},\n",
       "  {'name': 'credit_card_number', 'type': 'categorical'},\n",
       "  {'name': 'index',\n",
       "   'subtype': 'integer',\n",
       "   'type': 'number',\n",
       "   'regex': '^[0-9]{10}$'}],\n",
       " 'headers': True,\n",
       " 'name': 'normal',\n",
       " 'path': 'table.csv',\n",
       " 'primary_key': 'index',\n",
       " 'use': True}"
      ]
     },
     "execution_count": 10,
     "metadata": {},
     "output_type": "execute_result"
    }
   ],
   "source": [
    "normal_table_name = 'normal'\n",
    "normal_table_metadata = {\n",
    "    'fields': [\n",
    "        {\n",
    "            'name': 'name', \n",
    "            'type': 'categorical',\n",
    "        },\n",
    "        {\n",
    "            'name': 'credit_card_number',\n",
    "            'type': 'categorical',\n",
    "        },\n",
    "        {\n",
    "            'name': 'index',\n",
    "            'subtype': 'integer', \n",
    "            'type': 'number', \n",
    "            'regex': '^[0-9]{10}$'\n",
    "        },\n",
    "\n",
    "    ],\n",
    "    'headers': True,\n",
    "    'name': normal_table_name,\n",
    "    'path': 'table.csv',\n",
    "    'primary_key': 'index',\n",
    "    'use': True\n",
    "}\n",
    "normal_table_metadata"
   ]
  },
  {
   "cell_type": "code",
   "execution_count": 11,
   "metadata": {},
   "outputs": [
    {
     "data": {
      "text/plain": [
       "{'fields': [{'name': 'name',\n",
       "   'type': 'categorical',\n",
       "   'pii': True,\n",
       "   'pii_category': 'first_name'},\n",
       "  {'name': 'credit_card_number',\n",
       "   'type': 'categorical',\n",
       "   'pii': True,\n",
       "   'pii_category': ['credit_card_number', 'visa']},\n",
       "  {'name': 'index',\n",
       "   'subtype': 'integer',\n",
       "   'type': 'number',\n",
       "   'regex': '^[0-9]{10}$'}],\n",
       " 'headers': True,\n",
       " 'name': 'anon',\n",
       " 'path': 'table.csv',\n",
       " 'primary_key': 'index',\n",
       " 'use': True}"
      ]
     },
     "execution_count": 11,
     "metadata": {},
     "output_type": "execute_result"
    }
   ],
   "source": [
    "anon_table_name = 'anon'\n",
    "anon_table_metadata = {\n",
    "    'fields': [\n",
    "        {\n",
    "            'name': 'name', \n",
    "            'type': 'categorical',\n",
    "            'pii': True,\n",
    "            'pii_category': 'first_name'\n",
    "        },\n",
    "        {\n",
    "            'name': 'credit_card_number', \n",
    "            'type': 'categorical',\n",
    "            'pii': True,\n",
    "            'pii_category': ['credit_card_number', 'visa']\n",
    "        },\n",
    "        {\n",
    "            'name': 'index', \n",
    "            'subtype': 'integer', \n",
    "            'type': 'number', \n",
    "            'regex': '^[0-9]{10}$'\n",
    "        },\n",
    "\n",
    "    ],\n",
    "    'headers': True,\n",
    "    'name': anon_table_name,\n",
    "    'path': 'table.csv',\n",
    "    'primary_key': 'index',\n",
    "    'use': True\n",
    "}\n",
    "anon_table_metadata"
   ]
  },
  {
   "cell_type": "code",
   "execution_count": 12,
   "metadata": {},
   "outputs": [],
   "source": [
    "metadata = {\n",
    "    'path': '',\n",
    "    'tables': [\n",
    "        anon_table_metadata,\n",
    "        normal_table_metadata\n",
    "    ]\n",
    "}\n",
    "\n",
    "metadata_filename = 'metadata.json'\n",
    "with open(metadata_filename, 'w') as f:\n",
    "    json.dump(metadata, f)"
   ]
  },
  {
   "cell_type": "markdown",
   "metadata": {},
   "source": [
    "Now we have all that we needed in order to model and sample our example dataset, that is:\n",
    "\n",
    "- A table of data stored as `table.csv` file\n",
    "- Two table metadata, both **using to the same table** , but only **one of them anonymizing data**, and each of them using a different name.\n",
    "- A full metadata specification, including the table metadata mentioned above, stored as `metadata.json`\n",
    "\n",
    "\n",
    "# Modelling the dataset\n",
    "\n",
    "\n",
    "Now that we have prepared our data and metadata files is time to model and sample them. To do so, we will:\n",
    "\n",
    "1. Create an instance of `SDV`.\n",
    "2. Model the database calling its `fit` method.\n",
    "3. Generate samples for each table."
   ]
  },
  {
   "cell_type": "code",
   "execution_count": 13,
   "metadata": {},
   "outputs": [
    {
     "name": "stderr",
     "output_type": "stream",
     "text": [
      "INFO - Modeling anon\n",
      "INFO - Modeling normal\n",
      "INFO - Modeling Complete\n"
     ]
    }
   ],
   "source": [
    "from sdv import SDV\n",
    "\n",
    "sdv = SDV(metadata_filename)\n",
    "sdv.fit()"
   ]
  },
  {
   "cell_type": "markdown",
   "metadata": {},
   "source": [
    "## Sample and compare results\n",
    "\n",
    "Now we are ready to samnple some data.\n",
    "\n",
    "We will sample data from tables `anon` and `normal` that are originated from the same exact dataframe as we have confirmed before. The behavior that we are expecting is that on the anonymized table, unique values on the columns `credit_card_number` and `name` are not a subset of the unique values of the same columns in the original data table"
   ]
  },
  {
   "cell_type": "code",
   "execution_count": 85,
   "metadata": {
    "scrolled": true
   },
   "outputs": [
    {
     "data": {
      "text/html": [
       "<div>\n",
       "<style scoped>\n",
       "    .dataframe tbody tr th:only-of-type {\n",
       "        vertical-align: middle;\n",
       "    }\n",
       "\n",
       "    .dataframe tbody tr th {\n",
       "        vertical-align: top;\n",
       "    }\n",
       "\n",
       "    .dataframe thead th {\n",
       "        text-align: right;\n",
       "    }\n",
       "</style>\n",
       "<table border=\"1\" class=\"dataframe\">\n",
       "  <thead>\n",
       "    <tr style=\"text-align: right;\">\n",
       "      <th></th>\n",
       "      <th>name</th>\n",
       "      <th>credit_card_number</th>\n",
       "      <th>index</th>\n",
       "    </tr>\n",
       "  </thead>\n",
       "  <tbody>\n",
       "    <tr>\n",
       "      <th>0</th>\n",
       "      <td>Michael</td>\n",
       "      <td>4274553704751279</td>\n",
       "      <td>590</td>\n",
       "    </tr>\n",
       "    <tr>\n",
       "      <th>1</th>\n",
       "      <td>Laurie</td>\n",
       "      <td>4274553704751279</td>\n",
       "      <td>591</td>\n",
       "    </tr>\n",
       "    <tr>\n",
       "      <th>2</th>\n",
       "      <td>Michael</td>\n",
       "      <td>4274553704751279</td>\n",
       "      <td>592</td>\n",
       "    </tr>\n",
       "    <tr>\n",
       "      <th>3</th>\n",
       "      <td>Michael</td>\n",
       "      <td>4274553704751279</td>\n",
       "      <td>593</td>\n",
       "    </tr>\n",
       "    <tr>\n",
       "      <th>4</th>\n",
       "      <td>Michael</td>\n",
       "      <td>4100970095888785</td>\n",
       "      <td>594</td>\n",
       "    </tr>\n",
       "    <tr>\n",
       "      <th>5</th>\n",
       "      <td>Michael</td>\n",
       "      <td>4274553704751279</td>\n",
       "      <td>595</td>\n",
       "    </tr>\n",
       "    <tr>\n",
       "      <th>6</th>\n",
       "      <td>Michael</td>\n",
       "      <td>4274553704751279</td>\n",
       "      <td>596</td>\n",
       "    </tr>\n",
       "    <tr>\n",
       "      <th>7</th>\n",
       "      <td>Caleb</td>\n",
       "      <td>4861835084655447</td>\n",
       "      <td>597</td>\n",
       "    </tr>\n",
       "    <tr>\n",
       "      <th>8</th>\n",
       "      <td>Caleb</td>\n",
       "      <td>4100970095888785</td>\n",
       "      <td>598</td>\n",
       "    </tr>\n",
       "    <tr>\n",
       "      <th>9</th>\n",
       "      <td>Michael</td>\n",
       "      <td>4962124764481087</td>\n",
       "      <td>599</td>\n",
       "    </tr>\n",
       "  </tbody>\n",
       "</table>\n",
       "</div>"
      ],
      "text/plain": [
       "      name credit_card_number  index\n",
       "0  Michael   4274553704751279    590\n",
       "1   Laurie   4274553704751279    591\n",
       "2  Michael   4274553704751279    592\n",
       "3  Michael   4274553704751279    593\n",
       "4  Michael   4100970095888785    594\n",
       "5  Michael   4274553704751279    595\n",
       "6  Michael   4274553704751279    596\n",
       "7    Caleb   4861835084655447    597\n",
       "8    Caleb   4100970095888785    598\n",
       "9  Michael   4962124764481087    599"
      ]
     },
     "execution_count": 85,
     "metadata": {},
     "output_type": "execute_result"
    }
   ],
   "source": [
    "anon_sampled = sdv.sample_rows('anon', 10)\n",
    "anon_sampled['anon']"
   ]
  },
  {
   "cell_type": "markdown",
   "metadata": {},
   "source": [
    "Here we can see, that the `name` and `credit_card_number` have different values that on the original data, for exemple, in the names column, unique values have changed from `['Bill', 'Jeff', 'Warren']` to `['Jodi', 'David', 'Darrell']`. (Please note that this concrete values are from this execution, and running this notebook again, may yield different results)\n",
    "\n",
    "On the `credit_card_number` the difference is even more noticeable as they don't have keep the same format. This is not an issue as this data will be transfomed before being passed to the `Modeler` and the transformation for categorical values into numeric should yield close enough results.\n",
    "\n"
   ]
  },
  {
   "cell_type": "code",
   "execution_count": 87,
   "metadata": {
    "scrolled": true
   },
   "outputs": [
    {
     "data": {
      "text/html": [
       "<div>\n",
       "<style scoped>\n",
       "    .dataframe tbody tr th:only-of-type {\n",
       "        vertical-align: middle;\n",
       "    }\n",
       "\n",
       "    .dataframe tbody tr th {\n",
       "        vertical-align: top;\n",
       "    }\n",
       "\n",
       "    .dataframe thead th {\n",
       "        text-align: right;\n",
       "    }\n",
       "</style>\n",
       "<table border=\"1\" class=\"dataframe\">\n",
       "  <thead>\n",
       "    <tr style=\"text-align: right;\">\n",
       "      <th></th>\n",
       "      <th>name</th>\n",
       "      <th>credit_card_number</th>\n",
       "      <th>index</th>\n",
       "    </tr>\n",
       "  </thead>\n",
       "  <tbody>\n",
       "    <tr>\n",
       "      <th>0</th>\n",
       "      <td>Jeff</td>\n",
       "      <td>1111222233334444</td>\n",
       "      <td>130</td>\n",
       "    </tr>\n",
       "    <tr>\n",
       "      <th>1</th>\n",
       "      <td>Jeff</td>\n",
       "      <td>9999999999999999</td>\n",
       "      <td>131</td>\n",
       "    </tr>\n",
       "    <tr>\n",
       "      <th>2</th>\n",
       "      <td>Bill</td>\n",
       "      <td>1111222233334444</td>\n",
       "      <td>132</td>\n",
       "    </tr>\n",
       "    <tr>\n",
       "      <th>3</th>\n",
       "      <td>Bill</td>\n",
       "      <td>1111222233334444</td>\n",
       "      <td>133</td>\n",
       "    </tr>\n",
       "    <tr>\n",
       "      <th>4</th>\n",
       "      <td>Warren</td>\n",
       "      <td>9999999999999999</td>\n",
       "      <td>134</td>\n",
       "    </tr>\n",
       "    <tr>\n",
       "      <th>5</th>\n",
       "      <td>Jeff</td>\n",
       "      <td>0000000000000000</td>\n",
       "      <td>135</td>\n",
       "    </tr>\n",
       "    <tr>\n",
       "      <th>6</th>\n",
       "      <td>Jeff</td>\n",
       "      <td>9999999999999999</td>\n",
       "      <td>136</td>\n",
       "    </tr>\n",
       "    <tr>\n",
       "      <th>7</th>\n",
       "      <td>Jeff</td>\n",
       "      <td>None</td>\n",
       "      <td>137</td>\n",
       "    </tr>\n",
       "    <tr>\n",
       "      <th>8</th>\n",
       "      <td>Jeff</td>\n",
       "      <td>9999999999999999</td>\n",
       "      <td>138</td>\n",
       "    </tr>\n",
       "    <tr>\n",
       "      <th>9</th>\n",
       "      <td>Bill</td>\n",
       "      <td>8888888888888888</td>\n",
       "      <td>139</td>\n",
       "    </tr>\n",
       "  </tbody>\n",
       "</table>\n",
       "</div>"
      ],
      "text/plain": [
       "     name credit_card_number  index\n",
       "0    Jeff   1111222233334444    130\n",
       "1    Jeff   9999999999999999    131\n",
       "2    Bill   1111222233334444    132\n",
       "3    Bill   1111222233334444    133\n",
       "4  Warren   9999999999999999    134\n",
       "5    Jeff   0000000000000000    135\n",
       "6    Jeff   9999999999999999    136\n",
       "7    Jeff               None    137\n",
       "8    Jeff   9999999999999999    138\n",
       "9    Bill   8888888888888888    139"
      ]
     },
     "execution_count": 87,
     "metadata": {},
     "output_type": "execute_result"
    }
   ],
   "source": [
    "normal_sampled = sdv.sample_rows('normal', 10)\n",
    "normal_sampled['normal']"
   ]
  }
 ],
 "metadata": {
  "kernelspec": {
   "display_name": "Python 3",
   "language": "python",
   "name": "python3"
  },
  "language_info": {
   "codemirror_mode": {
    "name": "ipython",
    "version": 3
   },
   "file_extension": ".py",
   "mimetype": "text/x-python",
   "name": "python",
   "nbconvert_exporter": "python",
   "pygments_lexer": "ipython3",
   "version": "3.6.8"
  }
 },
 "nbformat": 4,
 "nbformat_minor": 2
}
