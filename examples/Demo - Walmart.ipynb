{
 "cells": [
  {
   "cell_type": "markdown",
   "metadata": {},
   "source": [
    "### Demo \"walmart\"\n",
    "\n",
    "In this notebook, we will show you step-by-step how to download the \"Walmart\" dataset, explain the structure and sample the data.\n",
    "\n",
    "The \"Walmart\" dataset can be found in [Kaggle](https://www.kaggle.com/c/walmart-recruiting-store-sales-forecasting/data). This dataset contains 3 tables: \"stores\", \"functions\" and \"depts\"."
   ]
  },
  {
   "cell_type": "markdown",
   "metadata": {},
   "source": [
    "**stores**\n",
    "\n",
    "It is the main table of the dataset, its primary key is \"Store\".\n",
    "\n",
    "Contains information about the type and size of each store.\n",
    "\n",
    "| Field | Type        | Subtype | Additional Properties |\n",
    "|-------|-------------|---------|-----------------------|\n",
    "| Store | id          | integer |                       |\n",
    "| Size  | numerical   | integer |                       |\n",
    "| Type  | categorical |         |                       |"
   ]
  },
  {
   "cell_type": "markdown",
   "metadata": {},
   "source": [
    "**features**\n",
    "\n",
    "It is a children's table of \"stores\", it has no primary key and its foreign key is \"Store\".\n",
    "\n",
    "Contains additional store information on a specific date.\n",
    "\n",
    "| Fields       | Type      | Subtype | Additional Properties       |\n",
    "|--------------|-----------|---------|-----------------------------|\n",
    "| Store        | id        | integer | foreign key (stores.Store)  |\n",
    "| Date         | datetime  |         | format: \"%Y-%m-%d\"          |\n",
    "| IsHoliday    | boolean   |         |                             |\n",
    "| Fuel_Price   | numerical | float   |                             |\n",
    "| Unemployment | numerical | float   |                             |\n",
    "| Temperature  | numerical | float   |                             |\n",
    "| CPI          | numerical | float   |                             |\n",
    "| MarkDown1    | numerical | float   |                             |\n",
    "| MarkDown2    | numerical | float   |                             |\n",
    "| MarkDown3    | numerical | float   |                             |\n",
    "| MarkDown4    | numerical | float   |                             |\n",
    "| MarkDown5    | numerical | float   |                             |"
   ]
  },
  {
   "cell_type": "markdown",
   "metadata": {},
   "source": [
    "**depts**\n",
    "\n",
    "It's another \"store\" children's table, at Kaggle the file is called \"train.csv\", but we've renamed it as \"depts.\" It has no primary key and its foreign key is \"store\".\n",
    "\n",
    "Contains information about departments on a date range between 2010-02-05 and 2012-11-01\n",
    "\n",
    "| Fields       | Type      | Subtype | Additional Properties        |\n",
    "|--------------|-----------|---------|------------------------------|\n",
    "| Store        | id        | integer | foreign key (stores.Stores)  |\n",
    "| Date         | datetime  |         | format: \"%Y-%m-%d\"           |\n",
    "| Weekly_Sales | numerical | float   |                              |\n",
    "| Dept         | numerical | integer |                              |\n",
    "| IsHoliday    | boolean   |         |                              |"
   ]
  },
  {
   "cell_type": "markdown",
   "metadata": {},
   "source": [
    "### 1. Download the demo data\n",
    "\n",
    "To download the demo data we will use the `load_demo` method. In this example we will use the **walmart** dataset. Datasets will be downloaded from an [Amazon S3 bucket](http://sdv-datasets.s3.amazonaws.com/index.html)."
   ]
  },
  {
   "cell_type": "code",
   "execution_count": null,
   "metadata": {
    "scrolled": true
   },
   "outputs": [],
   "source": [
    "from sdv import load_demo\n",
    "\n",
    "metadata, tables = load_demo(dataset_name='walmart', metadata=True)"
   ]
  },
  {
   "cell_type": "markdown",
   "metadata": {},
   "source": [
    "### 2. Create an instance of SDV\n",
    "\n",
    "Once the data is downloaded, we can create a new instance of SDV."
   ]
  },
  {
   "cell_type": "code",
   "execution_count": null,
   "metadata": {},
   "outputs": [],
   "source": [
    "from sdv import SDV\n",
    "\n",
    "sdv = SDV()"
   ]
  },
  {
   "cell_type": "markdown",
   "metadata": {},
   "source": [
    "### 3. Train the model\n",
    "\n",
    "Once the SDV object has been created, we must fit the model.\n",
    "\n",
    "We just need to call the \"fit\" method with the previous metadata and the tables from the csv files."
   ]
  },
  {
   "cell_type": "code",
   "execution_count": null,
   "metadata": {},
   "outputs": [],
   "source": [
    "sdv.fit(metadata, tables=tables)"
   ]
  },
  {
   "cell_type": "markdown",
   "metadata": {},
   "source": [
    "### 4. Data sampling\n",
    "\n",
    "After fitting the model, we are ready to generate data. To create data for all the tables we will call \"sample_all\" method."
   ]
  },
  {
   "cell_type": "code",
   "execution_count": null,
   "metadata": {},
   "outputs": [],
   "source": [
    "samples = sdv.sample_all()"
   ]
  },
  {
   "cell_type": "code",
   "execution_count": null,
   "metadata": {},
   "outputs": [],
   "source": [
    "samples['stores'].head()"
   ]
  },
  {
   "cell_type": "code",
   "execution_count": null,
   "metadata": {},
   "outputs": [],
   "source": [
    "samples['features'].head()"
   ]
  },
  {
   "cell_type": "code",
   "execution_count": null,
   "metadata": {},
   "outputs": [],
   "source": [
    "samples['depts'].head()"
   ]
  },
  {
   "cell_type": "markdown",
   "metadata": {},
   "source": [
    "This function will return a dictionary with all tables in the dataset with a dataframe for each table."
   ]
  },
  {
   "cell_type": "markdown",
   "metadata": {},
   "source": [
    "Alternatively, we can sample, table by table, by calling the \"sample\" method with the table name and the number of rows to sample."
   ]
  },
  {
   "cell_type": "code",
   "execution_count": null,
   "metadata": {},
   "outputs": [],
   "source": [
    "sdv.sample('stores', 5)"
   ]
  },
  {
   "cell_type": "code",
   "execution_count": null,
   "metadata": {},
   "outputs": [],
   "source": [
    "sdv.sample('features', 5)"
   ]
  },
  {
   "cell_type": "code",
   "execution_count": null,
   "metadata": {},
   "outputs": [],
   "source": [
    "sdv.sample('depts', 5)"
   ]
  }
 ],
 "metadata": {
  "kernelspec": {
   "display_name": "Python 3",
   "language": "python",
   "name": "python3"
  },
  "language_info": {
   "codemirror_mode": {
    "name": "ipython",
    "version": 3
   },
   "file_extension": ".py",
   "mimetype": "text/x-python",
   "name": "python",
   "nbconvert_exporter": "python",
   "pygments_lexer": "ipython3",
   "version": "3.6.8"
  }
 },
 "nbformat": 4,
 "nbformat_minor": 2
}
