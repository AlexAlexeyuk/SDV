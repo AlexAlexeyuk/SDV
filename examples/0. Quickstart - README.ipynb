{
 "cells": [
  {
   "cell_type": "code",
   "execution_count": 1,
   "metadata": {},
   "outputs": [],
   "source": [
    "from sdv import load_demo"
   ]
  },
  {
   "cell_type": "code",
   "execution_count": 3,
   "metadata": {},
   "outputs": [],
   "source": [
    "metadata, tables = load_demo(metadata=True)"
   ]
  },
  {
   "cell_type": "code",
   "execution_count": 4,
   "metadata": {},
   "outputs": [
    {
     "data": {
      "text/plain": [
       "{'tables': {'users': {'primary_key': 'user_id',\n",
       "   'fields': {'user_id': {'type': 'id', 'subtype': 'integer'},\n",
       "    'country': {'type': 'categorical'},\n",
       "    'gender': {'type': 'categorical'},\n",
       "    'age': {'type': 'numerical', 'subtype': 'integer'}}},\n",
       "  'sessions': {'primary_key': 'session_id',\n",
       "   'fields': {'session_id': {'type': 'id', 'subtype': 'integer'},\n",
       "    'user_id': {'ref': {'field': 'user_id', 'table': 'users'},\n",
       "     'type': 'id',\n",
       "     'subtype': 'integer'},\n",
       "    'device': {'type': 'categorical'},\n",
       "    'os': {'type': 'categorical'}}},\n",
       "  'transactions': {'primary_key': 'transaction_id',\n",
       "   'fields': {'transaction_id': {'type': 'id', 'subtype': 'integer'},\n",
       "    'session_id': {'ref': {'field': 'session_id', 'table': 'sessions'},\n",
       "     'type': 'id',\n",
       "     'subtype': 'integer'},\n",
       "    'timestamp': {'type': 'datetime', 'format': '%Y-%m-%d'},\n",
       "    'amount': {'type': 'numerical', 'subtype': 'float'},\n",
       "    'approved': {'type': 'boolean'}}}}}"
      ]
     },
     "execution_count": 4,
     "metadata": {},
     "output_type": "execute_result"
    }
   ],
   "source": [
    "metadata.to_dict()"
   ]
  },
  {
   "cell_type": "code",
   "execution_count": 5,
   "metadata": {},
   "outputs": [
    {
     "data": {
      "text/plain": [
       "{'users':    user_id country gender  age\n",
       " 0        0     USA      M   34\n",
       " 1        1      UK      F   23\n",
       " 2        2      ES   None   44\n",
       " 3        3      UK      M   22\n",
       " 4        4     USA      F   54\n",
       " 5        5      DE      M   57\n",
       " 6        6      BG      F   45\n",
       " 7        7      ES   None   41\n",
       " 8        8      FR      F   23\n",
       " 9        9      UK   None   30,\n",
       " 'sessions':    session_id  user_id  device       os\n",
       " 0           0        0  mobile  android\n",
       " 1           1        1  tablet      ios\n",
       " 2           2        1  tablet  android\n",
       " 3           3        2  mobile  android\n",
       " 4           4        4  mobile      ios\n",
       " 5           5        5  mobile  android\n",
       " 6           6        6  mobile      ios\n",
       " 7           7        6  tablet      ios\n",
       " 8           8        6  mobile      ios\n",
       " 9           9        8  tablet      ios,\n",
       " 'transactions':    transaction_id  session_id           timestamp  amount  approved\n",
       " 0               0           0 2019-01-01 12:34:32   100.0      True\n",
       " 1               1           0 2019-01-01 12:42:21    55.3      True\n",
       " 2               2           1 2019-01-07 17:23:11    79.5      True\n",
       " 3               3           3 2019-01-10 11:08:57   112.1     False\n",
       " 4               4           5 2019-01-10 21:54:08   110.0     False\n",
       " 5               5           5 2019-01-11 11:21:20    76.3      True\n",
       " 6               6           7 2019-01-22 14:44:10    89.5      True\n",
       " 7               7           8 2019-01-23 10:14:09   132.1     False\n",
       " 8               8           9 2019-01-27 16:09:17    68.0      True\n",
       " 9               9           9 2019-01-29 12:10:48    99.9      True}"
      ]
     },
     "execution_count": 5,
     "metadata": {},
     "output_type": "execute_result"
    }
   ],
   "source": [
    "tables"
   ]
  },
  {
   "cell_type": "code",
   "execution_count": 6,
   "metadata": {},
   "outputs": [
    {
     "name": "stderr",
     "output_type": "stream",
     "text": [
      "2019-11-25 16:35:27,509 - INFO - modeler - Modeling users\n",
      "2019-11-25 16:35:27,510 - INFO - metadata - Loading transformer CategoricalTransformer for field country\n",
      "2019-11-25 16:35:27,511 - INFO - metadata - Loading transformer CategoricalTransformer for field gender\n",
      "2019-11-25 16:35:27,512 - INFO - metadata - Loading transformer NumericalTransformer for field age\n",
      "2019-11-25 16:35:27,539 - INFO - modeler - Modeling sessions\n",
      "2019-11-25 16:35:27,539 - INFO - metadata - Loading transformer CategoricalTransformer for field device\n",
      "2019-11-25 16:35:27,540 - INFO - metadata - Loading transformer CategoricalTransformer for field os\n",
      "2019-11-25 16:35:27,551 - INFO - modeler - Modeling transactions\n",
      "2019-11-25 16:35:27,552 - INFO - metadata - Loading transformer DatetimeTransformer for field timestamp\n",
      "2019-11-25 16:35:27,552 - INFO - metadata - Loading transformer NumericalTransformer for field amount\n",
      "2019-11-25 16:35:27,552 - INFO - metadata - Loading transformer BooleanTransformer for field approved\n",
      "/home/xals/.virtualenvs/SDV/lib/python3.6/site-packages/pandas/core/frame.py:7143: RuntimeWarning: Degrees of freedom <= 0 for slice\n",
      "  baseCov = np.cov(mat.T)\n",
      "/home/xals/.virtualenvs/SDV/lib/python3.6/site-packages/numpy/lib/function_base.py:2451: RuntimeWarning: divide by zero encountered in true_divide\n",
      "  c *= np.true_divide(1, fact)\n",
      "/home/xals/.virtualenvs/SDV/lib/python3.6/site-packages/numpy/lib/function_base.py:2451: RuntimeWarning: invalid value encountered in multiply\n",
      "  c *= np.true_divide(1, fact)\n",
      "2019-11-25 16:35:28,299 - INFO - modeler - Modeling Complete\n"
     ]
    }
   ],
   "source": [
    "from sdv import SDV\n",
    "\n",
    "sdv = SDV()\n",
    "sdv.fit(metadata, tables)"
   ]
  },
  {
   "cell_type": "code",
   "execution_count": 7,
   "metadata": {
    "scrolled": false
   },
   "outputs": [
    {
     "data": {
      "text/plain": [
       "{'users':    user_id country gender  age\n",
       " 0        0      FR      M   41\n",
       " 1        1      UK      M   48\n",
       " 2        2      FR      F   61\n",
       " 3        3      ES      F   48\n",
       " 4        4     USA    NaN   14\n",
       " 5        5      UK    NaN   40\n",
       " 6        6      ES    NaN   37\n",
       " 7        7      DE    NaN   52\n",
       " 8        8      ES      F   45\n",
       " 9        9      ES      F   46,\n",
       " 'sessions':    session_id  user_id  device       os\n",
       " 0           0        0  mobile  android\n",
       " 1           1        0  mobile  android\n",
       " 2           2        2  mobile      ios\n",
       " 3           3        2  mobile      ios\n",
       " 4           4        4  mobile      ios\n",
       " 5           5        7  mobile  android\n",
       " 6           6        8  mobile  android\n",
       " 7           7        9  mobile      ios\n",
       " 8           8        9  mobile      ios,\n",
       " 'transactions':     transaction_id  session_id                     timestamp      amount  \\\n",
       " 0                0           0 2019-01-13 09:04:43.841495296  104.653370   \n",
       " 1                1           1 2019-01-13 09:05:10.478101248  110.258541   \n",
       " 2                2           1 2019-01-13 09:05:10.478101248  111.537307   \n",
       " 3                3           0 2019-01-13 09:04:43.834843136  107.559958   \n",
       " 4                4           1 2019-01-13 09:05:10.478102528  105.894175   \n",
       " 5                5           1 2019-01-13 09:05:10.478103296   91.163287   \n",
       " 6                6           0 2019-01-13 09:04:43.865285888   89.776084   \n",
       " 7                7           1 2019-01-13 09:05:10.478100992  104.319781   \n",
       " 8                8           1 2019-01-13 09:05:10.478101248  110.948264   \n",
       " 9                9           0 2019-01-13 09:04:43.851251712   97.959864   \n",
       " 10              10           1 2019-01-13 09:05:10.478102528   90.812841   \n",
       " 11              11           1 2019-01-13 09:05:10.478102528  104.189625   \n",
       " 12              12           0 2019-01-13 09:04:43.840671744  101.818085   \n",
       " 13              13           1 2019-01-13 09:05:10.478102016  100.180457   \n",
       " 14              14           1 2019-01-13 09:05:10.478101248  108.841044   \n",
       " 15              15           4 2019-01-08 15:20:48.908520960   80.647928   \n",
       " 16              16           0 2019-01-13 09:04:43.839424512  102.095410   \n",
       " 17              17           1 2019-01-13 09:05:10.478103040   80.479839   \n",
       " 18              18           1 2019-01-13 09:05:10.478102272   93.136450   \n",
       " 19              19           4 2019-01-08 15:20:48.644995584   91.889224   \n",
       " 20              20           0 2019-01-13 09:04:43.854621184   96.178556   \n",
       " 21              21           1 2019-01-13 09:05:10.478101248  112.241266   \n",
       " 22              22           1 2019-01-13 09:05:10.478102016  103.893851   \n",
       " 23              23           4 2019-01-08 15:20:48.357267968   97.523135   \n",
       " 24              24           0 2019-01-13 09:04:43.830457344  111.319295   \n",
       " 25              25           1 2019-01-13 09:05:10.478102528   91.407533   \n",
       " 26              26           1 2019-01-13 09:05:10.478102016   98.601993   \n",
       " 27              27           4 2019-01-08 15:20:48.778796288   87.142150   \n",
       " 28              28           5 2019-01-14 16:49:33.582022144  110.427982   \n",
       " 29              29           5 2019-01-14 16:49:33.581722624  105.718311   \n",
       " 30              30           5 2019-01-14 16:49:33.581889536  107.819611   \n",
       " 31              31           0 2019-01-13 09:04:43.841137408  103.881774   \n",
       " 32              32           1 2019-01-13 09:05:10.478102528   94.277283   \n",
       " 33              33           1 2019-01-13 09:05:10.478102272   93.259689   \n",
       " 34              34           4 2019-01-08 15:20:48.331752192  101.205109   \n",
       " 35              35           5 2019-01-14 16:49:33.581950720   94.527853   \n",
       " 36              36           5 2019-01-14 16:49:33.582152960   97.431130   \n",
       " 37              37           5 2019-01-14 16:49:33.581928448   94.727554   \n",
       " 38              38           6 2019-01-11 20:59:52.497328640  108.141832   \n",
       " 39              39           6 2019-01-11 20:59:52.497328640  113.729753   \n",
       " 40              40           0 2019-01-13 09:04:43.829956096  109.721716   \n",
       " 41              41           1 2019-01-13 09:05:10.478102016   95.369571   \n",
       " 42              42           1 2019-01-13 09:05:10.478103040   88.588423   \n",
       " 43              43           4 2019-01-08 15:20:48.729502208   87.429172   \n",
       " 44              44           5 2019-01-14 16:49:33.581812992   85.816540   \n",
       " 45              45           5 2019-01-14 16:49:33.581463552  106.088556   \n",
       " 46              46           5 2019-01-14 16:49:33.581943552   96.960598   \n",
       " 47              47           6 2019-01-11 20:59:52.497328640  113.868324   \n",
       " 48              48           6 2019-01-11 20:59:52.497328640  111.495581   \n",
       " 49              49           7 2019-01-12 13:08:16.572689152   89.807801   \n",
       " 50              50           8 2019-01-12 13:08:14.085691392   95.836909   \n",
       " \n",
       "     approved  \n",
       " 0       True  \n",
       " 1       True  \n",
       " 2       True  \n",
       " 3       True  \n",
       " 4       True  \n",
       " 5       True  \n",
       " 6       True  \n",
       " 7       True  \n",
       " 8       True  \n",
       " 9      False  \n",
       " 10     False  \n",
       " 11      True  \n",
       " 12      True  \n",
       " 13      True  \n",
       " 14      True  \n",
       " 15     False  \n",
       " 16      True  \n",
       " 17      True  \n",
       " 18      True  \n",
       " 19      True  \n",
       " 20     False  \n",
       " 21      True  \n",
       " 22      True  \n",
       " 23     False  \n",
       " 24      True  \n",
       " 25     False  \n",
       " 26      True  \n",
       " 27      True  \n",
       " 28      True  \n",
       " 29      True  \n",
       " 30      True  \n",
       " 31      True  \n",
       " 32      True  \n",
       " 33     False  \n",
       " 34     False  \n",
       " 35      True  \n",
       " 36      True  \n",
       " 37      True  \n",
       " 38      True  \n",
       " 39      True  \n",
       " 40      True  \n",
       " 41      True  \n",
       " 42      True  \n",
       " 43      True  \n",
       " 44      True  \n",
       " 45      True  \n",
       " 46      True  \n",
       " 47      True  \n",
       " 48      True  \n",
       " 49      True  \n",
       " 50      True  }"
      ]
     },
     "execution_count": 7,
     "metadata": {},
     "output_type": "execute_result"
    }
   ],
   "source": [
    "sdv.sample_all(10)"
   ]
  }
 ],
 "metadata": {
  "kernelspec": {
   "display_name": "Python 3",
   "language": "python",
   "name": "python3"
  },
  "language_info": {
   "codemirror_mode": {
    "name": "ipython",
    "version": 3
   },
   "file_extension": ".py",
   "mimetype": "text/x-python",
   "name": "python",
   "nbconvert_exporter": "python",
   "pygments_lexer": "ipython3",
   "version": "3.6.8"
  }
 },
 "nbformat": 4,
 "nbformat_minor": 2
}
